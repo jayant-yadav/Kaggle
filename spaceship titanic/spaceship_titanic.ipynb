{
 "cells": [
  {
   "cell_type": "code",
   "execution_count": 169,
   "metadata": {},
   "outputs": [],
   "source": [
    "import pandas as pd\n",
    "import numpy as np\n",
    "from matplotlib import pyplot\n",
    "\n",
    "from sklearn.model_selection import train_test_split\n",
    "from sklearn.metrics import accuracy_score\n",
    "from sklearn.ensemble import RandomForestClassifier\n",
    "from sklearn.model_selection import GridSearchCV\n",
    "from lazypredict.Supervised import LazyClassifier\n",
    "import lightgbm as lgbm"
   ]
  },
  {
   "cell_type": "code",
   "execution_count": 91,
   "metadata": {},
   "outputs": [
    {
     "name": "stdout",
     "output_type": "stream",
     "text": [
      "(8693, 14) (4277, 13)\n",
      "PassengerId      object\n",
      "HomePlanet       object\n",
      "CryoSleep        object\n",
      "Cabin            object\n",
      "Destination      object\n",
      "Age             float64\n",
      "VIP              object\n",
      "RoomService     float64\n",
      "FoodCourt       float64\n",
      "ShoppingMall    float64\n",
      "Spa             float64\n",
      "VRDeck          float64\n",
      "Name             object\n",
      "Transported        bool\n",
      "dtype: object\n"
     ]
    },
    {
     "data": {
      "text/html": [
       "<style type=\"text/css\">\n",
       "</style>\n",
       "<table id=\"T_0e952\">\n",
       "  <thead>\n",
       "    <tr>\n",
       "      <th class=\"blank level0\" >&nbsp;</th>\n",
       "      <th id=\"T_0e952_level0_col0\" class=\"col_heading level0 col0\" >PassengerId</th>\n",
       "      <th id=\"T_0e952_level0_col1\" class=\"col_heading level0 col1\" >HomePlanet</th>\n",
       "      <th id=\"T_0e952_level0_col2\" class=\"col_heading level0 col2\" >CryoSleep</th>\n",
       "      <th id=\"T_0e952_level0_col3\" class=\"col_heading level0 col3\" >Cabin</th>\n",
       "      <th id=\"T_0e952_level0_col4\" class=\"col_heading level0 col4\" >Destination</th>\n",
       "      <th id=\"T_0e952_level0_col5\" class=\"col_heading level0 col5\" >Age</th>\n",
       "      <th id=\"T_0e952_level0_col6\" class=\"col_heading level0 col6\" >VIP</th>\n",
       "      <th id=\"T_0e952_level0_col7\" class=\"col_heading level0 col7\" >RoomService</th>\n",
       "      <th id=\"T_0e952_level0_col8\" class=\"col_heading level0 col8\" >FoodCourt</th>\n",
       "      <th id=\"T_0e952_level0_col9\" class=\"col_heading level0 col9\" >ShoppingMall</th>\n",
       "      <th id=\"T_0e952_level0_col10\" class=\"col_heading level0 col10\" >Spa</th>\n",
       "      <th id=\"T_0e952_level0_col11\" class=\"col_heading level0 col11\" >VRDeck</th>\n",
       "      <th id=\"T_0e952_level0_col12\" class=\"col_heading level0 col12\" >Name</th>\n",
       "      <th id=\"T_0e952_level0_col13\" class=\"col_heading level0 col13\" >Transported</th>\n",
       "    </tr>\n",
       "  </thead>\n",
       "  <tbody>\n",
       "    <tr>\n",
       "      <th id=\"T_0e952_level0_row0\" class=\"row_heading level0 row0\" >2529</th>\n",
       "      <td id=\"T_0e952_row0_col0\" class=\"data row0 col0\" >2717_01</td>\n",
       "      <td id=\"T_0e952_row0_col1\" class=\"data row0 col1\" >Earth</td>\n",
       "      <td id=\"T_0e952_row0_col2\" class=\"data row0 col2\" >False</td>\n",
       "      <td id=\"T_0e952_row0_col3\" class=\"data row0 col3\" >G/431/S</td>\n",
       "      <td id=\"T_0e952_row0_col4\" class=\"data row0 col4\" >TRAPPIST-1e</td>\n",
       "      <td id=\"T_0e952_row0_col5\" class=\"data row0 col5\" >18.000000</td>\n",
       "      <td id=\"T_0e952_row0_col6\" class=\"data row0 col6\" >False</td>\n",
       "      <td id=\"T_0e952_row0_col7\" class=\"data row0 col7\" >130.000000</td>\n",
       "      <td id=\"T_0e952_row0_col8\" class=\"data row0 col8\" >0.000000</td>\n",
       "      <td id=\"T_0e952_row0_col9\" class=\"data row0 col9\" >13.000000</td>\n",
       "      <td id=\"T_0e952_row0_col10\" class=\"data row0 col10\" >191.000000</td>\n",
       "      <td id=\"T_0e952_row0_col11\" class=\"data row0 col11\" >554.000000</td>\n",
       "      <td id=\"T_0e952_row0_col12\" class=\"data row0 col12\" >Francy Mayder</td>\n",
       "      <td id=\"T_0e952_row0_col13\" class=\"data row0 col13\" >False</td>\n",
       "    </tr>\n",
       "    <tr>\n",
       "      <th id=\"T_0e952_level0_row1\" class=\"row_heading level0 row1\" >1409</th>\n",
       "      <td id=\"T_0e952_row1_col0\" class=\"data row1 col0\" >1490_01</td>\n",
       "      <td id=\"T_0e952_row1_col1\" class=\"data row1 col1\" >Europa</td>\n",
       "      <td id=\"T_0e952_row1_col2\" class=\"data row1 col2\" >False</td>\n",
       "      <td id=\"T_0e952_row1_col3\" class=\"data row1 col3\" >D/47/P</td>\n",
       "      <td id=\"T_0e952_row1_col4\" class=\"data row1 col4\" >55 Cancri e</td>\n",
       "      <td id=\"T_0e952_row1_col5\" class=\"data row1 col5\" >26.000000</td>\n",
       "      <td id=\"T_0e952_row1_col6\" class=\"data row1 col6\" >False</td>\n",
       "      <td id=\"T_0e952_row1_col7\" class=\"data row1 col7\" >0.000000</td>\n",
       "      <td id=\"T_0e952_row1_col8\" class=\"data row1 col8\" >304.000000</td>\n",
       "      <td id=\"T_0e952_row1_col9\" class=\"data row1 col9\" >0.000000</td>\n",
       "      <td id=\"T_0e952_row1_col10\" class=\"data row1 col10\" >3998.000000</td>\n",
       "      <td id=\"T_0e952_row1_col11\" class=\"data row1 col11\" >nan</td>\n",
       "      <td id=\"T_0e952_row1_col12\" class=\"data row1 col12\" >Caphird Crioncery</td>\n",
       "      <td id=\"T_0e952_row1_col13\" class=\"data row1 col13\" >False</td>\n",
       "    </tr>\n",
       "    <tr>\n",
       "      <th id=\"T_0e952_level0_row2\" class=\"row_heading level0 row2\" >1347</th>\n",
       "      <td id=\"T_0e952_row2_col0\" class=\"data row2 col0\" >1424_02</td>\n",
       "      <td id=\"T_0e952_row2_col1\" class=\"data row2 col1\" >Europa</td>\n",
       "      <td id=\"T_0e952_row2_col2\" class=\"data row2 col2\" >False</td>\n",
       "      <td id=\"T_0e952_row2_col3\" class=\"data row2 col3\" >B/47/P</td>\n",
       "      <td id=\"T_0e952_row2_col4\" class=\"data row2 col4\" >55 Cancri e</td>\n",
       "      <td id=\"T_0e952_row2_col5\" class=\"data row2 col5\" >29.000000</td>\n",
       "      <td id=\"T_0e952_row2_col6\" class=\"data row2 col6\" >False</td>\n",
       "      <td id=\"T_0e952_row2_col7\" class=\"data row2 col7\" >2988.000000</td>\n",
       "      <td id=\"T_0e952_row2_col8\" class=\"data row2 col8\" >2147.000000</td>\n",
       "      <td id=\"T_0e952_row2_col9\" class=\"data row2 col9\" >0.000000</td>\n",
       "      <td id=\"T_0e952_row2_col10\" class=\"data row2 col10\" >0.000000</td>\n",
       "      <td id=\"T_0e952_row2_col11\" class=\"data row2 col11\" >1779.000000</td>\n",
       "      <td id=\"T_0e952_row2_col12\" class=\"data row2 col12\" >Goros Sageng</td>\n",
       "      <td id=\"T_0e952_row2_col13\" class=\"data row2 col13\" >False</td>\n",
       "    </tr>\n",
       "    <tr>\n",
       "      <th id=\"T_0e952_level0_row3\" class=\"row_heading level0 row3\" >6919</th>\n",
       "      <td id=\"T_0e952_row3_col0\" class=\"data row3 col0\" >7337_01</td>\n",
       "      <td id=\"T_0e952_row3_col1\" class=\"data row3 col1\" >Europa</td>\n",
       "      <td id=\"T_0e952_row3_col2\" class=\"data row3 col2\" >False</td>\n",
       "      <td id=\"T_0e952_row3_col3\" class=\"data row3 col3\" >A/89/S</td>\n",
       "      <td id=\"T_0e952_row3_col4\" class=\"data row3 col4\" >TRAPPIST-1e</td>\n",
       "      <td id=\"T_0e952_row3_col5\" class=\"data row3 col5\" >25.000000</td>\n",
       "      <td id=\"T_0e952_row3_col6\" class=\"data row3 col6\" >False</td>\n",
       "      <td id=\"T_0e952_row3_col7\" class=\"data row3 col7\" >0.000000</td>\n",
       "      <td id=\"T_0e952_row3_col8\" class=\"data row3 col8\" >115.000000</td>\n",
       "      <td id=\"T_0e952_row3_col9\" class=\"data row3 col9\" >0.000000</td>\n",
       "      <td id=\"T_0e952_row3_col10\" class=\"data row3 col10\" >1823.000000</td>\n",
       "      <td id=\"T_0e952_row3_col11\" class=\"data row3 col11\" >4041.000000</td>\n",
       "      <td id=\"T_0e952_row3_col12\" class=\"data row3 col12\" >Ranons Folkshbox</td>\n",
       "      <td id=\"T_0e952_row3_col13\" class=\"data row3 col13\" >False</td>\n",
       "    </tr>\n",
       "    <tr>\n",
       "      <th id=\"T_0e952_level0_row4\" class=\"row_heading level0 row4\" >7948</th>\n",
       "      <td id=\"T_0e952_row4_col0\" class=\"data row4 col0\" >8487_01</td>\n",
       "      <td id=\"T_0e952_row4_col1\" class=\"data row4 col1\" >Europa</td>\n",
       "      <td id=\"T_0e952_row4_col2\" class=\"data row4 col2\" >nan</td>\n",
       "      <td id=\"T_0e952_row4_col3\" class=\"data row4 col3\" >C/282/P</td>\n",
       "      <td id=\"T_0e952_row4_col4\" class=\"data row4 col4\" >55 Cancri e</td>\n",
       "      <td id=\"T_0e952_row4_col5\" class=\"data row4 col5\" >32.000000</td>\n",
       "      <td id=\"T_0e952_row4_col6\" class=\"data row4 col6\" >True</td>\n",
       "      <td id=\"T_0e952_row4_col7\" class=\"data row4 col7\" >65.000000</td>\n",
       "      <td id=\"T_0e952_row4_col8\" class=\"data row4 col8\" >nan</td>\n",
       "      <td id=\"T_0e952_row4_col9\" class=\"data row4 col9\" >0.000000</td>\n",
       "      <td id=\"T_0e952_row4_col10\" class=\"data row4 col10\" >88.000000</td>\n",
       "      <td id=\"T_0e952_row4_col11\" class=\"data row4 col11\" >9811.000000</td>\n",
       "      <td id=\"T_0e952_row4_col12\" class=\"data row4 col12\" >Kajamak Boderbint</td>\n",
       "      <td id=\"T_0e952_row4_col13\" class=\"data row4 col13\" >False</td>\n",
       "    </tr>\n",
       "    <tr>\n",
       "      <th id=\"T_0e952_level0_row5\" class=\"row_heading level0 row5\" >2728</th>\n",
       "      <td id=\"T_0e952_row5_col0\" class=\"data row5 col0\" >2928_01</td>\n",
       "      <td id=\"T_0e952_row5_col1\" class=\"data row5 col1\" >Europa</td>\n",
       "      <td id=\"T_0e952_row5_col2\" class=\"data row5 col2\" >False</td>\n",
       "      <td id=\"T_0e952_row5_col3\" class=\"data row5 col3\" >B/92/P</td>\n",
       "      <td id=\"T_0e952_row5_col4\" class=\"data row5 col4\" >55 Cancri e</td>\n",
       "      <td id=\"T_0e952_row5_col5\" class=\"data row5 col5\" >54.000000</td>\n",
       "      <td id=\"T_0e952_row5_col6\" class=\"data row5 col6\" >True</td>\n",
       "      <td id=\"T_0e952_row5_col7\" class=\"data row5 col7\" >0.000000</td>\n",
       "      <td id=\"T_0e952_row5_col8\" class=\"data row5 col8\" >2062.000000</td>\n",
       "      <td id=\"T_0e952_row5_col9\" class=\"data row5 col9\" >2.000000</td>\n",
       "      <td id=\"T_0e952_row5_col10\" class=\"data row5 col10\" >19.000000</td>\n",
       "      <td id=\"T_0e952_row5_col11\" class=\"data row5 col11\" >1618.000000</td>\n",
       "      <td id=\"T_0e952_row5_col12\" class=\"data row5 col12\" >Menkibi Mander</td>\n",
       "      <td id=\"T_0e952_row5_col13\" class=\"data row5 col13\" >False</td>\n",
       "    </tr>\n",
       "    <tr>\n",
       "      <th id=\"T_0e952_level0_row6\" class=\"row_heading level0 row6\" >8532</th>\n",
       "      <td id=\"T_0e952_row6_col0\" class=\"data row6 col0\" >9110_01</td>\n",
       "      <td id=\"T_0e952_row6_col1\" class=\"data row6 col1\" >Earth</td>\n",
       "      <td id=\"T_0e952_row6_col2\" class=\"data row6 col2\" >False</td>\n",
       "      <td id=\"T_0e952_row6_col3\" class=\"data row6 col3\" >F/1866/P</td>\n",
       "      <td id=\"T_0e952_row6_col4\" class=\"data row6 col4\" >TRAPPIST-1e</td>\n",
       "      <td id=\"T_0e952_row6_col5\" class=\"data row6 col5\" >47.000000</td>\n",
       "      <td id=\"T_0e952_row6_col6\" class=\"data row6 col6\" >False</td>\n",
       "      <td id=\"T_0e952_row6_col7\" class=\"data row6 col7\" >0.000000</td>\n",
       "      <td id=\"T_0e952_row6_col8\" class=\"data row6 col8\" >0.000000</td>\n",
       "      <td id=\"T_0e952_row6_col9\" class=\"data row6 col9\" >16.000000</td>\n",
       "      <td id=\"T_0e952_row6_col10\" class=\"data row6 col10\" >3.000000</td>\n",
       "      <td id=\"T_0e952_row6_col11\" class=\"data row6 col11\" >854.000000</td>\n",
       "      <td id=\"T_0e952_row6_col12\" class=\"data row6 col12\" >Ronne Armstromez</td>\n",
       "      <td id=\"T_0e952_row6_col13\" class=\"data row6 col13\" >False</td>\n",
       "    </tr>\n",
       "    <tr>\n",
       "      <th id=\"T_0e952_level0_row7\" class=\"row_heading level0 row7\" >7138</th>\n",
       "      <td id=\"T_0e952_row7_col0\" class=\"data row7 col0\" >7609_02</td>\n",
       "      <td id=\"T_0e952_row7_col1\" class=\"data row7 col1\" >Europa</td>\n",
       "      <td id=\"T_0e952_row7_col2\" class=\"data row7 col2\" >True</td>\n",
       "      <td id=\"T_0e952_row7_col3\" class=\"data row7 col3\" >A/83/P</td>\n",
       "      <td id=\"T_0e952_row7_col4\" class=\"data row7 col4\" >TRAPPIST-1e</td>\n",
       "      <td id=\"T_0e952_row7_col5\" class=\"data row7 col5\" >39.000000</td>\n",
       "      <td id=\"T_0e952_row7_col6\" class=\"data row7 col6\" >False</td>\n",
       "      <td id=\"T_0e952_row7_col7\" class=\"data row7 col7\" >0.000000</td>\n",
       "      <td id=\"T_0e952_row7_col8\" class=\"data row7 col8\" >0.000000</td>\n",
       "      <td id=\"T_0e952_row7_col9\" class=\"data row7 col9\" >0.000000</td>\n",
       "      <td id=\"T_0e952_row7_col10\" class=\"data row7 col10\" >0.000000</td>\n",
       "      <td id=\"T_0e952_row7_col11\" class=\"data row7 col11\" >0.000000</td>\n",
       "      <td id=\"T_0e952_row7_col12\" class=\"data row7 col12\" >Sabiton Reeddommy</td>\n",
       "      <td id=\"T_0e952_row7_col13\" class=\"data row7 col13\" >True</td>\n",
       "    </tr>\n",
       "    <tr>\n",
       "      <th id=\"T_0e952_level0_row8\" class=\"row_heading level0 row8\" >5278</th>\n",
       "      <td id=\"T_0e952_row8_col0\" class=\"data row8 col0\" >5631_01</td>\n",
       "      <td id=\"T_0e952_row8_col1\" class=\"data row8 col1\" >Earth</td>\n",
       "      <td id=\"T_0e952_row8_col2\" class=\"data row8 col2\" >False</td>\n",
       "      <td id=\"T_0e952_row8_col3\" class=\"data row8 col3\" >F/1166/P</td>\n",
       "      <td id=\"T_0e952_row8_col4\" class=\"data row8 col4\" >TRAPPIST-1e</td>\n",
       "      <td id=\"T_0e952_row8_col5\" class=\"data row8 col5\" >20.000000</td>\n",
       "      <td id=\"T_0e952_row8_col6\" class=\"data row8 col6\" >False</td>\n",
       "      <td id=\"T_0e952_row8_col7\" class=\"data row8 col7\" >47.000000</td>\n",
       "      <td id=\"T_0e952_row8_col8\" class=\"data row8 col8\" >0.000000</td>\n",
       "      <td id=\"T_0e952_row8_col9\" class=\"data row8 col9\" >0.000000</td>\n",
       "      <td id=\"T_0e952_row8_col10\" class=\"data row8 col10\" >0.000000</td>\n",
       "      <td id=\"T_0e952_row8_col11\" class=\"data row8 col11\" >2711.000000</td>\n",
       "      <td id=\"T_0e952_row8_col12\" class=\"data row8 col12\" >Bel Boltond</td>\n",
       "      <td id=\"T_0e952_row8_col13\" class=\"data row8 col13\" >False</td>\n",
       "    </tr>\n",
       "    <tr>\n",
       "      <th id=\"T_0e952_level0_row9\" class=\"row_heading level0 row9\" >1494</th>\n",
       "      <td id=\"T_0e952_row9_col0\" class=\"data row9 col0\" >1585_01</td>\n",
       "      <td id=\"T_0e952_row9_col1\" class=\"data row9 col1\" >Earth</td>\n",
       "      <td id=\"T_0e952_row9_col2\" class=\"data row9 col2\" >True</td>\n",
       "      <td id=\"T_0e952_row9_col3\" class=\"data row9 col3\" >G/252/P</td>\n",
       "      <td id=\"T_0e952_row9_col4\" class=\"data row9 col4\" >TRAPPIST-1e</td>\n",
       "      <td id=\"T_0e952_row9_col5\" class=\"data row9 col5\" >18.000000</td>\n",
       "      <td id=\"T_0e952_row9_col6\" class=\"data row9 col6\" >False</td>\n",
       "      <td id=\"T_0e952_row9_col7\" class=\"data row9 col7\" >0.000000</td>\n",
       "      <td id=\"T_0e952_row9_col8\" class=\"data row9 col8\" >0.000000</td>\n",
       "      <td id=\"T_0e952_row9_col9\" class=\"data row9 col9\" >0.000000</td>\n",
       "      <td id=\"T_0e952_row9_col10\" class=\"data row9 col10\" >0.000000</td>\n",
       "      <td id=\"T_0e952_row9_col11\" class=\"data row9 col11\" >0.000000</td>\n",
       "      <td id=\"T_0e952_row9_col12\" class=\"data row9 col12\" >Salley Crosarios</td>\n",
       "      <td id=\"T_0e952_row9_col13\" class=\"data row9 col13\" >True</td>\n",
       "    </tr>\n",
       "  </tbody>\n",
       "</table>\n"
      ],
      "text/plain": [
       "<pandas.io.formats.style.Styler at 0x224ed95c700>"
      ]
     },
     "execution_count": 91,
     "metadata": {},
     "output_type": "execute_result"
    }
   ],
   "source": [
    "train_data_og = pd.read_csv('./train.csv')\n",
    "test_data_og = pd.read_csv('./test.csv')\n",
    "print(train_data_og.shape, test_data_og.shape)\n",
    "# print(train_data_og.isnull().sum())\n",
    "# print(test_data_og.isnull().sum())\n",
    "print(train_data_og.dtypes)\n",
    "train_data_og.sample(n=10).style"
   ]
  },
  {
   "attachments": {},
   "cell_type": "markdown",
   "metadata": {},
   "source": [
    "# EDA"
   ]
  },
  {
   "cell_type": "code",
   "execution_count": 38,
   "metadata": {},
   "outputs": [
    {
     "data": {
      "text/html": [
       "<style type=\"text/css\">\n",
       "</style>\n",
       "<table id=\"T_46feb\">\n",
       "  <thead>\n",
       "    <tr>\n",
       "      <th class=\"blank level0\" >&nbsp;</th>\n",
       "      <th id=\"T_46feb_level0_col0\" class=\"col_heading level0 col0\" >PassengerId</th>\n",
       "      <th id=\"T_46feb_level0_col1\" class=\"col_heading level0 col1\" >HomePlanet</th>\n",
       "      <th id=\"T_46feb_level0_col2\" class=\"col_heading level0 col2\" >CryoSleep</th>\n",
       "      <th id=\"T_46feb_level0_col3\" class=\"col_heading level0 col3\" >Cabin</th>\n",
       "      <th id=\"T_46feb_level0_col4\" class=\"col_heading level0 col4\" >Destination</th>\n",
       "      <th id=\"T_46feb_level0_col5\" class=\"col_heading level0 col5\" >Age</th>\n",
       "      <th id=\"T_46feb_level0_col6\" class=\"col_heading level0 col6\" >VIP</th>\n",
       "      <th id=\"T_46feb_level0_col7\" class=\"col_heading level0 col7\" >RoomService</th>\n",
       "      <th id=\"T_46feb_level0_col8\" class=\"col_heading level0 col8\" >FoodCourt</th>\n",
       "      <th id=\"T_46feb_level0_col9\" class=\"col_heading level0 col9\" >ShoppingMall</th>\n",
       "      <th id=\"T_46feb_level0_col10\" class=\"col_heading level0 col10\" >Spa</th>\n",
       "      <th id=\"T_46feb_level0_col11\" class=\"col_heading level0 col11\" >VRDeck</th>\n",
       "      <th id=\"T_46feb_level0_col12\" class=\"col_heading level0 col12\" >Name</th>\n",
       "      <th id=\"T_46feb_level0_col13\" class=\"col_heading level0 col13\" >Transported</th>\n",
       "    </tr>\n",
       "  </thead>\n",
       "  <tbody>\n",
       "    <tr>\n",
       "      <th id=\"T_46feb_level0_row0\" class=\"row_heading level0 row0\" >count</th>\n",
       "      <td id=\"T_46feb_row0_col0\" class=\"data row0 col0\" >8693</td>\n",
       "      <td id=\"T_46feb_row0_col1\" class=\"data row0 col1\" >8492</td>\n",
       "      <td id=\"T_46feb_row0_col2\" class=\"data row0 col2\" >8476</td>\n",
       "      <td id=\"T_46feb_row0_col3\" class=\"data row0 col3\" >8494</td>\n",
       "      <td id=\"T_46feb_row0_col4\" class=\"data row0 col4\" >8511</td>\n",
       "      <td id=\"T_46feb_row0_col5\" class=\"data row0 col5\" >8514.000000</td>\n",
       "      <td id=\"T_46feb_row0_col6\" class=\"data row0 col6\" >8490</td>\n",
       "      <td id=\"T_46feb_row0_col7\" class=\"data row0 col7\" >8512.000000</td>\n",
       "      <td id=\"T_46feb_row0_col8\" class=\"data row0 col8\" >8510.000000</td>\n",
       "      <td id=\"T_46feb_row0_col9\" class=\"data row0 col9\" >8485.000000</td>\n",
       "      <td id=\"T_46feb_row0_col10\" class=\"data row0 col10\" >8510.000000</td>\n",
       "      <td id=\"T_46feb_row0_col11\" class=\"data row0 col11\" >8505.000000</td>\n",
       "      <td id=\"T_46feb_row0_col12\" class=\"data row0 col12\" >8493</td>\n",
       "      <td id=\"T_46feb_row0_col13\" class=\"data row0 col13\" >8693</td>\n",
       "    </tr>\n",
       "    <tr>\n",
       "      <th id=\"T_46feb_level0_row1\" class=\"row_heading level0 row1\" >unique</th>\n",
       "      <td id=\"T_46feb_row1_col0\" class=\"data row1 col0\" >8693</td>\n",
       "      <td id=\"T_46feb_row1_col1\" class=\"data row1 col1\" >3</td>\n",
       "      <td id=\"T_46feb_row1_col2\" class=\"data row1 col2\" >2</td>\n",
       "      <td id=\"T_46feb_row1_col3\" class=\"data row1 col3\" >6560</td>\n",
       "      <td id=\"T_46feb_row1_col4\" class=\"data row1 col4\" >3</td>\n",
       "      <td id=\"T_46feb_row1_col5\" class=\"data row1 col5\" >nan</td>\n",
       "      <td id=\"T_46feb_row1_col6\" class=\"data row1 col6\" >2</td>\n",
       "      <td id=\"T_46feb_row1_col7\" class=\"data row1 col7\" >nan</td>\n",
       "      <td id=\"T_46feb_row1_col8\" class=\"data row1 col8\" >nan</td>\n",
       "      <td id=\"T_46feb_row1_col9\" class=\"data row1 col9\" >nan</td>\n",
       "      <td id=\"T_46feb_row1_col10\" class=\"data row1 col10\" >nan</td>\n",
       "      <td id=\"T_46feb_row1_col11\" class=\"data row1 col11\" >nan</td>\n",
       "      <td id=\"T_46feb_row1_col12\" class=\"data row1 col12\" >8473</td>\n",
       "      <td id=\"T_46feb_row1_col13\" class=\"data row1 col13\" >2</td>\n",
       "    </tr>\n",
       "    <tr>\n",
       "      <th id=\"T_46feb_level0_row2\" class=\"row_heading level0 row2\" >top</th>\n",
       "      <td id=\"T_46feb_row2_col0\" class=\"data row2 col0\" >0001_01</td>\n",
       "      <td id=\"T_46feb_row2_col1\" class=\"data row2 col1\" >Earth</td>\n",
       "      <td id=\"T_46feb_row2_col2\" class=\"data row2 col2\" >False</td>\n",
       "      <td id=\"T_46feb_row2_col3\" class=\"data row2 col3\" >G/734/S</td>\n",
       "      <td id=\"T_46feb_row2_col4\" class=\"data row2 col4\" >TRAPPIST-1e</td>\n",
       "      <td id=\"T_46feb_row2_col5\" class=\"data row2 col5\" >nan</td>\n",
       "      <td id=\"T_46feb_row2_col6\" class=\"data row2 col6\" >False</td>\n",
       "      <td id=\"T_46feb_row2_col7\" class=\"data row2 col7\" >nan</td>\n",
       "      <td id=\"T_46feb_row2_col8\" class=\"data row2 col8\" >nan</td>\n",
       "      <td id=\"T_46feb_row2_col9\" class=\"data row2 col9\" >nan</td>\n",
       "      <td id=\"T_46feb_row2_col10\" class=\"data row2 col10\" >nan</td>\n",
       "      <td id=\"T_46feb_row2_col11\" class=\"data row2 col11\" >nan</td>\n",
       "      <td id=\"T_46feb_row2_col12\" class=\"data row2 col12\" >Gollux Reedall</td>\n",
       "      <td id=\"T_46feb_row2_col13\" class=\"data row2 col13\" >True</td>\n",
       "    </tr>\n",
       "    <tr>\n",
       "      <th id=\"T_46feb_level0_row3\" class=\"row_heading level0 row3\" >freq</th>\n",
       "      <td id=\"T_46feb_row3_col0\" class=\"data row3 col0\" >1</td>\n",
       "      <td id=\"T_46feb_row3_col1\" class=\"data row3 col1\" >4602</td>\n",
       "      <td id=\"T_46feb_row3_col2\" class=\"data row3 col2\" >5439</td>\n",
       "      <td id=\"T_46feb_row3_col3\" class=\"data row3 col3\" >8</td>\n",
       "      <td id=\"T_46feb_row3_col4\" class=\"data row3 col4\" >5915</td>\n",
       "      <td id=\"T_46feb_row3_col5\" class=\"data row3 col5\" >nan</td>\n",
       "      <td id=\"T_46feb_row3_col6\" class=\"data row3 col6\" >8291</td>\n",
       "      <td id=\"T_46feb_row3_col7\" class=\"data row3 col7\" >nan</td>\n",
       "      <td id=\"T_46feb_row3_col8\" class=\"data row3 col8\" >nan</td>\n",
       "      <td id=\"T_46feb_row3_col9\" class=\"data row3 col9\" >nan</td>\n",
       "      <td id=\"T_46feb_row3_col10\" class=\"data row3 col10\" >nan</td>\n",
       "      <td id=\"T_46feb_row3_col11\" class=\"data row3 col11\" >nan</td>\n",
       "      <td id=\"T_46feb_row3_col12\" class=\"data row3 col12\" >2</td>\n",
       "      <td id=\"T_46feb_row3_col13\" class=\"data row3 col13\" >4378</td>\n",
       "    </tr>\n",
       "    <tr>\n",
       "      <th id=\"T_46feb_level0_row4\" class=\"row_heading level0 row4\" >mean</th>\n",
       "      <td id=\"T_46feb_row4_col0\" class=\"data row4 col0\" >nan</td>\n",
       "      <td id=\"T_46feb_row4_col1\" class=\"data row4 col1\" >nan</td>\n",
       "      <td id=\"T_46feb_row4_col2\" class=\"data row4 col2\" >nan</td>\n",
       "      <td id=\"T_46feb_row4_col3\" class=\"data row4 col3\" >nan</td>\n",
       "      <td id=\"T_46feb_row4_col4\" class=\"data row4 col4\" >nan</td>\n",
       "      <td id=\"T_46feb_row4_col5\" class=\"data row4 col5\" >28.827930</td>\n",
       "      <td id=\"T_46feb_row4_col6\" class=\"data row4 col6\" >nan</td>\n",
       "      <td id=\"T_46feb_row4_col7\" class=\"data row4 col7\" >224.687617</td>\n",
       "      <td id=\"T_46feb_row4_col8\" class=\"data row4 col8\" >458.077203</td>\n",
       "      <td id=\"T_46feb_row4_col9\" class=\"data row4 col9\" >173.729169</td>\n",
       "      <td id=\"T_46feb_row4_col10\" class=\"data row4 col10\" >311.138778</td>\n",
       "      <td id=\"T_46feb_row4_col11\" class=\"data row4 col11\" >304.854791</td>\n",
       "      <td id=\"T_46feb_row4_col12\" class=\"data row4 col12\" >nan</td>\n",
       "      <td id=\"T_46feb_row4_col13\" class=\"data row4 col13\" >nan</td>\n",
       "    </tr>\n",
       "    <tr>\n",
       "      <th id=\"T_46feb_level0_row5\" class=\"row_heading level0 row5\" >std</th>\n",
       "      <td id=\"T_46feb_row5_col0\" class=\"data row5 col0\" >nan</td>\n",
       "      <td id=\"T_46feb_row5_col1\" class=\"data row5 col1\" >nan</td>\n",
       "      <td id=\"T_46feb_row5_col2\" class=\"data row5 col2\" >nan</td>\n",
       "      <td id=\"T_46feb_row5_col3\" class=\"data row5 col3\" >nan</td>\n",
       "      <td id=\"T_46feb_row5_col4\" class=\"data row5 col4\" >nan</td>\n",
       "      <td id=\"T_46feb_row5_col5\" class=\"data row5 col5\" >14.489021</td>\n",
       "      <td id=\"T_46feb_row5_col6\" class=\"data row5 col6\" >nan</td>\n",
       "      <td id=\"T_46feb_row5_col7\" class=\"data row5 col7\" >666.717663</td>\n",
       "      <td id=\"T_46feb_row5_col8\" class=\"data row5 col8\" >1611.489240</td>\n",
       "      <td id=\"T_46feb_row5_col9\" class=\"data row5 col9\" >604.696458</td>\n",
       "      <td id=\"T_46feb_row5_col10\" class=\"data row5 col10\" >1136.705535</td>\n",
       "      <td id=\"T_46feb_row5_col11\" class=\"data row5 col11\" >1145.717189</td>\n",
       "      <td id=\"T_46feb_row5_col12\" class=\"data row5 col12\" >nan</td>\n",
       "      <td id=\"T_46feb_row5_col13\" class=\"data row5 col13\" >nan</td>\n",
       "    </tr>\n",
       "    <tr>\n",
       "      <th id=\"T_46feb_level0_row6\" class=\"row_heading level0 row6\" >min</th>\n",
       "      <td id=\"T_46feb_row6_col0\" class=\"data row6 col0\" >nan</td>\n",
       "      <td id=\"T_46feb_row6_col1\" class=\"data row6 col1\" >nan</td>\n",
       "      <td id=\"T_46feb_row6_col2\" class=\"data row6 col2\" >nan</td>\n",
       "      <td id=\"T_46feb_row6_col3\" class=\"data row6 col3\" >nan</td>\n",
       "      <td id=\"T_46feb_row6_col4\" class=\"data row6 col4\" >nan</td>\n",
       "      <td id=\"T_46feb_row6_col5\" class=\"data row6 col5\" >0.000000</td>\n",
       "      <td id=\"T_46feb_row6_col6\" class=\"data row6 col6\" >nan</td>\n",
       "      <td id=\"T_46feb_row6_col7\" class=\"data row6 col7\" >0.000000</td>\n",
       "      <td id=\"T_46feb_row6_col8\" class=\"data row6 col8\" >0.000000</td>\n",
       "      <td id=\"T_46feb_row6_col9\" class=\"data row6 col9\" >0.000000</td>\n",
       "      <td id=\"T_46feb_row6_col10\" class=\"data row6 col10\" >0.000000</td>\n",
       "      <td id=\"T_46feb_row6_col11\" class=\"data row6 col11\" >0.000000</td>\n",
       "      <td id=\"T_46feb_row6_col12\" class=\"data row6 col12\" >nan</td>\n",
       "      <td id=\"T_46feb_row6_col13\" class=\"data row6 col13\" >nan</td>\n",
       "    </tr>\n",
       "    <tr>\n",
       "      <th id=\"T_46feb_level0_row7\" class=\"row_heading level0 row7\" >25%</th>\n",
       "      <td id=\"T_46feb_row7_col0\" class=\"data row7 col0\" >nan</td>\n",
       "      <td id=\"T_46feb_row7_col1\" class=\"data row7 col1\" >nan</td>\n",
       "      <td id=\"T_46feb_row7_col2\" class=\"data row7 col2\" >nan</td>\n",
       "      <td id=\"T_46feb_row7_col3\" class=\"data row7 col3\" >nan</td>\n",
       "      <td id=\"T_46feb_row7_col4\" class=\"data row7 col4\" >nan</td>\n",
       "      <td id=\"T_46feb_row7_col5\" class=\"data row7 col5\" >19.000000</td>\n",
       "      <td id=\"T_46feb_row7_col6\" class=\"data row7 col6\" >nan</td>\n",
       "      <td id=\"T_46feb_row7_col7\" class=\"data row7 col7\" >0.000000</td>\n",
       "      <td id=\"T_46feb_row7_col8\" class=\"data row7 col8\" >0.000000</td>\n",
       "      <td id=\"T_46feb_row7_col9\" class=\"data row7 col9\" >0.000000</td>\n",
       "      <td id=\"T_46feb_row7_col10\" class=\"data row7 col10\" >0.000000</td>\n",
       "      <td id=\"T_46feb_row7_col11\" class=\"data row7 col11\" >0.000000</td>\n",
       "      <td id=\"T_46feb_row7_col12\" class=\"data row7 col12\" >nan</td>\n",
       "      <td id=\"T_46feb_row7_col13\" class=\"data row7 col13\" >nan</td>\n",
       "    </tr>\n",
       "    <tr>\n",
       "      <th id=\"T_46feb_level0_row8\" class=\"row_heading level0 row8\" >50%</th>\n",
       "      <td id=\"T_46feb_row8_col0\" class=\"data row8 col0\" >nan</td>\n",
       "      <td id=\"T_46feb_row8_col1\" class=\"data row8 col1\" >nan</td>\n",
       "      <td id=\"T_46feb_row8_col2\" class=\"data row8 col2\" >nan</td>\n",
       "      <td id=\"T_46feb_row8_col3\" class=\"data row8 col3\" >nan</td>\n",
       "      <td id=\"T_46feb_row8_col4\" class=\"data row8 col4\" >nan</td>\n",
       "      <td id=\"T_46feb_row8_col5\" class=\"data row8 col5\" >27.000000</td>\n",
       "      <td id=\"T_46feb_row8_col6\" class=\"data row8 col6\" >nan</td>\n",
       "      <td id=\"T_46feb_row8_col7\" class=\"data row8 col7\" >0.000000</td>\n",
       "      <td id=\"T_46feb_row8_col8\" class=\"data row8 col8\" >0.000000</td>\n",
       "      <td id=\"T_46feb_row8_col9\" class=\"data row8 col9\" >0.000000</td>\n",
       "      <td id=\"T_46feb_row8_col10\" class=\"data row8 col10\" >0.000000</td>\n",
       "      <td id=\"T_46feb_row8_col11\" class=\"data row8 col11\" >0.000000</td>\n",
       "      <td id=\"T_46feb_row8_col12\" class=\"data row8 col12\" >nan</td>\n",
       "      <td id=\"T_46feb_row8_col13\" class=\"data row8 col13\" >nan</td>\n",
       "    </tr>\n",
       "    <tr>\n",
       "      <th id=\"T_46feb_level0_row9\" class=\"row_heading level0 row9\" >75%</th>\n",
       "      <td id=\"T_46feb_row9_col0\" class=\"data row9 col0\" >nan</td>\n",
       "      <td id=\"T_46feb_row9_col1\" class=\"data row9 col1\" >nan</td>\n",
       "      <td id=\"T_46feb_row9_col2\" class=\"data row9 col2\" >nan</td>\n",
       "      <td id=\"T_46feb_row9_col3\" class=\"data row9 col3\" >nan</td>\n",
       "      <td id=\"T_46feb_row9_col4\" class=\"data row9 col4\" >nan</td>\n",
       "      <td id=\"T_46feb_row9_col5\" class=\"data row9 col5\" >38.000000</td>\n",
       "      <td id=\"T_46feb_row9_col6\" class=\"data row9 col6\" >nan</td>\n",
       "      <td id=\"T_46feb_row9_col7\" class=\"data row9 col7\" >47.000000</td>\n",
       "      <td id=\"T_46feb_row9_col8\" class=\"data row9 col8\" >76.000000</td>\n",
       "      <td id=\"T_46feb_row9_col9\" class=\"data row9 col9\" >27.000000</td>\n",
       "      <td id=\"T_46feb_row9_col10\" class=\"data row9 col10\" >59.000000</td>\n",
       "      <td id=\"T_46feb_row9_col11\" class=\"data row9 col11\" >46.000000</td>\n",
       "      <td id=\"T_46feb_row9_col12\" class=\"data row9 col12\" >nan</td>\n",
       "      <td id=\"T_46feb_row9_col13\" class=\"data row9 col13\" >nan</td>\n",
       "    </tr>\n",
       "    <tr>\n",
       "      <th id=\"T_46feb_level0_row10\" class=\"row_heading level0 row10\" >max</th>\n",
       "      <td id=\"T_46feb_row10_col0\" class=\"data row10 col0\" >nan</td>\n",
       "      <td id=\"T_46feb_row10_col1\" class=\"data row10 col1\" >nan</td>\n",
       "      <td id=\"T_46feb_row10_col2\" class=\"data row10 col2\" >nan</td>\n",
       "      <td id=\"T_46feb_row10_col3\" class=\"data row10 col3\" >nan</td>\n",
       "      <td id=\"T_46feb_row10_col4\" class=\"data row10 col4\" >nan</td>\n",
       "      <td id=\"T_46feb_row10_col5\" class=\"data row10 col5\" >79.000000</td>\n",
       "      <td id=\"T_46feb_row10_col6\" class=\"data row10 col6\" >nan</td>\n",
       "      <td id=\"T_46feb_row10_col7\" class=\"data row10 col7\" >14327.000000</td>\n",
       "      <td id=\"T_46feb_row10_col8\" class=\"data row10 col8\" >29813.000000</td>\n",
       "      <td id=\"T_46feb_row10_col9\" class=\"data row10 col9\" >23492.000000</td>\n",
       "      <td id=\"T_46feb_row10_col10\" class=\"data row10 col10\" >22408.000000</td>\n",
       "      <td id=\"T_46feb_row10_col11\" class=\"data row10 col11\" >24133.000000</td>\n",
       "      <td id=\"T_46feb_row10_col12\" class=\"data row10 col12\" >nan</td>\n",
       "      <td id=\"T_46feb_row10_col13\" class=\"data row10 col13\" >nan</td>\n",
       "    </tr>\n",
       "  </tbody>\n",
       "</table>\n"
      ],
      "text/plain": [
       "<pandas.io.formats.style.Styler at 0x224ea977790>"
      ]
     },
     "metadata": {},
     "output_type": "display_data"
    },
    {
     "name": "stdout",
     "output_type": "stream",
     "text": [
      "Transported mean: 0.5036236051995858\n"
     ]
    }
   ],
   "source": [
    "display(train_data_og.describe(include='all').style)\n",
    "# print(train_data_og['HomePlanet'].values)\n",
    "print(f\"Transported mean: {train_data_og['Transported'].mean()}\")\n"
   ]
  },
  {
   "attachments": {},
   "cell_type": "markdown",
   "metadata": {},
   "source": [
    "## Checking correlations"
   ]
  },
  {
   "cell_type": "code",
   "execution_count": 40,
   "metadata": {},
   "outputs": [
    {
     "name": "stderr",
     "output_type": "stream",
     "text": [
      "C:\\Users\\Dell\\AppData\\Local\\Temp\\ipykernel_5224\\3671959298.py:1: FutureWarning: The default value of numeric_only in DataFrame.corr is deprecated. In a future version, it will default to False. Select only valid columns or specify the value of numeric_only to silence this warning.\n",
      "  display(train_data_og.corr().style)\n"
     ]
    },
    {
     "data": {
      "text/html": [
       "<style type=\"text/css\">\n",
       "</style>\n",
       "<table id=\"T_9956a\">\n",
       "  <thead>\n",
       "    <tr>\n",
       "      <th class=\"blank level0\" >&nbsp;</th>\n",
       "      <th id=\"T_9956a_level0_col0\" class=\"col_heading level0 col0\" >Age</th>\n",
       "      <th id=\"T_9956a_level0_col1\" class=\"col_heading level0 col1\" >RoomService</th>\n",
       "      <th id=\"T_9956a_level0_col2\" class=\"col_heading level0 col2\" >FoodCourt</th>\n",
       "      <th id=\"T_9956a_level0_col3\" class=\"col_heading level0 col3\" >ShoppingMall</th>\n",
       "      <th id=\"T_9956a_level0_col4\" class=\"col_heading level0 col4\" >Spa</th>\n",
       "      <th id=\"T_9956a_level0_col5\" class=\"col_heading level0 col5\" >VRDeck</th>\n",
       "      <th id=\"T_9956a_level0_col6\" class=\"col_heading level0 col6\" >Transported</th>\n",
       "    </tr>\n",
       "  </thead>\n",
       "  <tbody>\n",
       "    <tr>\n",
       "      <th id=\"T_9956a_level0_row0\" class=\"row_heading level0 row0\" >Age</th>\n",
       "      <td id=\"T_9956a_row0_col0\" class=\"data row0 col0\" >1.000000</td>\n",
       "      <td id=\"T_9956a_row0_col1\" class=\"data row0 col1\" >0.068723</td>\n",
       "      <td id=\"T_9956a_row0_col2\" class=\"data row0 col2\" >0.130421</td>\n",
       "      <td id=\"T_9956a_row0_col3\" class=\"data row0 col3\" >0.033133</td>\n",
       "      <td id=\"T_9956a_row0_col4\" class=\"data row0 col4\" >0.123970</td>\n",
       "      <td id=\"T_9956a_row0_col5\" class=\"data row0 col5\" >0.101007</td>\n",
       "      <td id=\"T_9956a_row0_col6\" class=\"data row0 col6\" >-0.075026</td>\n",
       "    </tr>\n",
       "    <tr>\n",
       "      <th id=\"T_9956a_level0_row1\" class=\"row_heading level0 row1\" >RoomService</th>\n",
       "      <td id=\"T_9956a_row1_col0\" class=\"data row1 col0\" >0.068723</td>\n",
       "      <td id=\"T_9956a_row1_col1\" class=\"data row1 col1\" >1.000000</td>\n",
       "      <td id=\"T_9956a_row1_col2\" class=\"data row1 col2\" >-0.015889</td>\n",
       "      <td id=\"T_9956a_row1_col3\" class=\"data row1 col3\" >0.054480</td>\n",
       "      <td id=\"T_9956a_row1_col4\" class=\"data row1 col4\" >0.010080</td>\n",
       "      <td id=\"T_9956a_row1_col5\" class=\"data row1 col5\" >-0.019581</td>\n",
       "      <td id=\"T_9956a_row1_col6\" class=\"data row1 col6\" >-0.244611</td>\n",
       "    </tr>\n",
       "    <tr>\n",
       "      <th id=\"T_9956a_level0_row2\" class=\"row_heading level0 row2\" >FoodCourt</th>\n",
       "      <td id=\"T_9956a_row2_col0\" class=\"data row2 col0\" >0.130421</td>\n",
       "      <td id=\"T_9956a_row2_col1\" class=\"data row2 col1\" >-0.015889</td>\n",
       "      <td id=\"T_9956a_row2_col2\" class=\"data row2 col2\" >1.000000</td>\n",
       "      <td id=\"T_9956a_row2_col3\" class=\"data row2 col3\" >-0.014228</td>\n",
       "      <td id=\"T_9956a_row2_col4\" class=\"data row2 col4\" >0.221891</td>\n",
       "      <td id=\"T_9956a_row2_col5\" class=\"data row2 col5\" >0.227995</td>\n",
       "      <td id=\"T_9956a_row2_col6\" class=\"data row2 col6\" >0.046566</td>\n",
       "    </tr>\n",
       "    <tr>\n",
       "      <th id=\"T_9956a_level0_row3\" class=\"row_heading level0 row3\" >ShoppingMall</th>\n",
       "      <td id=\"T_9956a_row3_col0\" class=\"data row3 col0\" >0.033133</td>\n",
       "      <td id=\"T_9956a_row3_col1\" class=\"data row3 col1\" >0.054480</td>\n",
       "      <td id=\"T_9956a_row3_col2\" class=\"data row3 col2\" >-0.014228</td>\n",
       "      <td id=\"T_9956a_row3_col3\" class=\"data row3 col3\" >1.000000</td>\n",
       "      <td id=\"T_9956a_row3_col4\" class=\"data row3 col4\" >0.013879</td>\n",
       "      <td id=\"T_9956a_row3_col5\" class=\"data row3 col5\" >-0.007322</td>\n",
       "      <td id=\"T_9956a_row3_col6\" class=\"data row3 col6\" >0.010141</td>\n",
       "    </tr>\n",
       "    <tr>\n",
       "      <th id=\"T_9956a_level0_row4\" class=\"row_heading level0 row4\" >Spa</th>\n",
       "      <td id=\"T_9956a_row4_col0\" class=\"data row4 col0\" >0.123970</td>\n",
       "      <td id=\"T_9956a_row4_col1\" class=\"data row4 col1\" >0.010080</td>\n",
       "      <td id=\"T_9956a_row4_col2\" class=\"data row4 col2\" >0.221891</td>\n",
       "      <td id=\"T_9956a_row4_col3\" class=\"data row4 col3\" >0.013879</td>\n",
       "      <td id=\"T_9956a_row4_col4\" class=\"data row4 col4\" >1.000000</td>\n",
       "      <td id=\"T_9956a_row4_col5\" class=\"data row4 col5\" >0.153821</td>\n",
       "      <td id=\"T_9956a_row4_col6\" class=\"data row4 col6\" >-0.221131</td>\n",
       "    </tr>\n",
       "    <tr>\n",
       "      <th id=\"T_9956a_level0_row5\" class=\"row_heading level0 row5\" >VRDeck</th>\n",
       "      <td id=\"T_9956a_row5_col0\" class=\"data row5 col0\" >0.101007</td>\n",
       "      <td id=\"T_9956a_row5_col1\" class=\"data row5 col1\" >-0.019581</td>\n",
       "      <td id=\"T_9956a_row5_col2\" class=\"data row5 col2\" >0.227995</td>\n",
       "      <td id=\"T_9956a_row5_col3\" class=\"data row5 col3\" >-0.007322</td>\n",
       "      <td id=\"T_9956a_row5_col4\" class=\"data row5 col4\" >0.153821</td>\n",
       "      <td id=\"T_9956a_row5_col5\" class=\"data row5 col5\" >1.000000</td>\n",
       "      <td id=\"T_9956a_row5_col6\" class=\"data row5 col6\" >-0.207075</td>\n",
       "    </tr>\n",
       "    <tr>\n",
       "      <th id=\"T_9956a_level0_row6\" class=\"row_heading level0 row6\" >Transported</th>\n",
       "      <td id=\"T_9956a_row6_col0\" class=\"data row6 col0\" >-0.075026</td>\n",
       "      <td id=\"T_9956a_row6_col1\" class=\"data row6 col1\" >-0.244611</td>\n",
       "      <td id=\"T_9956a_row6_col2\" class=\"data row6 col2\" >0.046566</td>\n",
       "      <td id=\"T_9956a_row6_col3\" class=\"data row6 col3\" >0.010141</td>\n",
       "      <td id=\"T_9956a_row6_col4\" class=\"data row6 col4\" >-0.221131</td>\n",
       "      <td id=\"T_9956a_row6_col5\" class=\"data row6 col5\" >-0.207075</td>\n",
       "      <td id=\"T_9956a_row6_col6\" class=\"data row6 col6\" >1.000000</td>\n",
       "    </tr>\n",
       "  </tbody>\n",
       "</table>\n"
      ],
      "text/plain": [
       "<pandas.io.formats.style.Styler at 0x224ed8e8610>"
      ]
     },
     "metadata": {},
     "output_type": "display_data"
    }
   ],
   "source": [
    "display(train_data_og.corr().style)"
   ]
  },
  {
   "attachments": {},
   "cell_type": "markdown",
   "metadata": {},
   "source": [
    "Age has bad correlation with Transported. Others are no good either.   \n",
    "Maybe making Age bands and clubbing all the prices together might reveal something."
   ]
  },
  {
   "cell_type": "code",
   "execution_count": 132,
   "metadata": {},
   "outputs": [
    {
     "data": {
      "text/plain": [
       "array([[<AxesSubplot: title={'center': 'VRDeck'}>]], dtype=object)"
      ]
     },
     "execution_count": 132,
     "metadata": {},
     "output_type": "execute_result"
    },
    {
     "data": {
      "image/png": "[encoded data removed]",
      "text/plain": [
       "<Figure size 1000x300 with 2 Axes>"
      ]
     },
     "metadata": {},
     "output_type": "display_data"
    },
    {
     "data": {
      "image/png": "[encoded data removed]",
      "text/plain": [
       "<Figure size 500x200 with 1 Axes>"
      ]
     },
     "metadata": {},
     "output_type": "display_data"
    },
    {
     "data": {
      "image/png": "[encoded data removed]",
      "text/plain": [
       "<Figure size 500x200 with 1 Axes>"
      ]
     },
     "metadata": {},
     "output_type": "display_data"
    },
    {
     "data": {
      "image/png": "[encoded data removed]",
      "text/plain": [
       "<Figure size 500x200 with 1 Axes>"
      ]
     },
     "metadata": {},
     "output_type": "display_data"
    },
    {
     "data": {
      "image/png": "[encoded data removed]",
      "text/plain": [
       "<Figure size 500x200 with 1 Axes>"
      ]
     },
     "metadata": {},
     "output_type": "display_data"
    },
    {
     "data": {
      "image/png": "[encoded data removed]",
      "text/plain": [
       "<Figure size 500x200 with 1 Axes>"
      ]
     },
     "metadata": {},
     "output_type": "display_data"
    }
   ],
   "source": [
    "train_data_og.hist(column= [\"Age\"],by='Transported', bins =20, figsize=(10,3), legend=True, sharey=True) \n",
    "train_data_og.hist(column=[\"FoodCourt\"], bins = 50, figsize=(5,2), log =True)\n",
    "train_data_og.hist(column= [\"RoomService\"], bins = 50, figsize=(5,2),log =True)\n",
    "train_data_og.hist(column= [\"ShoppingMall\"], bins = 50, figsize=(5,2),log =True)\n",
    "train_data_og.hist(column= [\"Spa\"], bins = 50, figsize=(5,2),log =True)\n",
    "train_data_og.hist(column= [\"VRDeck\"], bins = 50, figsize=(5,2), log = True)"
   ]
  },
  {
   "attachments": {},
   "cell_type": "markdown",
   "metadata": {},
   "source": [
    "maybe create Age bins: [0,12],[13,40],[41,80] "
   ]
  },
  {
   "cell_type": "code",
   "execution_count": 48,
   "metadata": {},
   "outputs": [
    {
     "name": "stdout",
     "output_type": "stream",
     "text": [
      "HomePlanet\n",
      "Earth     0.423946\n",
      "Europa    0.658846\n",
      "Mars      0.523024\n",
      "Name: Transported, dtype: float64\n",
      "CryoSleep\n",
      "False    0.328921\n",
      "True     0.817583\n",
      "Name: Transported, dtype: float64\n",
      "Destination\n",
      "55 Cancri e      0.610000\n",
      "PSO J318.5-22    0.503769\n",
      "TRAPPIST-1e      0.471175\n",
      "Name: Transported, dtype: float64\n",
      "VIP\n",
      "False    0.506332\n",
      "True     0.381910\n",
      "Name: Transported, dtype: float64\n"
     ]
    }
   ],
   "source": [
    "print(train_data_og[['HomePlanet','Transported']].groupby(['HomePlanet'])['Transported'].mean())\n",
    "print(train_data_og[['CryoSleep','Transported']].groupby(['CryoSleep'])['Transported'].mean())\n",
    "print(train_data_og[['Destination','Transported']].groupby(['Destination'])['Transported'].mean())\n",
    "print(train_data_og[['VIP','Transported']].groupby(['VIP'])['Transported'].mean())"
   ]
  },
  {
   "attachments": {},
   "cell_type": "markdown",
   "metadata": {},
   "source": [
    "CryoSleep and VIP have good correlation to Transported"
   ]
  },
  {
   "attachments": {},
   "cell_type": "markdown",
   "metadata": {},
   "source": [
    "# Data Wrangling & Cleaning\n",
    "* (DONE) Drop attribute:  PassengerId, Name  \n",
    "* (DONE) Interpolate data using forward fill: HomePlanet, CryoSleep, Cabin, Destination, VIP\n",
    "* (DONE) Interpolate data acc. to distribution: Age, RoomService, FoodCourt, ShoppingMall, Spa, VRDeck\n",
    "* (DONE) HomePlanet/Destination: Convert into numeric.\n",
    "* (DONE) Cabin: Extract deck/num/side into different features  \n",
    "* (DONE) PassengerId: Extract gggg_pp into different features  \n",
    "* (X) Age: make it ordinal by breaking into bands  \n",
    "* (X) Price: Combine all the services into one feature.  \n",
    "\n",
    "interpolation can be done better, taking median is not a good idea. https://www.kaggle.com/competitions/spaceship-titanic/discussion/315987"
   ]
  },
  {
   "cell_type": "code",
   "execution_count": 134,
   "metadata": {},
   "outputs": [
    {
     "name": "stdout",
     "output_type": "stream",
     "text": [
      "['TRAPPIST-1e' 'PSO J318.5-22' '55 Cancri e' nan]\n",
      "28.65814620162446\n"
     ]
    }
   ],
   "source": [
    "print(train_data_og['Destination'].unique())\n",
    "print(dataset['Age'].mean())"
   ]
  },
  {
   "cell_type": "code",
   "execution_count": 215,
   "metadata": {},
   "outputs": [
    {
     "data": {
      "text/html": [
       "<style type=\"text/css\">\n",
       "</style>\n",
       "<table id=\"T_430f1\">\n",
       "  <thead>\n",
       "    <tr>\n",
       "      <th class=\"blank level0\" >&nbsp;</th>\n",
       "      <th id=\"T_430f1_level0_col0\" class=\"col_heading level0 col0\" >HomePlanet</th>\n",
       "      <th id=\"T_430f1_level0_col1\" class=\"col_heading level0 col1\" >CryoSleep</th>\n",
       "      <th id=\"T_430f1_level0_col2\" class=\"col_heading level0 col2\" >Destination</th>\n",
       "      <th id=\"T_430f1_level0_col3\" class=\"col_heading level0 col3\" >Age</th>\n",
       "      <th id=\"T_430f1_level0_col4\" class=\"col_heading level0 col4\" >VIP</th>\n",
       "      <th id=\"T_430f1_level0_col5\" class=\"col_heading level0 col5\" >RoomService</th>\n",
       "      <th id=\"T_430f1_level0_col6\" class=\"col_heading level0 col6\" >FoodCourt</th>\n",
       "      <th id=\"T_430f1_level0_col7\" class=\"col_heading level0 col7\" >ShoppingMall</th>\n",
       "      <th id=\"T_430f1_level0_col8\" class=\"col_heading level0 col8\" >Spa</th>\n",
       "      <th id=\"T_430f1_level0_col9\" class=\"col_heading level0 col9\" >VRDeck</th>\n",
       "      <th id=\"T_430f1_level0_col10\" class=\"col_heading level0 col10\" >Transported</th>\n",
       "      <th id=\"T_430f1_level0_col11\" class=\"col_heading level0 col11\" >Deck</th>\n",
       "      <th id=\"T_430f1_level0_col12\" class=\"col_heading level0 col12\" >Num</th>\n",
       "      <th id=\"T_430f1_level0_col13\" class=\"col_heading level0 col13\" >Side</th>\n",
       "      <th id=\"T_430f1_level0_col14\" class=\"col_heading level0 col14\" >Group</th>\n",
       "      <th id=\"T_430f1_level0_col15\" class=\"col_heading level0 col15\" >PassengerNo</th>\n",
       "      <th id=\"T_430f1_level0_col16\" class=\"col_heading level0 col16\" >TotalBill</th>\n",
       "    </tr>\n",
       "  </thead>\n",
       "  <tbody>\n",
       "    <tr>\n",
       "      <th id=\"T_430f1_level0_row0\" class=\"row_heading level0 row0\" >5551</th>\n",
       "      <td id=\"T_430f1_row0_col0\" class=\"data row0 col0\" >1</td>\n",
       "      <td id=\"T_430f1_row0_col1\" class=\"data row0 col1\" >False</td>\n",
       "      <td id=\"T_430f1_row0_col2\" class=\"data row0 col2\" >1</td>\n",
       "      <td id=\"T_430f1_row0_col3\" class=\"data row0 col3\" >33.000000</td>\n",
       "      <td id=\"T_430f1_row0_col4\" class=\"data row0 col4\" >False</td>\n",
       "      <td id=\"T_430f1_row0_col5\" class=\"data row0 col5\" >48.000000</td>\n",
       "      <td id=\"T_430f1_row0_col6\" class=\"data row0 col6\" >94.000000</td>\n",
       "      <td id=\"T_430f1_row0_col7\" class=\"data row0 col7\" >756.000000</td>\n",
       "      <td id=\"T_430f1_row0_col8\" class=\"data row0 col8\" >308.000000</td>\n",
       "      <td id=\"T_430f1_row0_col9\" class=\"data row0 col9\" >0.000000</td>\n",
       "      <td id=\"T_430f1_row0_col10\" class=\"data row0 col10\" >False</td>\n",
       "      <td id=\"T_430f1_row0_col11\" class=\"data row0 col11\" >2</td>\n",
       "      <td id=\"T_430f1_row0_col12\" class=\"data row0 col12\" >1223</td>\n",
       "      <td id=\"T_430f1_row0_col13\" class=\"data row0 col13\" >2</td>\n",
       "      <td id=\"T_430f1_row0_col14\" class=\"data row0 col14\" >5920</td>\n",
       "      <td id=\"T_430f1_row0_col15\" class=\"data row0 col15\" >1</td>\n",
       "      <td id=\"T_430f1_row0_col16\" class=\"data row0 col16\" >1206.000000</td>\n",
       "    </tr>\n",
       "    <tr>\n",
       "      <th id=\"T_430f1_level0_row1\" class=\"row_heading level0 row1\" >2206</th>\n",
       "      <td id=\"T_430f1_row1_col0\" class=\"data row1 col0\" >1</td>\n",
       "      <td id=\"T_430f1_row1_col1\" class=\"data row1 col1\" >False</td>\n",
       "      <td id=\"T_430f1_row1_col2\" class=\"data row1 col2\" >2</td>\n",
       "      <td id=\"T_430f1_row1_col3\" class=\"data row1 col3\" >29.000000</td>\n",
       "      <td id=\"T_430f1_row1_col4\" class=\"data row1 col4\" >False</td>\n",
       "      <td id=\"T_430f1_row1_col5\" class=\"data row1 col5\" >0.000000</td>\n",
       "      <td id=\"T_430f1_row1_col6\" class=\"data row1 col6\" >0.000000</td>\n",
       "      <td id=\"T_430f1_row1_col7\" class=\"data row1 col7\" >792.000000</td>\n",
       "      <td id=\"T_430f1_row1_col8\" class=\"data row1 col8\" >0.000000</td>\n",
       "      <td id=\"T_430f1_row1_col9\" class=\"data row1 col9\" >0.000000</td>\n",
       "      <td id=\"T_430f1_row1_col10\" class=\"data row1 col10\" >True</td>\n",
       "      <td id=\"T_430f1_row1_col11\" class=\"data row1 col11\" >2</td>\n",
       "      <td id=\"T_430f1_row1_col12\" class=\"data row1 col12\" >481</td>\n",
       "      <td id=\"T_430f1_row1_col13\" class=\"data row1 col13\" >2</td>\n",
       "      <td id=\"T_430f1_row1_col14\" class=\"data row1 col14\" >2361</td>\n",
       "      <td id=\"T_430f1_row1_col15\" class=\"data row1 col15\" >2</td>\n",
       "      <td id=\"T_430f1_row1_col16\" class=\"data row1 col16\" >792.000000</td>\n",
       "    </tr>\n",
       "    <tr>\n",
       "      <th id=\"T_430f1_level0_row2\" class=\"row_heading level0 row2\" >5713</th>\n",
       "      <td id=\"T_430f1_row2_col0\" class=\"data row2 col0\" >3</td>\n",
       "      <td id=\"T_430f1_row2_col1\" class=\"data row2 col1\" >True</td>\n",
       "      <td id=\"T_430f1_row2_col2\" class=\"data row2 col2\" >1</td>\n",
       "      <td id=\"T_430f1_row2_col3\" class=\"data row2 col3\" >28.000000</td>\n",
       "      <td id=\"T_430f1_row2_col4\" class=\"data row2 col4\" >False</td>\n",
       "      <td id=\"T_430f1_row2_col5\" class=\"data row2 col5\" >0.000000</td>\n",
       "      <td id=\"T_430f1_row2_col6\" class=\"data row2 col6\" >0.000000</td>\n",
       "      <td id=\"T_430f1_row2_col7\" class=\"data row2 col7\" >0.000000</td>\n",
       "      <td id=\"T_430f1_row2_col8\" class=\"data row2 col8\" >0.000000</td>\n",
       "      <td id=\"T_430f1_row2_col9\" class=\"data row2 col9\" >0.000000</td>\n",
       "      <td id=\"T_430f1_row2_col10\" class=\"data row2 col10\" >True</td>\n",
       "      <td id=\"T_430f1_row2_col11\" class=\"data row2 col11\" >2</td>\n",
       "      <td id=\"T_430f1_row2_col12\" class=\"data row2 col12\" >1151</td>\n",
       "      <td id=\"T_430f1_row2_col13\" class=\"data row2 col13\" >1</td>\n",
       "      <td id=\"T_430f1_row2_col14\" class=\"data row2 col14\" >6054</td>\n",
       "      <td id=\"T_430f1_row2_col15\" class=\"data row2 col15\" >1</td>\n",
       "      <td id=\"T_430f1_row2_col16\" class=\"data row2 col16\" >0.000000</td>\n",
       "    </tr>\n",
       "    <tr>\n",
       "      <th id=\"T_430f1_level0_row3\" class=\"row_heading level0 row3\" >4458</th>\n",
       "      <td id=\"T_430f1_row3_col0\" class=\"data row3 col0\" >1</td>\n",
       "      <td id=\"T_430f1_row3_col1\" class=\"data row3 col1\" >False</td>\n",
       "      <td id=\"T_430f1_row3_col2\" class=\"data row3 col2\" >1</td>\n",
       "      <td id=\"T_430f1_row3_col3\" class=\"data row3 col3\" >22.000000</td>\n",
       "      <td id=\"T_430f1_row3_col4\" class=\"data row3 col4\" >False</td>\n",
       "      <td id=\"T_430f1_row3_col5\" class=\"data row3 col5\" >37.000000</td>\n",
       "      <td id=\"T_430f1_row3_col6\" class=\"data row3 col6\" >3.000000</td>\n",
       "      <td id=\"T_430f1_row3_col7\" class=\"data row3 col7\" >0.000000</td>\n",
       "      <td id=\"T_430f1_row3_col8\" class=\"data row3 col8\" >305.000000</td>\n",
       "      <td id=\"T_430f1_row3_col9\" class=\"data row3 col9\" >581.000000</td>\n",
       "      <td id=\"T_430f1_row3_col10\" class=\"data row3 col10\" >True</td>\n",
       "      <td id=\"T_430f1_row3_col11\" class=\"data row3 col11\" >4</td>\n",
       "      <td id=\"T_430f1_row3_col12\" class=\"data row3 col12\" >773</td>\n",
       "      <td id=\"T_430f1_row3_col13\" class=\"data row3 col13\" >1</td>\n",
       "      <td id=\"T_430f1_row3_col14\" class=\"data row3 col14\" >4739</td>\n",
       "      <td id=\"T_430f1_row3_col15\" class=\"data row3 col15\" >1</td>\n",
       "      <td id=\"T_430f1_row3_col16\" class=\"data row3 col16\" >926.000000</td>\n",
       "    </tr>\n",
       "    <tr>\n",
       "      <th id=\"T_430f1_level0_row4\" class=\"row_heading level0 row4\" >6668</th>\n",
       "      <td id=\"T_430f1_row4_col0\" class=\"data row4 col0\" >1</td>\n",
       "      <td id=\"T_430f1_row4_col1\" class=\"data row4 col1\" >False</td>\n",
       "      <td id=\"T_430f1_row4_col2\" class=\"data row4 col2\" >1</td>\n",
       "      <td id=\"T_430f1_row4_col3\" class=\"data row4 col3\" >20.000000</td>\n",
       "      <td id=\"T_430f1_row4_col4\" class=\"data row4 col4\" >False</td>\n",
       "      <td id=\"T_430f1_row4_col5\" class=\"data row4 col5\" >0.000000</td>\n",
       "      <td id=\"T_430f1_row4_col6\" class=\"data row4 col6\" >0.000000</td>\n",
       "      <td id=\"T_430f1_row4_col7\" class=\"data row4 col7\" >2330.000000</td>\n",
       "      <td id=\"T_430f1_row4_col8\" class=\"data row4 col8\" >120.000000</td>\n",
       "      <td id=\"T_430f1_row4_col9\" class=\"data row4 col9\" >0.000000</td>\n",
       "      <td id=\"T_430f1_row4_col10\" class=\"data row4 col10\" >True</td>\n",
       "      <td id=\"T_430f1_row4_col11\" class=\"data row4 col11\" >2</td>\n",
       "      <td id=\"T_430f1_row4_col12\" class=\"data row4 col12\" >1458</td>\n",
       "      <td id=\"T_430f1_row4_col13\" class=\"data row4 col13\" >2</td>\n",
       "      <td id=\"T_430f1_row4_col14\" class=\"data row4 col14\" >7029</td>\n",
       "      <td id=\"T_430f1_row4_col15\" class=\"data row4 col15\" >1</td>\n",
       "      <td id=\"T_430f1_row4_col16\" class=\"data row4 col16\" >2450.000000</td>\n",
       "    </tr>\n",
       "  </tbody>\n",
       "</table>\n"
      ],
      "text/plain": [
       "<pandas.io.formats.style.Styler at 0x224860f59a0>"
      ]
     },
     "metadata": {},
     "output_type": "display_data"
    },
    {
     "name": "stdout",
     "output_type": "stream",
     "text": [
      "HomePlanet      0\n",
      "CryoSleep       0\n",
      "Destination     0\n",
      "Age             0\n",
      "VIP             0\n",
      "RoomService     0\n",
      "FoodCourt       0\n",
      "ShoppingMall    0\n",
      "Spa             0\n",
      "VRDeck          0\n",
      "Transported     0\n",
      "Deck            0\n",
      "Num             0\n",
      "Side            0\n",
      "Group           0\n",
      "PassengerNo     0\n",
      "TotalBill       0\n",
      "dtype: int64\n"
     ]
    }
   ],
   "source": [
    "train_data = train_data_og.copy()\n",
    "test_data = test_data_og.copy()\n",
    "\n",
    "combine = [train_data,test_data]\n",
    "\n",
    "for dataset in combine:\n",
    "    \n",
    "    dataset.drop(columns=['Name'], axis=1, inplace=True)\n",
    "\n",
    "    dataset['HomePlanet'] = dataset['HomePlanet'].fillna(method = 'ffill')\n",
    "    dataset['Destination'] = dataset['Destination'].fillna(method = 'ffill')\n",
    "    dataset['CryoSleep'] = dataset['CryoSleep'].fillna(method = 'ffill')\n",
    "    dataset['VIP'] = dataset['VIP'].fillna(method = 'ffill')\n",
    "    dataset['Age'] = dataset['Age'].fillna(value = dataset['Age'].mean())\n",
    "    dataset['RoomService'] = dataset['RoomService'].fillna(value = dataset['RoomService'].median())\n",
    "    dataset['FoodCourt'] = dataset['FoodCourt'].fillna(value = dataset['FoodCourt'].median())\n",
    "    dataset['ShoppingMall'] = dataset['ShoppingMall'].fillna(value = dataset['ShoppingMall'].median())\n",
    "    dataset['Spa'] = dataset['Spa'].fillna(value = dataset['Spa'].median())\n",
    "    dataset['VRDeck'] = dataset['VRDeck'].fillna(value = dataset['VRDeck'].median())\n",
    "\n",
    "    dataset['Cabin'] = dataset['Cabin'].fillna(method = 'ffill')\n",
    "    cabin_split = dataset['Cabin'].str.split('/', n=-1, expand= True)\n",
    "    dataset['Deck'] = cabin_split[0]\n",
    "    dataset['Num'] = cabin_split[1].astype(int)\n",
    "    dataset['Side'] = cabin_split[2]\n",
    "    dataset.drop(columns=['Cabin'], axis=1, inplace=True)\n",
    "\n",
    "    passengerid_split = dataset['PassengerId'].str.split('_', n = -1, expand = True) \n",
    "    dataset['Group'] = passengerid_split[0].astype(int)\n",
    "    dataset['PassengerNo'] = passengerid_split[1].astype(int)\n",
    "    dataset.drop(columns=['PassengerId'], axis=1, inplace=True)\n",
    "\n",
    "    dataset['TotalBill'] = dataset['RoomService'] + dataset['FoodCourt'] + dataset['ShoppingMall'] + dataset ['Spa'] + dataset['VRDeck']\n",
    "\n",
    "    dataset['HomePlanet'] = dataset['HomePlanet'].map({'Earth':1,'Europa':2, 'Mars':3})\n",
    "    dataset['Destination'] = dataset['Destination'].map({'TRAPPIST-1e':1, 'PSO J318.5-22':2, '55 Cancri e':3})\n",
    "    dataset['Deck'] = dataset['Deck'].map({'B':1, 'F':2, 'A':3, 'G':4, 'E':5, 'D':6, 'C':7, 'T':8})\n",
    "    dataset['Side'] = dataset['Side'].map({'S':1, 'P':2})\n",
    "    \n",
    "\n",
    "# print(train_data.dtypes)\n",
    "display(train_data.sample(n=5).style)\n",
    "print(train_data.isnull().sum())\n",
    "\n",
    "\n",
    "\n",
    "\n",
    "\n"
   ]
  },
  {
   "attachments": {},
   "cell_type": "markdown",
   "metadata": {},
   "source": [
    "# Modeling"
   ]
  },
  {
   "cell_type": "code",
   "execution_count": 216,
   "metadata": {},
   "outputs": [
    {
     "name": "stdout",
     "output_type": "stream",
     "text": [
      "(8693, 16) (8693, 14)\n"
     ]
    }
   ],
   "source": [
    "train_data = train_data.drop(columns=['Transported'],axis = 1)\n",
    "print(train_data.shape, train_data_og.shape)"
   ]
  },
  {
   "cell_type": "code",
   "execution_count": 217,
   "metadata": {},
   "outputs": [
    {
     "name": "stdout",
     "output_type": "stream",
     "text": [
      "Accuracy : 0.8050603795284647\n"
     ]
    }
   ],
   "source": [
    "train_features, test_features, train_labels, test_labels = train_test_split(train_data,train_data_og['Transported'], test_size = 0.2)\n",
    "\n",
    "rf = RandomForestClassifier(n_estimators=500)\n",
    "\n",
    "rf.fit(train_features,train_labels)\n",
    "\n",
    "test_predictions = rf.predict(test_features)\n",
    "\n",
    "print(f'Accuracy : {accuracy_score(test_labels, test_predictions)}')\n",
    "\n"
   ]
  },
  {
   "attachments": {},
   "cell_type": "markdown",
   "metadata": {},
   "source": [
    "Finally Running on Test.csv"
   ]
  },
  {
   "cell_type": "code",
   "execution_count": 209,
   "metadata": {},
   "outputs": [],
   "source": [
    "rf_final = RandomForestClassifier(n_estimators=500)\n",
    "rf_final.fit(train_data,train_data_og['Transported'])\n",
    "final_predictions = rf_final.predict(test_data)\n",
    "result = pd.DataFrame({\"PassengerId\":test_data_og['PassengerId'],\n",
    "                        'Transported': final_predictions.astype(bool)})\n",
    "result.to_csv('./final_submission.csv',index=False)\n",
    "# gives 0.79611 score"
   ]
  },
  {
   "attachments": {},
   "cell_type": "markdown",
   "metadata": {},
   "source": [
    "Hyperparameter Tuning\n"
   ]
  },
  {
   "cell_type": "code",
   "execution_count": null,
   "metadata": {},
   "outputs": [],
   "source": [
    "param_grid = {'n_estimators':[100,200,500,800],\n",
    "                'max_depth': [5,10,15],\n",
    "                'criterion': ['gini','entropy','log_loss']}\n",
    "\n",
    "rf = RandomForestClassifier()\n",
    "rf_CV = GridSearchCV(estimator = rf, param_grid = param_grid, cv = 5)\n",
    "\n",
    "rf_CV.fit(train_features,train_labels)\n",
    "\n",
    "rf_CV.best_params_\n"
   ]
  },
  {
   "cell_type": "code",
   "execution_count": 219,
   "metadata": {},
   "outputs": [],
   "source": [
    "rf_final = RandomForestClassifier(criterion= 'log_loss', max_depth= 15, n_estimators= 100)\n",
    "rf_final.fit(train_data,train_data_og['Transported'])\n",
    "final_predictions = rf_final.predict(test_data)\n",
    "result = pd.DataFrame({\"PassengerId\":test_data_og['PassengerId'],\n",
    "                        'Transported': final_predictions.astype(bool)})\n",
    "result.to_csv('./final_submission.csv',index=False)\n",
    "# gives 0.79728 score"
   ]
  },
  {
   "attachments": {},
   "cell_type": "markdown",
   "metadata": {},
   "source": [
    "Lazy Prediction:\n"
   ]
  },
  {
   "cell_type": "code",
   "execution_count": 210,
   "metadata": {},
   "outputs": [
    {
     "name": "stderr",
     "output_type": "stream",
     "text": [
      "  7%|▋         | 2/29 [00:00<00:13,  2.05it/s]e:\\Coding prac\\lib\\site-packages\\sklearn\\svm\\_base.py:1244: ConvergenceWarning: Liblinear failed to converge, increase the number of iterations.\n",
      "  warnings.warn(\n",
      "e:\\Coding prac\\lib\\site-packages\\sklearn\\svm\\_base.py:1244: ConvergenceWarning: Liblinear failed to converge, increase the number of iterations.\n",
      "  warnings.warn(\n",
      "e:\\Coding prac\\lib\\site-packages\\sklearn\\svm\\_base.py:1244: ConvergenceWarning: Liblinear failed to converge, increase the number of iterations.\n",
      "  warnings.warn(\n",
      "e:\\Coding prac\\lib\\site-packages\\sklearn\\svm\\_base.py:1244: ConvergenceWarning: Liblinear failed to converge, increase the number of iterations.\n",
      "  warnings.warn(\n",
      "e:\\Coding prac\\lib\\site-packages\\sklearn\\svm\\_base.py:1244: ConvergenceWarning: Liblinear failed to converge, increase the number of iterations.\n",
      "  warnings.warn(\n",
      " 38%|███▊      | 11/29 [00:04<00:06,  2.71it/s]e:\\Coding prac\\lib\\site-packages\\sklearn\\semi_supervised\\_label_propagation.py:227: RuntimeWarning: invalid value encountered in divide\n",
      "  probabilities /= normalizer\n",
      " 41%|████▏     | 12/29 [00:06<00:11,  1.43it/s]e:\\Coding prac\\lib\\site-packages\\sklearn\\semi_supervised\\_label_propagation.py:227: RuntimeWarning: invalid value encountered in divide\n",
      "  probabilities /= normalizer\n",
      " 45%|████▍     | 13/29 [00:10<00:19,  1.24s/it]e:\\Coding prac\\lib\\site-packages\\sklearn\\svm\\_base.py:1244: ConvergenceWarning: Liblinear failed to converge, increase the number of iterations.\n",
      "  warnings.warn(\n",
      "100%|██████████| 29/29 [00:18<00:00,  1.53it/s]"
     ]
    },
    {
     "name": "stdout",
     "output_type": "stream",
     "text": [
      "                               Accuracy  Balanced Accuracy  ROC AUC  F1 Score  \\\n",
      "Model                                                                           \n",
      "ExtraTreesClassifier               0.80               0.80     0.80      0.80   \n",
      "LGBMClassifier                     0.80               0.80     0.80      0.80   \n",
      "SVC                                0.80               0.80     0.80      0.80   \n",
      "XGBClassifier                      0.79               0.79     0.79      0.79   \n",
      "RandomForestClassifier             0.79               0.79     0.79      0.79   \n",
      "NuSVC                              0.79               0.79     0.79      0.79   \n",
      "BaggingClassifier                  0.78               0.78     0.78      0.78   \n",
      "AdaBoostClassifier                 0.78               0.78     0.78      0.78   \n",
      "SGDClassifier                      0.77               0.77     0.77      0.77   \n",
      "LogisticRegression                 0.77               0.77     0.77      0.77   \n",
      "LinearSVC                          0.77               0.77     0.77      0.77   \n",
      "CalibratedClassifierCV             0.77               0.77     0.77      0.77   \n",
      "KNeighborsClassifier               0.76               0.76     0.76      0.76   \n",
      "BernoulliNB                        0.75               0.75     0.75      0.75   \n",
      "LinearDiscriminantAnalysis         0.73               0.73     0.73      0.73   \n",
      "RidgeClassifier                    0.73               0.73     0.73      0.73   \n",
      "RidgeClassifierCV                  0.73               0.73     0.73      0.73   \n",
      "DecisionTreeClassifier             0.73               0.73     0.73      0.73   \n",
      "LabelSpreading                     0.73               0.73     0.73      0.73   \n",
      "NearestCentroid                    0.73               0.73     0.73      0.72   \n",
      "LabelPropagation                   0.72               0.72     0.72      0.72   \n",
      "ExtraTreeClassifier                0.71               0.71     0.71      0.71   \n",
      "Perceptron                         0.70               0.70     0.70      0.69   \n",
      "QuadraticDiscriminantAnalysis      0.70               0.70     0.70      0.68   \n",
      "GaussianNB                         0.68               0.67     0.67      0.65   \n",
      "PassiveAggressiveClassifier        0.67               0.67     0.67      0.67   \n",
      "DummyClassifier                    0.51               0.50     0.50      0.34   \n",
      "\n",
      "                               Time Taken  \n",
      "Model                                      \n",
      "ExtraTreesClassifier                 1.15  \n",
      "LGBMClassifier                       0.23  \n",
      "SVC                                  2.36  \n",
      "XGBClassifier                        0.73  \n",
      "RandomForestClassifier               1.48  \n",
      "NuSVC                                3.18  \n",
      "BaggingClassifier                    0.45  \n",
      "AdaBoostClassifier                   0.54  \n",
      "SGDClassifier                        0.06  \n",
      "LogisticRegression                   0.05  \n",
      "LinearSVC                            0.50  \n",
      "CalibratedClassifierCV               2.12  \n",
      "KNeighborsClassifier                 0.35  \n",
      "BernoulliNB                          0.03  \n",
      "LinearDiscriminantAnalysis           0.04  \n",
      "RidgeClassifier                      0.03  \n",
      "RidgeClassifierCV                    0.04  \n",
      "DecisionTreeClassifier               0.07  \n",
      "LabelSpreading                       3.20  \n",
      "NearestCentroid                      0.03  \n",
      "LabelPropagation                     2.07  \n",
      "ExtraTreeClassifier                  0.03  \n",
      "Perceptron                           0.03  \n",
      "QuadraticDiscriminantAnalysis        0.04  \n",
      "GaussianNB                           0.04  \n",
      "PassiveAggressiveClassifier          0.03  \n",
      "DummyClassifier                      0.02  \n"
     ]
    },
    {
     "name": "stderr",
     "output_type": "stream",
     "text": [
      "\n"
     ]
    }
   ],
   "source": [
    "lazy_classifier = LazyClassifier(verbose=0, ignore_warnings=True, custom_metric=None, predictions=False, random_state=42, classifiers='all')\n",
    "\n",
    "models, lazy_predictions = lazy_classifier.fit(train_features, test_features, train_labels, test_labels)\n",
    "print(models)"
   ]
  },
  {
   "attachments": {},
   "cell_type": "markdown",
   "metadata": {},
   "source": [
    "Using Light Gradient Boosting Machine (LGBM classifier) model "
   ]
  },
  {
   "cell_type": "code",
   "execution_count": 220,
   "metadata": {},
   "outputs": [
    {
     "data": {
      "text/plain": [
       "{'learning_rate': 0.1,\n",
       " 'max_depth': -1,\n",
       " 'n_estimators': 80,\n",
       " 'objective': 'binary'}"
      ]
     },
     "execution_count": 220,
     "metadata": {},
     "output_type": "execute_result"
    }
   ],
   "source": [
    "param_grid = {'n_estimators':[40,60,80],\n",
    "                'max_depth': [-1,10,12,15],\n",
    "                'learning_rate': [0.1,0.15,0.2],\n",
    "                'objective': ['binary']}\n",
    "\n",
    "lg = lgbm.LGBMClassifier()\n",
    "lg_CV = GridSearchCV(estimator = lg, param_grid = param_grid, cv = 5)\n",
    "\n",
    "lg_CV.fit(train_features,train_labels)\n",
    "\n",
    "lg_CV.best_params_"
   ]
  },
  {
   "cell_type": "code",
   "execution_count": 221,
   "metadata": {},
   "outputs": [
    {
     "name": "stdout",
     "output_type": "stream",
     "text": [
      "Accuracy : 0.8125359401955147\n"
     ]
    }
   ],
   "source": [
    "lg_final = lgbm.LGBMClassifier( learning_rate = 0.1,\n",
    "                            max_depth = -1,\n",
    "                            n_estimators = 80,\n",
    "                            objective = 'binary')\n",
    "lg_final.fit(train_features, train_labels)\n",
    "test_predictions = lg_final.predict(test_features)\n",
    "\n",
    "print(f'Accuracy : {accuracy_score(test_labels, test_predictions)}')\n"
   ]
  },
  {
   "cell_type": "code",
   "execution_count": 222,
   "metadata": {},
   "outputs": [],
   "source": [
    "lg_final.fit(train_data,train_data_og['Transported'])\n",
    "final_predictions = lg_final.predict(test_data)\n",
    "result = pd.DataFrame({\"PassengerId\":test_data_og['PassengerId'],\n",
    "                        'Transported': final_predictions.astype(bool)})\n",
    "result.to_csv('./final_submission.csv',index=False)\n",
    "# score is 0.80593"
   ]
  },
  {
   "attachments": {
    "image.png": {
     "image/png": "[encoded data removed]"
    }
   },
   "cell_type": "markdown",
   "metadata": {},
   "source": [
    "![image.png](attachment:image.png)"
   ]
  }
 ],
 "metadata": {
  "kernelspec": {
   "display_name": "Coding prac",
   "language": "python",
   "name": "python3"
  },
  "language_info": {
   "codemirror_mode": {
    "name": "ipython",
    "version": 3
   },
   "file_extension": ".py",
   "mimetype": "text/x-python",
   "name": "python",
   "nbconvert_exporter": "python",
   "pygments_lexer": "ipython3",
   "version": "3.8.0"
  },
  "orig_nbformat": 4,
  "vscode": {
   "interpreter": {
    "hash": "f58c01d3280ef83fc61600421c7c5ac6e7ea2fe2e0e9fc76fa916fea3bc77b6d"
   }
  }
 },
 "nbformat": 4,
 "nbformat_minor": 2
}

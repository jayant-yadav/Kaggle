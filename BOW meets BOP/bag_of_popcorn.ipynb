{
 "cells": [
  {
   "cell_type": "code",
   "execution_count": 15,
   "metadata": {},
   "outputs": [],
   "source": [
    "import pandas as pd\n",
    "import numpy as np\n",
    "\n",
    "from nltk.corpus import stopwords\n",
    "from nltk.tokenize import word_tokenize\n",
    "from nltk.stem import PorterStemmer\n",
    "from gensim.models import Word2Vec\n",
    "from string import punctuation\n",
    "from sklearn.feature_extraction.text import CountVectorizer\n",
    "from sklearn.naive_bayes import MultinomialNB\n",
    "\n",
    "\n",
    "# vizualization\n",
    "import seaborn as sns\n",
    "sns.set_theme()\n",
    "import matplotlib.pyplot as plt"
   ]
  },
  {
   "attachments": {},
   "cell_type": "markdown",
   "metadata": {},
   "source": [
    "# EDA"
   ]
  },
  {
   "cell_type": "code",
   "execution_count": 2,
   "metadata": {},
   "outputs": [
    {
     "name": "stdout",
     "output_type": "stream",
     "text": [
      "id           object\n",
      "sentiment     int64\n",
      "review       object\n",
      "dtype: object\n",
      "id        object\n",
      "review    object\n",
      "dtype: object\n",
      "id        object\n",
      "review    object\n",
      "dtype: object\n",
      "id           0\n",
      "sentiment    0\n",
      "review       0\n",
      "dtype: int64\n",
      "id        0\n",
      "review    0\n",
      "dtype: int64\n",
      "id        0\n",
      "review    0\n",
      "dtype: int64\n"
     ]
    }
   ],
   "source": [
    "labeled_train_data_og = pd.read_csv('./labeledTrainData.tsv', sep='\\t')\n",
    "test_data_og = pd.read_csv('./testData.tsv', sep='\\t')\n",
    "unlabeled_train_data_og = pd.read_csv('./unlabeledTrainData.tsv', sep='\\t')\n",
    "\n",
    "labeled_train_data = labeled_train_data_og.copy()\n",
    "test_data = test_data_og.copy()\n",
    "unlabeled_train_data = unlabeled_train_data_og.copy()\n",
    "\n",
    "print(labeled_train_data.dtypes)\n",
    "print(test_data.dtypes)\n",
    "print(unlabeled_train_data.dtypes)\n",
    "print(labeled_train_data.isnull().sum())\n",
    "print(test_data.isnull().sum())\n",
    "print(unlabeled_train_data.isnull().sum())"
   ]
  },
  {
   "cell_type": "code",
   "execution_count": 3,
   "metadata": {},
   "outputs": [
    {
     "name": "stdout",
     "output_type": "stream",
     "text": [
      " positive sentiments in the dataset: 50.0%\n",
      "1    12500\n",
      "0    12500\n",
      "Name: sentiment, dtype: int64\n"
     ]
    },
    {
     "data": {
      "text/plain": [
       "<AxesSubplot: xlabel='sentiment', ylabel='count'>"
      ]
     },
     "execution_count": 3,
     "metadata": {},
     "output_type": "execute_result"
    },
    {
     "data": {
      "image/png": "[encoded data removed]",
      "text/plain": [
       "<Figure size 640x480 with 1 Axes>"
      ]
     },
     "metadata": {},
     "output_type": "display_data"
    }
   ],
   "source": [
    "print(f\" positive sentiments in the dataset: {labeled_train_data['sentiment'].sum()/len(labeled_train_data['sentiment'])*100}%\")\n",
    "print(labeled_train_data['sentiment'].value_counts())\n",
    "sns.countplot(data=labeled_train_data, x=labeled_train_data['sentiment'])"
   ]
  },
  {
   "attachments": {},
   "cell_type": "markdown",
   "metadata": {},
   "source": [
    "## Observations:\n",
    "* Dataset is balanced."
   ]
  },
  {
   "attachments": {},
   "cell_type": "markdown",
   "metadata": {},
   "source": [
    "# Feature Engineering:\n",
    "* (DONE) Needs lowercasing.\n",
    "* (DONE) Remove URLs, numbers.\n",
    "* (DONE) Remove stopwords. \n",
    "* (DONE) Remove punctuations.\n",
    "* Perform Sentence and word tokenization. OR\n",
    "* (DONE) Perform word tokenization.\n",
    "* (DONE) Perform Stemming.\n",
    "* (DONE) Perform Tokenization. "
   ]
  },
  {
   "cell_type": "code",
   "execution_count": 4,
   "metadata": {},
   "outputs": [
    {
     "name": "stdout",
     "output_type": "stream",
     "text": [
      "A Compelling Thriller!!, 10 December 2005 Author:littlehammer16787 from United States<br /><br />Just Cause<br /><br />Starring:Sean Connery,Laurence Fishburne, and Blair Underwood.<br /><br />A liberal,though good-hearted Harvard law professor Paul Armstrong is convoked to the Flordia Everglades by unjustly convicted black guy Bobby Earl.Confessing that sadistic,cold-hearted cops vilifyied and beat him to a pulp to get the confession of a gruesome murder of an eleven year old girl. As he digs further and further into the mysterious case he realizes that Bobby Earl is a victim of discrimination.That the black police detective Lt.Tanny Brown of the small community is corrupt and villainously mean. When the infamous,psychotic serial killer Blair Sullivan is introduced.He discovers that he knows the location of the murder weapon that butchered the little girl.When Armstrong finds that there are lucid coincidences of Sullivan's road trip through the small town and the letter he personally wrote. Bobby Earl gets a re-trial.Is unfettered from prison and eludes his horrific punishment. All seems swimmingly well until an unexpected phone call from serial killer Sullivan comes into focus.Armstrong discovers a lurid double killing which happens to be Sullivan's parents.Whom he immensely detests.Sullivan divulges to Armstrong the truth of Joanie Shriver's heinous murder and why he was brought here.It turns out that Bobby Earl is a psychopathic murderer and he really did rape and kill Joanie Shriver.He just merely struck a bargain with fiendish psycho Sullivan. To get loose so he could kill again for revenge.Upon Armstrong's beautiful wife and daughter.Now Sullivan is executed to his death. Armstrong and tough good guy Brown chase the malevolent villain to the Everglades in order to thwart him.When they arrive Armstrong learns that the psychotic sicko Bobby Earl plans to kill his wife and daughter for a former rape trial that inevitably made him endure agonizing pain and castration.But good,virtuous cop Brown emerges and thwarts the brutal baddie.Is stabbed and eaten by ruthless,man-eating alligators.Paul Armstrong,Tanny Brown,his wife,and daughter survive and live happily ever after. A good thriller that works.Delivers both mystery and subterfuge.How reluctant blacks are hazed by racist lawmen.Sentenced to unfair penalties.Even though sometimes the wrongfully convicted innocent, friendly black man may in truth be the vicious baddie. Sean Connery is great as the oblivious,holier than thou hero.Laurence Fishburne is watchably amazing as the mean,arrogant,but good guy cop. Underwood and Harris are over the top and invigorating as the malevolent psychos.Capeshaw is okay.Ruby Dee is great as the tenacious grandmother.The rest of the cast is wonderful as well.\n",
      "\n",
      " ['compel', 'thriller', 'decemb', 'author', 'littlehamm', 'unit', 'state', 'caus', 'star', 'sean', 'conneri', 'laurenc', 'fishburn', 'blair', 'underwood', 'liber', 'though', 'good', 'heart', 'harvard', 'law', 'professor', 'paul', 'armstrong', 'convok', 'flordia', 'everglad', 'unjustli', 'convict', 'black', 'guy', 'bobbi', 'earl', 'confess', 'sadist', 'cold', 'heart', 'cop', 'vilifyi', 'beat', 'pulp', 'get', 'confess', 'gruesom', 'murder', 'eleven', 'year', 'old', 'girl', 'dig', 'mysteri', 'case', 'realiz', 'bobbi', 'earl', 'victim', 'discrimin', 'black', 'polic', 'detect', 'lt', 'tanni', 'brown', 'small', 'commun', 'corrupt', 'villain', 'mean', 'infam', 'psychot', 'serial', 'killer', 'blair', 'sullivan', 'introduc', 'discov', 'know', 'locat', 'murder', 'weapon', 'butcher', 'littl', 'girl', 'armstrong', 'find', 'lucid', 'coincid', 'sullivan', 'road', 'trip', 'small', 'town', 'letter', 'person', 'wrote', 'bobbi', 'earl', 'get', 'trial', 'unfett', 'prison', 'elud', 'horrif', 'punish', 'seem', 'swimmingli', 'well', 'unexpect', 'phone', 'call', 'serial', 'killer', 'sullivan', 'come', 'focu', 'armstrong', 'discov', 'lurid', 'doubl', 'kill', 'happen', 'sullivan', 'parent', 'immens', 'detest', 'sullivan', 'divulg', 'armstrong', 'truth', 'joani', 'shriver', 'heinou', 'murder', 'brought', 'turn', 'bobbi', 'earl', 'psychopath', 'murder', 'realli', 'rape', 'kill', 'joani', 'shriver', 'mere', 'struck', 'bargain', 'fiendish', 'psycho', 'sullivan', 'get', 'loos', 'could', 'kill', 'reveng', 'upon', 'armstrong', 'beauti', 'wife', 'daughter', 'sullivan', 'execut', 'death', 'armstrong', 'tough', 'good', 'guy', 'brown', 'chase', 'malevol', 'villain', 'everglad', 'order', 'thwart', 'arriv', 'armstrong', 'learn', 'psychot', 'sicko', 'bobbi', 'earl', 'plan', 'kill', 'wife', 'daughter', 'former', 'rape', 'trial', 'inevit', 'made', 'endur', 'agon', 'pain', 'castrat', 'good', 'virtuou', 'cop', 'brown', 'emerg', 'thwart', 'brutal', 'baddi', 'stab', 'eaten', 'ruthless', 'man', 'eat', 'allig', 'paul', 'armstrong', 'tanni', 'brown', 'wife', 'daughter', 'surviv', 'live', 'happili', 'ever', 'good', 'thriller', 'work', 'deliv', 'mysteri', 'subterfug', 'reluct', 'black', 'haze', 'racist', 'lawmen', 'sentenc', 'unfair', 'penalti', 'even', 'though', 'sometim', 'wrong', 'convict', 'innoc', 'friendli', 'black', 'man', 'may', 'truth', 'viciou', 'baddi', 'sean', 'conneri', 'great', 'oblivi', 'holier', 'thou', 'hero', 'laurenc', 'fishburn', 'watchabl', 'amaz', 'mean', 'arrog', 'good', 'guy', 'cop', 'underwood', 'harri', 'top', 'invigor', 'malevol', 'psycho', 'capeshaw', 'okay', 'rubi', 'dee', 'great', 'tenaci', 'grandmoth', 'rest', 'cast', 'wonder', 'well']\n"
     ]
    }
   ],
   "source": [
    "# labeled_train_data['review'] = labeled_train_data['review'].astype('string')\n",
    "# test_data['review'] = test_data['review'].astype('string')\n",
    "# unlabeled_train_data['review'] = unlabeled_train_data['review'].astype('string')\n",
    "\n",
    "# labeled_train_data['review'] = labeled_train_data['review'].lower()\n",
    "# test_data['review'] = test_data['review'].lower()\n",
    "# unlabeled_train_data['review'] = unlabeled_train_data['review'].lower()\n",
    "\n",
    "stopwords_en = set(stopwords.words('english'))\n",
    "punctuation_en = set(punctuation)\n",
    "stopwords_punctuation_en = stopwords_en.union(punctuation_en)\n",
    "porter = PorterStemmer()\n",
    "\n",
    "combined_dataset = [labeled_train_data,test_data,unlabeled_train_data]\n",
    "print(labeled_train_data.loc[20882,'review'])\n",
    "for dataset in combined_dataset:\n",
    "\n",
    "    dataset['review'] = dataset['review'].astype('string')\n",
    "    dataset.replace(to_replace={'review':{r'http\\S+':'',r'[0-9]+':'',  r'<br \\/>':' ', r'[^A-Za-z0-9# ]+':' '}}, regex=True, inplace=True)\n",
    "    dataset['review'] = dataset['review'].str.lower().apply(word_tokenize)\n",
    "    dataset['review'] = dataset['review'].apply(lambda x: [word for word in x if word not in stopwords_punctuation_en])\n",
    "    dataset['review'] = dataset['review'].apply(lambda x: [porter.stem(word) for word in x ])\n",
    "\n",
    "print('\\n',labeled_train_data.loc[20882,'review'])"
   ]
  },
  {
   "attachments": {},
   "cell_type": "markdown",
   "metadata": {},
   "source": [
    "## Observations:\n",
    "* (DONE) word_tokenizer splits \"<\\br />\" tags and other special chars like \"!!\". So maybe find a better tokenizer or remove special chars.\n",
    "* Vectorization would need:\n",
    "    * (DONE) punctuation removal\n",
    "    * sentence tokenization instead of word tokenization. Punkt tokenizer maybe? list of sentences having list of words. So, list of list.\n",
    "    * give it a proper size for our vocabulary. Also set the size equal to the size of the longest sentence.\n",
    "\n",
    "    "
   ]
  },
  {
   "attachments": {},
   "cell_type": "markdown",
   "metadata": {},
   "source": [
    "## Vectorization\n",
    "* Bag of words\n",
    "* Word2Vec: Continuous Bag of Words\n",
    "* Word2Vec: SkipGram"
   ]
  },
  {
   "attachments": {},
   "cell_type": "markdown",
   "metadata": {},
   "source": [
    "# Task 1:  \n",
    " Bag of words + Multinomial Naive Bayes"
   ]
  },
  {
   "cell_type": "code",
   "execution_count": 41,
   "metadata": {},
   "outputs": [],
   "source": [
    "# for dataset in combined_dataset:\n",
    "#     dataset\n",
    "labeled_train_data_bow = labeled_train_data.copy()\n",
    "labeled_train_data_bow['review'] = labeled_train_data_bow['review'].apply(lambda x: ' '.join([word for word in x]))\n",
    "\n",
    "unlabeled_train_data_bow = unlabeled_train_data.copy()\n",
    "unlabeled_train_data_bow['review'] = unlabeled_train_data_bow['review'].apply(lambda x: ' '.join([word for word in x]))\n",
    "\n",
    "test_data_bow = test_data.copy()\n",
    "test_data_bow['review'] = test_data_bow['review'].apply(lambda x: ' '.join([word for word in x]))\n",
    "\n",
    "\n",
    "train_data_bow = pd.concat([labeled_train_data_bow[['id','review']],unlabeled_train_data_bow[['id','review']]])\n",
    "\n",
    "bow = CountVectorizer(stop_words=None, analyzer='word')\n",
    "labeld_unlabeled_train_features = bow.fit(train_data_bow['review']) # Training dictionary on all training data ie. labeled+unlabeled\n",
    "labeled_train_data_bow_features = bow.transform(labeled_train_data_bow['review'])\n",
    "test_features_bow = bow.transform(test_data_bow['review'])\n",
    "\n",
    "mnb = MultinomialNB()\n",
    "mnb.fit(labeled_train_data_bow_features, labeled_train_data_bow['sentiment'] )\n",
    "\n",
    "predictions = mnb.predict(test_features_bow)\n",
    "result = pd.DataFrame({'id': test_data_bow['id'], 'sentiment': predictions})\n",
    "result.to_csv('./bow_submission.csv', index = False)\n"
   ]
  },
  {
   "attachments": {
    "image.png": {
     "image/png": "[encoded data removed]"
    }
   },
   "cell_type": "markdown",
   "metadata": {},
   "source": [
    "![image.png](attachment:image.png)"
   ]
  },
  {
   "attachments": {},
   "cell_type": "markdown",
   "metadata": {},
   "source": [
    "# Task 2:\n",
    "Word2vec + DNN"
   ]
  },
  {
   "cell_type": "code",
   "execution_count": 9,
   "metadata": {},
   "outputs": [],
   "source": [
    "\n",
    "\n",
    "cbow = Word2Vec(labeled_train_data['review'], min_count = 5,  window = 10, sg = 0)\n",
    "\n",
    "cbow.build_vocab(labeled_train_data['review'], progress_per = 1000)\n",
    "cbow.train(labeled_train_data['review'], total_examples=cbow.corpus_count, epochs = cbow.epochs)\n",
    "\n",
    "cbow.save(\"./word2vec_cbow.model\")"
   ]
  },
  {
   "cell_type": "code",
   "execution_count": 13,
   "metadata": {},
   "outputs": [
    {
     "name": "stdout",
     "output_type": "stream",
     "text": [
      "[('investig', 0.651408851146698), ('crime', 0.6421923041343689), ('rape', 0.6347212791442871)]\n",
      "0.5252319\n",
      "[-4.443966   -1.2492316   0.38741747 -0.705671   -1.7891856   0.03511373\n",
      " -0.138797    1.8048542  -1.437218    1.9898726   1.0186739   0.38928246\n",
      " -3.6169825  -1.2458111  -2.717638   -3.3896947  -0.66533786 -1.7311133\n",
      " -1.0259043  -0.99351025  1.4147625  -1.195566    2.4858186  -1.0812362\n",
      " -0.22614071 -2.002418    3.1687717   1.0996482  -4.0230546  -1.7670009\n",
      "  2.4990568   1.33143     0.1251983   1.5557634  -0.85180223 -0.16791555\n",
      " -2.1652975  -0.13353893  0.22727488 -2.1791852  -0.85653484  2.098466\n",
      " -6.9534364  -0.5452967   0.85470587  1.3029922   1.2830491   1.2051618\n",
      " -2.3421478  -1.4434263   1.9917501   1.6228269  -3.079561   -3.0456893\n",
      " -2.4267204  -1.1938876   1.7527596   0.07082767  0.80147433 -3.3978112\n",
      "  1.1617433  -0.32731327 -3.0445173  -1.4975152  -1.899104    4.233329\n",
      "  1.9156368  -0.5918841   0.660041   -1.0545527  -1.4231751   0.5705423\n",
      " -0.83490735 -2.0551457  -2.861606   -0.7788022   1.7163271  -0.6950549\n",
      " -2.0003407  -0.8188914  -1.270348    0.57027906 -2.4253614  -1.5905341\n",
      "  2.1211486   0.5753123   1.5251185   0.13492167 -1.3868495   0.7005669\n",
      "  2.5880113   1.3422188  -0.0414783   1.6800798  -3.8344934  -0.46747968\n",
      "  3.2509673  -0.8920743  -1.1303464  -0.38492474]\n"
     ]
    }
   ],
   "source": [
    "print(cbow.wv.most_similar('murder', topn=3))\n",
    "print(cbow.wv.similarity('murder','gruesom'))\n"
   ]
  },
  {
   "attachments": {},
   "cell_type": "markdown",
   "metadata": {},
   "source": [
    "## TODO:\n",
    "* Train on unlabeled and labeled train data.\n",
    "* Do polarity classification\n",
    "* Check the Size of longest review, this size will be our size of all the vectors.\n",
    "* Use RFclassifier or LSTM or LDA."
   ]
  }
 ],
 "metadata": {
  "kernelspec": {
   "display_name": "Coding prac",
   "language": "python",
   "name": "python3"
  },
  "language_info": {
   "codemirror_mode": {
    "name": "ipython",
    "version": 3
   },
   "file_extension": ".py",
   "mimetype": "text/x-python",
   "name": "python",
   "nbconvert_exporter": "python",
   "pygments_lexer": "ipython3",
   "version": "3.8.0"
  },
  "orig_nbformat": 4,
  "vscode": {
   "interpreter": {
    "hash": "f58c01d3280ef83fc61600421c7c5ac6e7ea2fe2e0e9fc76fa916fea3bc77b6d"
   }
  }
 },
 "nbformat": 4,
 "nbformat_minor": 2
}

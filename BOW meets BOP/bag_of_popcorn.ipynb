{
 "cells": [
  {
   "cell_type": "code",
   "execution_count": 34,
   "metadata": {},
   "outputs": [],
   "source": [
    "import pandas as pd\n",
    "import numpy as np\n",
    "\n",
    "from nltk.corpus import stopwords\n",
    "from nltk.tokenize import word_tokenize\n",
    "from nltk.stem import PorterStemmer\n",
    "from gensim.models import word2vec\n",
    "\n",
    "\n",
    "# vizualization\n",
    "import seaborn as sns\n",
    "sns.set_theme()\n",
    "import matplotlib.pyplot as plt"
   ]
  },
  {
   "attachments": {},
   "cell_type": "markdown",
   "metadata": {},
   "source": [
    "# EDA"
   ]
  },
  {
   "cell_type": "code",
   "execution_count": 30,
   "metadata": {},
   "outputs": [
    {
     "name": "stdout",
     "output_type": "stream",
     "text": [
      "id           object\n",
      "sentiment     int64\n",
      "review       object\n",
      "dtype: object\n",
      "id        object\n",
      "review    object\n",
      "dtype: object\n",
      "id        object\n",
      "review    object\n",
      "dtype: object\n",
      "id           0\n",
      "sentiment    0\n",
      "review       0\n",
      "dtype: int64\n",
      "id        0\n",
      "review    0\n",
      "dtype: int64\n",
      "id        0\n",
      "review    0\n",
      "dtype: int64\n"
     ]
    }
   ],
   "source": [
    "labeled_train_data_og = pd.read_csv('./labeledTrainData.tsv', sep='\\t')\n",
    "test_data_og = pd.read_csv('./testData.tsv', sep='\\t')\n",
    "unlabeled_train_data_og = pd.read_csv('./unlabeledTrainData.tsv', sep='\\t')\n",
    "\n",
    "labeled_train_data = labeled_train_data_og.copy()\n",
    "test_data = test_data_og.copy()\n",
    "unlabeled_train_data = unlabeled_train_data_og.copy()\n",
    "\n",
    "print(labeled_train_data.dtypes)\n",
    "print(test_data.dtypes)\n",
    "print(unlabeled_train_data.dtypes)\n",
    "print(labeled_train_data.isnull().sum())\n",
    "print(test_data.isnull().sum())\n",
    "print(unlabeled_train_data.isnull().sum())"
   ]
  },
  {
   "cell_type": "code",
   "execution_count": 3,
   "metadata": {},
   "outputs": [
    {
     "name": "stdout",
     "output_type": "stream",
     "text": [
      " positive sentiments in the dataset: 50.0%\n",
      "1    12500\n",
      "0    12500\n",
      "Name: sentiment, dtype: int64\n"
     ]
    },
    {
     "data": {
      "text/plain": [
       "<AxesSubplot: xlabel='sentiment', ylabel='count'>"
      ]
     },
     "execution_count": 3,
     "metadata": {},
     "output_type": "execute_result"
    },
    {
     "data": {
      "image/png": "[encoded data removed]",
      "text/plain": [
       "<Figure size 640x480 with 1 Axes>"
      ]
     },
     "metadata": {},
     "output_type": "display_data"
    }
   ],
   "source": [
    "print(f\" positive sentiments in the dataset: {labeled_train_data['sentiment'].sum()/len(labeled_train_data['sentiment'])*100}%\")\n",
    "print(labeled_train_data['sentiment'].value_counts())\n",
    "sns.countplot(data=labeled_train_data, x=labeled_train_data['sentiment'])"
   ]
  },
  {
   "attachments": {},
   "cell_type": "markdown",
   "metadata": {},
   "source": [
    "## Observations:\n",
    "* Dataset is balanced."
   ]
  },
  {
   "attachments": {},
   "cell_type": "markdown",
   "metadata": {},
   "source": [
    "# Feature Engineering:\n",
    "* (DONE) Needs lowercasing.\n",
    "* (DONE) Remove URLs, numbers.\n",
    "* (DONE) Remove stopwords? needs tokenization\n",
    "* (DONE) Perform Stemming.\n",
    "* (DONE) Perform Tokenization. "
   ]
  },
  {
   "cell_type": "code",
   "execution_count": 31,
   "metadata": {},
   "outputs": [
    {
     "name": "stdout",
     "output_type": "stream",
     "text": [
      "A Compelling Thriller!!, 10 December 2005 Author:littlehammer16787 from United States<br /><br />Just Cause<br /><br />Starring:Sean Connery,Laurence Fishburne, and Blair Underwood.<br /><br />A liberal,though good-hearted Harvard law professor Paul Armstrong is convoked to the Flordia Everglades by unjustly convicted black guy Bobby Earl.Confessing that sadistic,cold-hearted cops vilifyied and beat him to a pulp to get the confession of a gruesome murder of an eleven year old girl. As he digs further and further into the mysterious case he realizes that Bobby Earl is a victim of discrimination.That the black police detective Lt.Tanny Brown of the small community is corrupt and villainously mean. When the infamous,psychotic serial killer Blair Sullivan is introduced.He discovers that he knows the location of the murder weapon that butchered the little girl.When Armstrong finds that there are lucid coincidences of Sullivan's road trip through the small town and the letter he personally wrote. Bobby Earl gets a re-trial.Is unfettered from prison and eludes his horrific punishment. All seems swimmingly well until an unexpected phone call from serial killer Sullivan comes into focus.Armstrong discovers a lurid double killing which happens to be Sullivan's parents.Whom he immensely detests.Sullivan divulges to Armstrong the truth of Joanie Shriver's heinous murder and why he was brought here.It turns out that Bobby Earl is a psychopathic murderer and he really did rape and kill Joanie Shriver.He just merely struck a bargain with fiendish psycho Sullivan. To get loose so he could kill again for revenge.Upon Armstrong's beautiful wife and daughter.Now Sullivan is executed to his death. Armstrong and tough good guy Brown chase the malevolent villain to the Everglades in order to thwart him.When they arrive Armstrong learns that the psychotic sicko Bobby Earl plans to kill his wife and daughter for a former rape trial that inevitably made him endure agonizing pain and castration.But good,virtuous cop Brown emerges and thwarts the brutal baddie.Is stabbed and eaten by ruthless,man-eating alligators.Paul Armstrong,Tanny Brown,his wife,and daughter survive and live happily ever after. A good thriller that works.Delivers both mystery and subterfuge.How reluctant blacks are hazed by racist lawmen.Sentenced to unfair penalties.Even though sometimes the wrongfully convicted innocent, friendly black man may in truth be the vicious baddie. Sean Connery is great as the oblivious,holier than thou hero.Laurence Fishburne is watchably amazing as the mean,arrogant,but good guy cop. Underwood and Harris are over the top and invigorating as the malevolent psychos.Capeshaw is okay.Ruby Dee is great as the tenacious grandmother.The rest of the cast is wonderful as well.\n",
      "\n",
      " compel thriller decemb author littlehamm unit state caus star sean conneri laurenc fishburn blair underwood liber though good heart harvard law professor paul armstrong convok flordia everglad unjustli convict black guy bobbi earl confess sadist cold heart cop vilifyi beat pulp get confess gruesom murder eleven year old girl dig mysteri case realiz bobbi earl victim discrimin black polic detect lt tanni brown small commun corrupt villain mean infam psychot serial killer blair sullivan introduc discov know locat murder weapon butcher littl girl armstrong find lucid coincid sullivan road trip small town letter person wrote bobbi earl get trial unfett prison elud horrif punish seem swimmingli well unexpect phone call serial killer sullivan come focu armstrong discov lurid doubl kill happen sullivan parent immens detest sullivan divulg armstrong truth joani shriver heinou murder brought turn bobbi earl psychopath murder realli rape kill joani shriver mere struck bargain fiendish psycho sullivan get loos could kill reveng upon armstrong beauti wife daughter sullivan execut death armstrong tough good guy brown chase malevol villain everglad order thwart arriv armstrong learn psychot sicko bobbi earl plan kill wife daughter former rape trial inevit made endur agon pain castrat good virtuou cop brown emerg thwart brutal baddi stab eaten ruthless man eat allig paul armstrong tanni brown wife daughter surviv live happili ever good thriller work deliv mysteri subterfug reluct black haze racist lawmen sentenc unfair penalti even though sometim wrong convict innoc friendli black man may truth viciou baddi sean conneri great oblivi holier thou hero laurenc fishburn watchabl amaz mean arrog good guy cop underwood harri top invigor malevol psycho capeshaw okay rubi dee great tenaci grandmoth rest cast wonder well\n"
     ]
    }
   ],
   "source": [
    "# labeled_train_data['review'] = labeled_train_data['review'].astype('string')\n",
    "# test_data['review'] = test_data['review'].astype('string')\n",
    "# unlabeled_train_data['review'] = unlabeled_train_data['review'].astype('string')\n",
    "\n",
    "# labeled_train_data['review'] = labeled_train_data['review'].lower()\n",
    "# test_data['review'] = test_data['review'].lower()\n",
    "# unlabeled_train_data['review'] = unlabeled_train_data['review'].lower()\n",
    "\n",
    "stopwords_en = set(stopwords.words('english'))\n",
    "porter = PorterStemmer()\n",
    "\n",
    "combined_dataset = [labeled_train_data,test_data,unlabeled_train_data]\n",
    "print(labeled_train_data.loc[20882,'review'])\n",
    "for dataset in combined_dataset:\n",
    "\n",
    "    dataset['review'] = dataset['review'].astype('string')\n",
    "    dataset.replace(to_replace={'review':{r'http\\S+':'',r'[0-9]+':'',  r'<br \\/>':' ', r'[^A-Za-z0-9# ]+':' '}}, regex=True, inplace=True)\n",
    "    dataset['review'] = dataset['review'].str.lower().apply(word_tokenize)\n",
    "    dataset['review'] = dataset['review'].apply(lambda x: [word for word in x if word not in stopwords_en])\n",
    "    dataset['review'] = dataset['review'].apply(lambda x: ' '.join([porter.stem(word) for word in x ]))\n",
    "\n",
    "print('\\n',labeled_train_data.loc[20882,'review'])"
   ]
  },
  {
   "attachments": {},
   "cell_type": "markdown",
   "metadata": {},
   "source": [
    "## Observations:\n",
    "* (DONE) word_tokenizer splits \"<\\br />\" tags and other special chars like \"!!\". So maybe find a better tokenizer or remove special chars.\n",
    "* Vectorization would need:\n",
    "    * punctuation removal\n",
    "    * sentence tokenization instead of word tokenization. Punkt tokenizer maybe?\n",
    "    * list of sentences having list of words. So, list of list."
   ]
  },
  {
   "attachments": {},
   "cell_type": "markdown",
   "metadata": {},
   "source": [
    "## Vectorization\n",
    "* Word2Vec: Continuous Bag of Words\n",
    "* Word2Vec: SkipGram"
   ]
  },
  {
   "cell_type": "code",
   "execution_count": 35,
   "metadata": {},
   "outputs": [
    {
     "ename": "TypeError",
     "evalue": "'module' object is not callable",
     "output_type": "error",
     "traceback": [
      "\u001b[1;31m---------------------------------------------------------------------------\u001b[0m",
      "\u001b[1;31mTypeError\u001b[0m                                 Traceback (most recent call last)",
      "Cell \u001b[1;32mIn[35], line 1\u001b[0m\n\u001b[1;32m----> 1\u001b[0m cbow \u001b[39m=\u001b[39m word2vec(labeled_train_data[\u001b[39m'\u001b[39;49m\u001b[39mreview\u001b[39;49m\u001b[39m'\u001b[39;49m], min_count \u001b[39m=\u001b[39;49m \u001b[39m1\u001b[39;49m, size \u001b[39m=\u001b[39;49m \u001b[39m100\u001b[39;49m, window \u001b[39m=\u001b[39;49m \u001b[39m10\u001b[39;49m, sg \u001b[39m=\u001b[39;49m \u001b[39m0\u001b[39;49m)\n\u001b[0;32m      2\u001b[0m cbow\u001b[39m.\u001b[39msave(\u001b[39m\"\u001b[39m\u001b[39mword2vec_cbow.model\u001b[39m\u001b[39m\"\u001b[39m)\n",
      "\u001b[1;31mTypeError\u001b[0m: 'module' object is not callable"
     ]
    }
   ],
   "source": [
    "cbow = word2vec(labeled_train_data['review'], min_count = 1, size = 100, window = 10, sg = 0)\n",
    "cbow.save(\"word2vec_cbow.model\")"
   ]
  },
  {
   "cell_type": "code",
   "execution_count": null,
   "metadata": {},
   "outputs": [],
   "source": [
    "cbow.wv.similarity('murder','gruesom')"
   ]
  }
 ],
 "metadata": {
  "kernelspec": {
   "display_name": "Coding prac",
   "language": "python",
   "name": "python3"
  },
  "language_info": {
   "codemirror_mode": {
    "name": "ipython",
    "version": 3
   },
   "file_extension": ".py",
   "mimetype": "text/x-python",
   "name": "python",
   "nbconvert_exporter": "python",
   "pygments_lexer": "ipython3",
   "version": "3.8.0"
  },
  "orig_nbformat": 4,
  "vscode": {
   "interpreter": {
    "hash": "f58c01d3280ef83fc61600421c7c5ac6e7ea2fe2e0e9fc76fa916fea3bc77b6d"
   }
  }
 },
 "nbformat": 4,
 "nbformat_minor": 2
}

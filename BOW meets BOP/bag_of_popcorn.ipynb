{
 "cells": [
  {
   "cell_type": "code",
   "execution_count": 2,
   "metadata": {},
   "outputs": [],
   "source": [
    "import pandas as pd\n",
    "import numpy as np"
   ]
  },
  {
   "cell_type": "code",
   "execution_count": 9,
   "metadata": {},
   "outputs": [
    {
     "name": "stdout",
     "output_type": "stream",
     "text": [
      "id           object\n",
      "sentiment     int64\n",
      "review       object\n",
      "dtype: object\n",
      "id        object\n",
      "review    object\n",
      "dtype: object\n",
      "id        object\n",
      "review    object\n",
      "dtype: object\n"
     ]
    }
   ],
   "source": [
    "labeled_train_data_og = pd.read_csv('./labeledTrainData.tsv', sep='\\t')\n",
    "test_data_og = pd.read_csv('./testData.tsv', sep='\\t')\n",
    "unlabeled_train_data_og = pd.read_csv('./unlabeledTrainData.tsv', sep='\\t')\n",
    "print(labeled_train_data_og.dtypes)\n",
    "print(test_data_og.dtypes)\n",
    "print(unlabeled_train_data_og.dtypes)"
   ]
  }
 ],
 "metadata": {
  "kernelspec": {
   "display_name": "Coding prac",
   "language": "python",
   "name": "python3"
  },
  "language_info": {
   "codemirror_mode": {
    "name": "ipython",
    "version": 3
   },
   "file_extension": ".py",
   "mimetype": "text/x-python",
   "name": "python",
   "nbconvert_exporter": "python",
   "pygments_lexer": "ipython3",
   "version": "3.8.0"
  },
  "orig_nbformat": 4,
  "vscode": {
   "interpreter": {
    "hash": "f58c01d3280ef83fc61600421c7c5ac6e7ea2fe2e0e9fc76fa916fea3bc77b6d"
   }
  }
 },
 "nbformat": 4,
 "nbformat_minor": 2
}

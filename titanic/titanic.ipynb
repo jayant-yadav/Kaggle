{
 "cells": [
  {
   "cell_type": "code",
   "execution_count": 141,
   "metadata": {},
   "outputs": [],
   "source": [
    "import pandas as pd\n",
    "import numpy as np\n",
    "from sklearn.ensemble import RandomForestClassifier\n",
    "from sklearn.linear_model import LogisticRegression\n",
    "from sklearn.neighbors import KNeighborsClassifier\n",
    "from sklearn.model_selection import GridSearchCV\n",
    "\n",
    "from sklearn.model_selection import train_test_split\n",
    "from sklearn.metrics import accuracy_score"
   ]
  },
  {
   "cell_type": "code",
   "execution_count": 122,
   "metadata": {},
   "outputs": [
    {
     "name": "stdout",
     "output_type": "stream",
     "text": [
      "PassengerId      int64\n",
      "Survived         int64\n",
      "Pclass           int64\n",
      "Name            object\n",
      "Sex             object\n",
      "Age            float64\n",
      "SibSp            int64\n",
      "Parch            int64\n",
      "Ticket          object\n",
      "Fare           float64\n",
      "Cabin           object\n",
      "Embarked        object\n",
      "dtype: object\n",
      "PassengerId      0\n",
      "Survived         0\n",
      "Pclass           0\n",
      "Name             0\n",
      "Sex              0\n",
      "Age            177\n",
      "SibSp            0\n",
      "Parch            0\n",
      "Ticket           0\n",
      "Fare             0\n",
      "Cabin          687\n",
      "Embarked         2\n",
      "dtype: int64\n"
     ]
    }
   ],
   "source": [
    "train_data_og = pd.read_csv('./train.csv')\n",
    "\n",
    "print(train_data_og.dtypes)\n",
    "\n",
    "print(train_data_og.isnull().sum())"
   ]
  },
  {
   "cell_type": "code",
   "execution_count": 123,
   "metadata": {},
   "outputs": [
    {
     "name": "stdout",
     "output_type": "stream",
     "text": [
      "PassengerId      0\n",
      "Survived         0\n",
      "Pclass           0\n",
      "Name             0\n",
      "Sex              0\n",
      "Age            177\n",
      "SibSp            0\n",
      "Parch            0\n",
      "Ticket           0\n",
      "Fare             0\n",
      "Embarked         2\n",
      "dtype: int64\n"
     ]
    }
   ],
   "source": [
    "train_data = train_data_og.drop('Cabin',  axis=1)\n",
    "print(train_data.isnull().sum())"
   ]
  },
  {
   "cell_type": "code",
   "execution_count": 124,
   "metadata": {},
   "outputs": [
    {
     "name": "stdout",
     "output_type": "stream",
     "text": [
      "PassengerId      0\n",
      "Survived         0\n",
      "Pclass           0\n",
      "Name             0\n",
      "Sex              0\n",
      "Age            177\n",
      "SibSp            0\n",
      "Parch            0\n",
      "Ticket           0\n",
      "Fare             0\n",
      "Embarked         0\n",
      "dtype: int64\n"
     ]
    }
   ],
   "source": [
    "train_data['Embarked'].fillna(method = 'pad', inplace=True)\n",
    "print(train_data.isnull().sum())"
   ]
  },
  {
   "attachments": {},
   "cell_type": "markdown",
   "metadata": {},
   "source": [
    "## feature engineering:\n",
    "* Age: randomly assign age for missing passangers 1 std dev from the mean.\n",
    "* Embarked: convert it to numerical. this is an ordinal attribute.\n",
    "* Ticket: drop it. not a good feature.\n",
    "* Sex: convert to numerical nominal. "
   ]
  },
  {
   "cell_type": "code",
   "execution_count": 125,
   "metadata": {},
   "outputs": [
    {
     "name": "stdout",
     "output_type": "stream",
     "text": [
      "29.69911764705882\n",
      "14.526497332334042\n",
      "PassengerId    0\n",
      "Survived       0\n",
      "Pclass         0\n",
      "Sex            0\n",
      "Age            0\n",
      "SibSp          0\n",
      "Parch          0\n",
      "Fare           0\n",
      "Embarked       0\n",
      "dtype: int64\n",
      "28.027338772208\n",
      "13.429042646714695\n"
     ]
    }
   ],
   "source": [
    "train_data.drop('Name', axis=1, inplace=True)\n",
    "train_data.drop('Ticket', axis=1, inplace=True)\n",
    "\n",
    "age_mean = train_data['Age'].mean()\n",
    "print(age_mean)\n",
    "\n",
    "age_std = train_data['Age'].std()\n",
    "print(age_std)\n",
    "\n",
    "train_data['Age'] = train_data['Age'].fillna(value= np.random.uniform(age_mean-age_std, age_mean+age_std))\n",
    "print(train_data.isnull().sum())\n",
    "\n",
    "print( train_data['Age'].mean())\n",
    "print(train_data['Age'].std())\n",
    "\n",
    "train_data['Sex'] = train_data['Sex'].replace(to_replace='male', value='1')\n",
    "train_data['Sex'] = train_data['Sex'].replace(to_replace='female', value='2') \n",
    "\n",
    "train_data['Embarked'] = train_data['Embarked'].replace(to_replace='C', value='1') \n",
    "train_data['Embarked'] = train_data['Embarked'].replace(to_replace='S', value='2') \n",
    "train_data['Embarked'] = train_data['Embarked'].replace(to_replace='Q', value='3') \n",
    "\n"
   ]
  },
  {
   "attachments": {},
   "cell_type": "markdown",
   "metadata": {},
   "source": [
    "Q. Why did the mean and std after fillna, not change?"
   ]
  },
  {
   "cell_type": "code",
   "execution_count": 126,
   "metadata": {},
   "outputs": [
    {
     "data": {
      "text/html": [
       "<style type=\"text/css\">\n",
       "</style>\n",
       "<table id=\"T_b782f\">\n",
       "  <thead>\n",
       "    <tr>\n",
       "      <th class=\"blank level0\" >&nbsp;</th>\n",
       "      <th id=\"T_b782f_level0_col0\" class=\"col_heading level0 col0\" >PassengerId</th>\n",
       "      <th id=\"T_b782f_level0_col1\" class=\"col_heading level0 col1\" >Survived</th>\n",
       "      <th id=\"T_b782f_level0_col2\" class=\"col_heading level0 col2\" >Pclass</th>\n",
       "      <th id=\"T_b782f_level0_col3\" class=\"col_heading level0 col3\" >Sex</th>\n",
       "      <th id=\"T_b782f_level0_col4\" class=\"col_heading level0 col4\" >Age</th>\n",
       "      <th id=\"T_b782f_level0_col5\" class=\"col_heading level0 col5\" >SibSp</th>\n",
       "      <th id=\"T_b782f_level0_col6\" class=\"col_heading level0 col6\" >Parch</th>\n",
       "      <th id=\"T_b782f_level0_col7\" class=\"col_heading level0 col7\" >Fare</th>\n",
       "      <th id=\"T_b782f_level0_col8\" class=\"col_heading level0 col8\" >Embarked</th>\n",
       "    </tr>\n",
       "  </thead>\n",
       "  <tbody>\n",
       "    <tr>\n",
       "      <th id=\"T_b782f_level0_row0\" class=\"row_heading level0 row0\" >531</th>\n",
       "      <td id=\"T_b782f_row0_col0\" class=\"data row0 col0\" >532</td>\n",
       "      <td id=\"T_b782f_row0_col1\" class=\"data row0 col1\" >0</td>\n",
       "      <td id=\"T_b782f_row0_col2\" class=\"data row0 col2\" >3</td>\n",
       "      <td id=\"T_b782f_row0_col3\" class=\"data row0 col3\" >1</td>\n",
       "      <td id=\"T_b782f_row0_col4\" class=\"data row0 col4\" >21.283553</td>\n",
       "      <td id=\"T_b782f_row0_col5\" class=\"data row0 col5\" >0</td>\n",
       "      <td id=\"T_b782f_row0_col6\" class=\"data row0 col6\" >0</td>\n",
       "      <td id=\"T_b782f_row0_col7\" class=\"data row0 col7\" >7.229200</td>\n",
       "      <td id=\"T_b782f_row0_col8\" class=\"data row0 col8\" >1</td>\n",
       "    </tr>\n",
       "    <tr>\n",
       "      <th id=\"T_b782f_level0_row1\" class=\"row_heading level0 row1\" >350</th>\n",
       "      <td id=\"T_b782f_row1_col0\" class=\"data row1 col0\" >351</td>\n",
       "      <td id=\"T_b782f_row1_col1\" class=\"data row1 col1\" >0</td>\n",
       "      <td id=\"T_b782f_row1_col2\" class=\"data row1 col2\" >3</td>\n",
       "      <td id=\"T_b782f_row1_col3\" class=\"data row1 col3\" >1</td>\n",
       "      <td id=\"T_b782f_row1_col4\" class=\"data row1 col4\" >23.000000</td>\n",
       "      <td id=\"T_b782f_row1_col5\" class=\"data row1 col5\" >0</td>\n",
       "      <td id=\"T_b782f_row1_col6\" class=\"data row1 col6\" >0</td>\n",
       "      <td id=\"T_b782f_row1_col7\" class=\"data row1 col7\" >9.225000</td>\n",
       "      <td id=\"T_b782f_row1_col8\" class=\"data row1 col8\" >2</td>\n",
       "    </tr>\n",
       "    <tr>\n",
       "      <th id=\"T_b782f_level0_row2\" class=\"row_heading level0 row2\" >124</th>\n",
       "      <td id=\"T_b782f_row2_col0\" class=\"data row2 col0\" >125</td>\n",
       "      <td id=\"T_b782f_row2_col1\" class=\"data row2 col1\" >0</td>\n",
       "      <td id=\"T_b782f_row2_col2\" class=\"data row2 col2\" >1</td>\n",
       "      <td id=\"T_b782f_row2_col3\" class=\"data row2 col3\" >1</td>\n",
       "      <td id=\"T_b782f_row2_col4\" class=\"data row2 col4\" >54.000000</td>\n",
       "      <td id=\"T_b782f_row2_col5\" class=\"data row2 col5\" >0</td>\n",
       "      <td id=\"T_b782f_row2_col6\" class=\"data row2 col6\" >1</td>\n",
       "      <td id=\"T_b782f_row2_col7\" class=\"data row2 col7\" >77.287500</td>\n",
       "      <td id=\"T_b782f_row2_col8\" class=\"data row2 col8\" >2</td>\n",
       "    </tr>\n",
       "    <tr>\n",
       "      <th id=\"T_b782f_level0_row3\" class=\"row_heading level0 row3\" >614</th>\n",
       "      <td id=\"T_b782f_row3_col0\" class=\"data row3 col0\" >615</td>\n",
       "      <td id=\"T_b782f_row3_col1\" class=\"data row3 col1\" >0</td>\n",
       "      <td id=\"T_b782f_row3_col2\" class=\"data row3 col2\" >3</td>\n",
       "      <td id=\"T_b782f_row3_col3\" class=\"data row3 col3\" >1</td>\n",
       "      <td id=\"T_b782f_row3_col4\" class=\"data row3 col4\" >35.000000</td>\n",
       "      <td id=\"T_b782f_row3_col5\" class=\"data row3 col5\" >0</td>\n",
       "      <td id=\"T_b782f_row3_col6\" class=\"data row3 col6\" >0</td>\n",
       "      <td id=\"T_b782f_row3_col7\" class=\"data row3 col7\" >8.050000</td>\n",
       "      <td id=\"T_b782f_row3_col8\" class=\"data row3 col8\" >2</td>\n",
       "    </tr>\n",
       "    <tr>\n",
       "      <th id=\"T_b782f_level0_row4\" class=\"row_heading level0 row4\" >487</th>\n",
       "      <td id=\"T_b782f_row4_col0\" class=\"data row4 col0\" >488</td>\n",
       "      <td id=\"T_b782f_row4_col1\" class=\"data row4 col1\" >0</td>\n",
       "      <td id=\"T_b782f_row4_col2\" class=\"data row4 col2\" >1</td>\n",
       "      <td id=\"T_b782f_row4_col3\" class=\"data row4 col3\" >1</td>\n",
       "      <td id=\"T_b782f_row4_col4\" class=\"data row4 col4\" >58.000000</td>\n",
       "      <td id=\"T_b782f_row4_col5\" class=\"data row4 col5\" >0</td>\n",
       "      <td id=\"T_b782f_row4_col6\" class=\"data row4 col6\" >0</td>\n",
       "      <td id=\"T_b782f_row4_col7\" class=\"data row4 col7\" >29.700000</td>\n",
       "      <td id=\"T_b782f_row4_col8\" class=\"data row4 col8\" >1</td>\n",
       "    </tr>\n",
       "    <tr>\n",
       "      <th id=\"T_b782f_level0_row5\" class=\"row_heading level0 row5\" >652</th>\n",
       "      <td id=\"T_b782f_row5_col0\" class=\"data row5 col0\" >653</td>\n",
       "      <td id=\"T_b782f_row5_col1\" class=\"data row5 col1\" >0</td>\n",
       "      <td id=\"T_b782f_row5_col2\" class=\"data row5 col2\" >3</td>\n",
       "      <td id=\"T_b782f_row5_col3\" class=\"data row5 col3\" >1</td>\n",
       "      <td id=\"T_b782f_row5_col4\" class=\"data row5 col4\" >21.000000</td>\n",
       "      <td id=\"T_b782f_row5_col5\" class=\"data row5 col5\" >0</td>\n",
       "      <td id=\"T_b782f_row5_col6\" class=\"data row5 col6\" >0</td>\n",
       "      <td id=\"T_b782f_row5_col7\" class=\"data row5 col7\" >8.433300</td>\n",
       "      <td id=\"T_b782f_row5_col8\" class=\"data row5 col8\" >2</td>\n",
       "    </tr>\n",
       "    <tr>\n",
       "      <th id=\"T_b782f_level0_row6\" class=\"row_heading level0 row6\" >512</th>\n",
       "      <td id=\"T_b782f_row6_col0\" class=\"data row6 col0\" >513</td>\n",
       "      <td id=\"T_b782f_row6_col1\" class=\"data row6 col1\" >1</td>\n",
       "      <td id=\"T_b782f_row6_col2\" class=\"data row6 col2\" >1</td>\n",
       "      <td id=\"T_b782f_row6_col3\" class=\"data row6 col3\" >1</td>\n",
       "      <td id=\"T_b782f_row6_col4\" class=\"data row6 col4\" >36.000000</td>\n",
       "      <td id=\"T_b782f_row6_col5\" class=\"data row6 col5\" >0</td>\n",
       "      <td id=\"T_b782f_row6_col6\" class=\"data row6 col6\" >0</td>\n",
       "      <td id=\"T_b782f_row6_col7\" class=\"data row6 col7\" >26.287500</td>\n",
       "      <td id=\"T_b782f_row6_col8\" class=\"data row6 col8\" >2</td>\n",
       "    </tr>\n",
       "    <tr>\n",
       "      <th id=\"T_b782f_level0_row7\" class=\"row_heading level0 row7\" >581</th>\n",
       "      <td id=\"T_b782f_row7_col0\" class=\"data row7 col0\" >582</td>\n",
       "      <td id=\"T_b782f_row7_col1\" class=\"data row7 col1\" >1</td>\n",
       "      <td id=\"T_b782f_row7_col2\" class=\"data row7 col2\" >1</td>\n",
       "      <td id=\"T_b782f_row7_col3\" class=\"data row7 col3\" >2</td>\n",
       "      <td id=\"T_b782f_row7_col4\" class=\"data row7 col4\" >39.000000</td>\n",
       "      <td id=\"T_b782f_row7_col5\" class=\"data row7 col5\" >1</td>\n",
       "      <td id=\"T_b782f_row7_col6\" class=\"data row7 col6\" >1</td>\n",
       "      <td id=\"T_b782f_row7_col7\" class=\"data row7 col7\" >110.883300</td>\n",
       "      <td id=\"T_b782f_row7_col8\" class=\"data row7 col8\" >1</td>\n",
       "    </tr>\n",
       "    <tr>\n",
       "      <th id=\"T_b782f_level0_row8\" class=\"row_heading level0 row8\" >293</th>\n",
       "      <td id=\"T_b782f_row8_col0\" class=\"data row8 col0\" >294</td>\n",
       "      <td id=\"T_b782f_row8_col1\" class=\"data row8 col1\" >0</td>\n",
       "      <td id=\"T_b782f_row8_col2\" class=\"data row8 col2\" >3</td>\n",
       "      <td id=\"T_b782f_row8_col3\" class=\"data row8 col3\" >2</td>\n",
       "      <td id=\"T_b782f_row8_col4\" class=\"data row8 col4\" >24.000000</td>\n",
       "      <td id=\"T_b782f_row8_col5\" class=\"data row8 col5\" >0</td>\n",
       "      <td id=\"T_b782f_row8_col6\" class=\"data row8 col6\" >0</td>\n",
       "      <td id=\"T_b782f_row8_col7\" class=\"data row8 col7\" >8.850000</td>\n",
       "      <td id=\"T_b782f_row8_col8\" class=\"data row8 col8\" >2</td>\n",
       "    </tr>\n",
       "    <tr>\n",
       "      <th id=\"T_b782f_level0_row9\" class=\"row_heading level0 row9\" >397</th>\n",
       "      <td id=\"T_b782f_row9_col0\" class=\"data row9 col0\" >398</td>\n",
       "      <td id=\"T_b782f_row9_col1\" class=\"data row9 col1\" >0</td>\n",
       "      <td id=\"T_b782f_row9_col2\" class=\"data row9 col2\" >2</td>\n",
       "      <td id=\"T_b782f_row9_col3\" class=\"data row9 col3\" >1</td>\n",
       "      <td id=\"T_b782f_row9_col4\" class=\"data row9 col4\" >46.000000</td>\n",
       "      <td id=\"T_b782f_row9_col5\" class=\"data row9 col5\" >0</td>\n",
       "      <td id=\"T_b782f_row9_col6\" class=\"data row9 col6\" >0</td>\n",
       "      <td id=\"T_b782f_row9_col7\" class=\"data row9 col7\" >26.000000</td>\n",
       "      <td id=\"T_b782f_row9_col8\" class=\"data row9 col8\" >2</td>\n",
       "    </tr>\n",
       "  </tbody>\n",
       "</table>\n"
      ],
      "text/plain": [
       "<pandas.io.formats.style.Styler at 0x1c730f03f10>"
      ]
     },
     "execution_count": 126,
     "metadata": {},
     "output_type": "execute_result"
    }
   ],
   "source": [
    "train_data.sample(n=10).style"
   ]
  },
  {
   "cell_type": "code",
   "execution_count": 128,
   "metadata": {},
   "outputs": [
    {
     "name": "stdout",
     "output_type": "stream",
     "text": [
      "MAE: 0.16\n",
      "RF Accuracy: 84.0 %\n"
     ]
    }
   ],
   "source": [
    "# Random Forest\n",
    "x_train, x_test, y_train, y_test = train_test_split(train_data.drop(['Survived'],axis = 1), train_data['Survived'], test_size = 0.2)\n",
    "\n",
    "rf = RandomForestClassifier(n_estimators=1000)\n",
    "rf.fit(x_train, y_train)\n",
    "\n",
    "predictions_rf = rf.predict(x_test)\n",
    "\n",
    "\n",
    "errors = abs(predictions_rf-y_test)\n",
    "\n",
    "print('MAE:', round(np.mean(errors),2))\n",
    "print('RF Accuracy:', 100*round(accuracy_score(y_test, predictions_rf),2),'%')"
   ]
  },
  {
   "cell_type": "code",
   "execution_count": 132,
   "metadata": {},
   "outputs": [
    {
     "name": "stdout",
     "output_type": "stream",
     "text": [
      "LR Accuracy: 77.0 %\n"
     ]
    },
    {
     "name": "stderr",
     "output_type": "stream",
     "text": [
      "e:\\Coding prac\\lib\\site-packages\\sklearn\\linear_model\\_logistic.py:458: ConvergenceWarning: lbfgs failed to converge (status=1):\n",
      "STOP: TOTAL NO. of ITERATIONS REACHED LIMIT.\n",
      "\n",
      "Increase the number of iterations (max_iter) or scale the data as shown in:\n",
      "    https://scikit-learn.org/stable/modules/preprocessing.html\n",
      "Please also refer to the documentation for alternative solver options:\n",
      "    https://scikit-learn.org/stable/modules/linear_model.html#logistic-regression\n",
      "  n_iter_i = _check_optimize_result(\n"
     ]
    }
   ],
   "source": [
    "# logistic regression\n",
    "\n",
    "lr = LogisticRegression()\n",
    "lr.fit(x_train,y_train)\n",
    "predictions_lr = lr.predict(x_test)\n",
    "print('LR Accuracy:', 100*round(accuracy_score(y_test, predictions_lr),2),'%')"
   ]
  },
  {
   "cell_type": "code",
   "execution_count": 133,
   "metadata": {},
   "outputs": [
    {
     "name": "stdout",
     "output_type": "stream",
     "text": [
      "knn Accuracy: 84.0 %\n"
     ]
    }
   ],
   "source": [
    "# KNN\n",
    "\n",
    "knn = KNeighborsClassifier()\n",
    "knn.fit(x_train,y_train)\n",
    "predictions_knn = knn.predict(x_test)\n",
    "print('knn Accuracy:', 100*round(accuracy_score(y_test, predictions_rf),2),'%')"
   ]
  },
  {
   "attachments": {},
   "cell_type": "markdown",
   "metadata": {},
   "source": [
    "Q. Why is accuracy 10% less than other submitted solutions for Random forest and decision trees?"
   ]
  },
  {
   "attachments": {},
   "cell_type": "markdown",
   "metadata": {},
   "source": [
    "### Train and test dataset should be combined to perform data cleaning and data wrangling together:\n"
   ]
  },
  {
   "cell_type": "code",
   "execution_count": 142,
   "metadata": {},
   "outputs": [],
   "source": [
    "train_data_og = pd.read_csv('./train.csv')\n",
    "test_data_og = pd.read_csv('./test.csv')\n",
    "\n",
    "train_data = train_data_og\n",
    "test_data = test_data_og.copy() #implement deepcopy ie. copy by value\n",
    "\n",
    "\n",
    "combined_dataset = [train_data,test_data]\n",
    "\n",
    "for dataset in combined_dataset:\n",
    "    dataset.drop('Cabin',  axis=1, inplace=True)\n",
    "    dataset.drop('Name', axis=1, inplace=True)\n",
    "    dataset.drop('Ticket', axis=1, inplace=True)\n",
    "    dataset.drop('PassengerId',axis = 1, inplace=True)\n",
    "\n",
    "    dataset['Embarked'].fillna(method = 'pad', inplace=True)\n",
    "    dataset['Fare'].fillna(method = 'pad', inplace=True)\n",
    "    dataset['Sex'] = dataset['Sex'].replace(to_replace='male', value='1')\n",
    "    dataset['Sex'] = dataset['Sex'].replace(to_replace='female', value='2') \n",
    "\n",
    "    dataset['Embarked'] = dataset['Embarked'].replace(to_replace='C', value='1') \n",
    "    dataset['Embarked'] = dataset['Embarked'].replace(to_replace='S', value='2') \n",
    "    dataset['Embarked'] = dataset['Embarked'].replace(to_replace='Q', value='3') \n",
    "\n"
   ]
  },
  {
   "attachments": {},
   "cell_type": "markdown",
   "metadata": {},
   "source": [
    "For some reason, train_data_og has also been updated and is equal to combined_dataset[0]. Maybe it was copied by reference?"
   ]
  },
  {
   "cell_type": "code",
   "execution_count": 143,
   "metadata": {},
   "outputs": [],
   "source": [
    "age_mean = train_data['Age'].mean()\n",
    "age_std = train_data['Age'].std()\n",
    "\n",
    "train_data['Age'] = train_data['Age'].fillna(value= np.random.uniform(age_mean-age_std, age_mean+age_std))\n",
    "test_data['Age'] = test_data['Age'].fillna(value= np.random.uniform(age_mean-age_std, age_mean+age_std))\n",
    "\n",
    "# x_train, x_test, y_train, y_test = train_test_split(train_data.drop(['Survived'],axis = 1), train_data['Survived'], test_size = 0.2)\n",
    "\n",
    "train_features = train_data.drop(['Survived'],axis = 1)\n",
    "train_labels = train_data['Survived']\n",
    "test_features = test_data\n",
    "\n",
    "    "
   ]
  },
  {
   "cell_type": "code",
   "execution_count": 154,
   "metadata": {},
   "outputs": [
    {
     "data": {
      "text/html": [
       "<style>#sk-container-id-11 {color: black;background-color: white;}#sk-container-id-11 pre{padding: 0;}#sk-container-id-11 div.sk-toggleable {background-color: white;}#sk-container-id-11 label.sk-toggleable__label {cursor: pointer;display: block;width: 100%;margin-bottom: 0;padding: 0.3em;box-sizing: border-box;text-align: center;}#sk-container-id-11 label.sk-toggleable__label-arrow:before {content: \"▸\";float: left;margin-right: 0.25em;color: #696969;}#sk-container-id-11 label.sk-toggleable__label-arrow:hover:before {color: black;}#sk-container-id-11 div.sk-estimator:hover label.sk-toggleable__label-arrow:before {color: black;}#sk-container-id-11 div.sk-toggleable__content {max-height: 0;max-width: 0;overflow: hidden;text-align: left;background-color: #f0f8ff;}#sk-container-id-11 div.sk-toggleable__content pre {margin: 0.2em;color: black;border-radius: 0.25em;background-color: #f0f8ff;}#sk-container-id-11 input.sk-toggleable__control:checked~div.sk-toggleable__content {max-height: 200px;max-width: 100%;overflow: auto;}#sk-container-id-11 input.sk-toggleable__control:checked~label.sk-toggleable__label-arrow:before {content: \"▾\";}#sk-container-id-11 div.sk-estimator input.sk-toggleable__control:checked~label.sk-toggleable__label {background-color: #d4ebff;}#sk-container-id-11 div.sk-label input.sk-toggleable__control:checked~label.sk-toggleable__label {background-color: #d4ebff;}#sk-container-id-11 input.sk-hidden--visually {border: 0;clip: rect(1px 1px 1px 1px);clip: rect(1px, 1px, 1px, 1px);height: 1px;margin: -1px;overflow: hidden;padding: 0;position: absolute;width: 1px;}#sk-container-id-11 div.sk-estimator {font-family: monospace;background-color: #f0f8ff;border: 1px dotted black;border-radius: 0.25em;box-sizing: border-box;margin-bottom: 0.5em;}#sk-container-id-11 div.sk-estimator:hover {background-color: #d4ebff;}#sk-container-id-11 div.sk-parallel-item::after {content: \"\";width: 100%;border-bottom: 1px solid gray;flex-grow: 1;}#sk-container-id-11 div.sk-label:hover label.sk-toggleable__label {background-color: #d4ebff;}#sk-container-id-11 div.sk-serial::before {content: \"\";position: absolute;border-left: 1px solid gray;box-sizing: border-box;top: 0;bottom: 0;left: 50%;z-index: 0;}#sk-container-id-11 div.sk-serial {display: flex;flex-direction: column;align-items: center;background-color: white;padding-right: 0.2em;padding-left: 0.2em;position: relative;}#sk-container-id-11 div.sk-item {position: relative;z-index: 1;}#sk-container-id-11 div.sk-parallel {display: flex;align-items: stretch;justify-content: center;background-color: white;position: relative;}#sk-container-id-11 div.sk-item::before, #sk-container-id-11 div.sk-parallel-item::before {content: \"\";position: absolute;border-left: 1px solid gray;box-sizing: border-box;top: 0;bottom: 0;left: 50%;z-index: -1;}#sk-container-id-11 div.sk-parallel-item {display: flex;flex-direction: column;z-index: 1;position: relative;background-color: white;}#sk-container-id-11 div.sk-parallel-item:first-child::after {align-self: flex-end;width: 50%;}#sk-container-id-11 div.sk-parallel-item:last-child::after {align-self: flex-start;width: 50%;}#sk-container-id-11 div.sk-parallel-item:only-child::after {width: 0;}#sk-container-id-11 div.sk-dashed-wrapped {border: 1px dashed gray;margin: 0 0.4em 0.5em 0.4em;box-sizing: border-box;padding-bottom: 0.4em;background-color: white;}#sk-container-id-11 div.sk-label label {font-family: monospace;font-weight: bold;display: inline-block;line-height: 1.2em;}#sk-container-id-11 div.sk-label-container {text-align: center;}#sk-container-id-11 div.sk-container {/* jupyter's `normalize.less` sets `[hidden] { display: none; }` but bootstrap.min.css set `[hidden] { display: none !important; }` so we also need the `!important` here to be able to override the default hidden behavior on the sphinx rendered scikit-learn.org. See: https://github.com/scikit-learn/scikit-learn/issues/21755 */display: inline-block !important;position: relative;}#sk-container-id-11 div.sk-text-repr-fallback {display: none;}</style><div id=\"sk-container-id-11\" class=\"sk-top-container\"><div class=\"sk-text-repr-fallback\"><pre>GridSearchCV(cv=5, estimator=RandomForestClassifier(n_estimators=500),\n",
       "             param_grid={&#x27;criterion&#x27;: [&#x27;gini&#x27;, &#x27;entropy&#x27;, &#x27;log_loss&#x27;],\n",
       "                         &#x27;max_depth&#x27;: [4, 5, 6, 7, 8, 9, 10, 11, 12],\n",
       "                         &#x27;n_estimators&#x27;: [200, 500, 1000]})</pre><b>In a Jupyter environment, please rerun this cell to show the HTML representation or trust the notebook. <br />On GitHub, the HTML representation is unable to render, please try loading this page with nbviewer.org.</b></div><div class=\"sk-container\" hidden><div class=\"sk-item sk-dashed-wrapped\"><div class=\"sk-label-container\"><div class=\"sk-label sk-toggleable\"><input class=\"sk-toggleable__control sk-hidden--visually\" id=\"sk-estimator-id-11\" type=\"checkbox\" ><label for=\"sk-estimator-id-11\" class=\"sk-toggleable__label sk-toggleable__label-arrow\">GridSearchCV</label><div class=\"sk-toggleable__content\"><pre>GridSearchCV(cv=5, estimator=RandomForestClassifier(n_estimators=500),\n",
       "             param_grid={&#x27;criterion&#x27;: [&#x27;gini&#x27;, &#x27;entropy&#x27;, &#x27;log_loss&#x27;],\n",
       "                         &#x27;max_depth&#x27;: [4, 5, 6, 7, 8, 9, 10, 11, 12],\n",
       "                         &#x27;n_estimators&#x27;: [200, 500, 1000]})</pre></div></div></div><div class=\"sk-parallel\"><div class=\"sk-parallel-item\"><div class=\"sk-item\"><div class=\"sk-label-container\"><div class=\"sk-label sk-toggleable\"><input class=\"sk-toggleable__control sk-hidden--visually\" id=\"sk-estimator-id-12\" type=\"checkbox\" ><label for=\"sk-estimator-id-12\" class=\"sk-toggleable__label sk-toggleable__label-arrow\">estimator: RandomForestClassifier</label><div class=\"sk-toggleable__content\"><pre>RandomForestClassifier(n_estimators=500)</pre></div></div></div><div class=\"sk-serial\"><div class=\"sk-item\"><div class=\"sk-estimator sk-toggleable\"><input class=\"sk-toggleable__control sk-hidden--visually\" id=\"sk-estimator-id-13\" type=\"checkbox\" ><label for=\"sk-estimator-id-13\" class=\"sk-toggleable__label sk-toggleable__label-arrow\">RandomForestClassifier</label><div class=\"sk-toggleable__content\"><pre>RandomForestClassifier(n_estimators=500)</pre></div></div></div></div></div></div></div></div></div></div>"
      ],
      "text/plain": [
       "GridSearchCV(cv=5, estimator=RandomForestClassifier(n_estimators=500),\n",
       "             param_grid={'criterion': ['gini', 'entropy', 'log_loss'],\n",
       "                         'max_depth': [4, 5, 6, 7, 8, 9, 10, 11, 12],\n",
       "                         'n_estimators': [200, 500, 1000]})"
      ]
     },
     "execution_count": 154,
     "metadata": {},
     "output_type": "execute_result"
    }
   ],
   "source": [
    "rf = RandomForestClassifier(n_estimators=500)\n",
    "# rf.fit(train_features, train_labels)\n",
    "# rf.get_params()\n",
    "\n",
    "knn = KNeighborsClassifier()\n",
    "knn.fit(train_features, train_labels)\n",
    "\n",
    "param_grid = {'n_estimators': [200,500,1000], \n",
    "            'max_depth': [4,5,6,7,8,9,10,11,12],\n",
    "            # 'max_features': ['auto','sqrt','log2'],\n",
    "            'criterion': ['gini', 'entropy', 'log_loss']}\n",
    "\n",
    "CV_rf = GridSearchCV(estimator=rf, param_grid=param_grid, cv = 5)\n",
    "CV_rf.fit(train_features, train_labels)"
   ]
  },
  {
   "cell_type": "code",
   "execution_count": 157,
   "metadata": {},
   "outputs": [
    {
     "data": {
      "text/html": [
       "<style>#sk-container-id-12 {color: black;background-color: white;}#sk-container-id-12 pre{padding: 0;}#sk-container-id-12 div.sk-toggleable {background-color: white;}#sk-container-id-12 label.sk-toggleable__label {cursor: pointer;display: block;width: 100%;margin-bottom: 0;padding: 0.3em;box-sizing: border-box;text-align: center;}#sk-container-id-12 label.sk-toggleable__label-arrow:before {content: \"▸\";float: left;margin-right: 0.25em;color: #696969;}#sk-container-id-12 label.sk-toggleable__label-arrow:hover:before {color: black;}#sk-container-id-12 div.sk-estimator:hover label.sk-toggleable__label-arrow:before {color: black;}#sk-container-id-12 div.sk-toggleable__content {max-height: 0;max-width: 0;overflow: hidden;text-align: left;background-color: #f0f8ff;}#sk-container-id-12 div.sk-toggleable__content pre {margin: 0.2em;color: black;border-radius: 0.25em;background-color: #f0f8ff;}#sk-container-id-12 input.sk-toggleable__control:checked~div.sk-toggleable__content {max-height: 200px;max-width: 100%;overflow: auto;}#sk-container-id-12 input.sk-toggleable__control:checked~label.sk-toggleable__label-arrow:before {content: \"▾\";}#sk-container-id-12 div.sk-estimator input.sk-toggleable__control:checked~label.sk-toggleable__label {background-color: #d4ebff;}#sk-container-id-12 div.sk-label input.sk-toggleable__control:checked~label.sk-toggleable__label {background-color: #d4ebff;}#sk-container-id-12 input.sk-hidden--visually {border: 0;clip: rect(1px 1px 1px 1px);clip: rect(1px, 1px, 1px, 1px);height: 1px;margin: -1px;overflow: hidden;padding: 0;position: absolute;width: 1px;}#sk-container-id-12 div.sk-estimator {font-family: monospace;background-color: #f0f8ff;border: 1px dotted black;border-radius: 0.25em;box-sizing: border-box;margin-bottom: 0.5em;}#sk-container-id-12 div.sk-estimator:hover {background-color: #d4ebff;}#sk-container-id-12 div.sk-parallel-item::after {content: \"\";width: 100%;border-bottom: 1px solid gray;flex-grow: 1;}#sk-container-id-12 div.sk-label:hover label.sk-toggleable__label {background-color: #d4ebff;}#sk-container-id-12 div.sk-serial::before {content: \"\";position: absolute;border-left: 1px solid gray;box-sizing: border-box;top: 0;bottom: 0;left: 50%;z-index: 0;}#sk-container-id-12 div.sk-serial {display: flex;flex-direction: column;align-items: center;background-color: white;padding-right: 0.2em;padding-left: 0.2em;position: relative;}#sk-container-id-12 div.sk-item {position: relative;z-index: 1;}#sk-container-id-12 div.sk-parallel {display: flex;align-items: stretch;justify-content: center;background-color: white;position: relative;}#sk-container-id-12 div.sk-item::before, #sk-container-id-12 div.sk-parallel-item::before {content: \"\";position: absolute;border-left: 1px solid gray;box-sizing: border-box;top: 0;bottom: 0;left: 50%;z-index: -1;}#sk-container-id-12 div.sk-parallel-item {display: flex;flex-direction: column;z-index: 1;position: relative;background-color: white;}#sk-container-id-12 div.sk-parallel-item:first-child::after {align-self: flex-end;width: 50%;}#sk-container-id-12 div.sk-parallel-item:last-child::after {align-self: flex-start;width: 50%;}#sk-container-id-12 div.sk-parallel-item:only-child::after {width: 0;}#sk-container-id-12 div.sk-dashed-wrapped {border: 1px dashed gray;margin: 0 0.4em 0.5em 0.4em;box-sizing: border-box;padding-bottom: 0.4em;background-color: white;}#sk-container-id-12 div.sk-label label {font-family: monospace;font-weight: bold;display: inline-block;line-height: 1.2em;}#sk-container-id-12 div.sk-label-container {text-align: center;}#sk-container-id-12 div.sk-container {/* jupyter's `normalize.less` sets `[hidden] { display: none; }` but bootstrap.min.css set `[hidden] { display: none !important; }` so we also need the `!important` here to be able to override the default hidden behavior on the sphinx rendered scikit-learn.org. See: https://github.com/scikit-learn/scikit-learn/issues/21755 */display: inline-block !important;position: relative;}#sk-container-id-12 div.sk-text-repr-fallback {display: none;}</style><div id=\"sk-container-id-12\" class=\"sk-top-container\"><div class=\"sk-text-repr-fallback\"><pre>RandomForestClassifier(criterion=&#x27;log_loss&#x27;, max_depth=10, n_estimators=500)</pre><b>In a Jupyter environment, please rerun this cell to show the HTML representation or trust the notebook. <br />On GitHub, the HTML representation is unable to render, please try loading this page with nbviewer.org.</b></div><div class=\"sk-container\" hidden><div class=\"sk-item\"><div class=\"sk-estimator sk-toggleable\"><input class=\"sk-toggleable__control sk-hidden--visually\" id=\"sk-estimator-id-14\" type=\"checkbox\" checked><label for=\"sk-estimator-id-14\" class=\"sk-toggleable__label sk-toggleable__label-arrow\">RandomForestClassifier</label><div class=\"sk-toggleable__content\"><pre>RandomForestClassifier(criterion=&#x27;log_loss&#x27;, max_depth=10, n_estimators=500)</pre></div></div></div></div></div>"
      ],
      "text/plain": [
       "RandomForestClassifier(criterion='log_loss', max_depth=10, n_estimators=500)"
      ]
     },
     "execution_count": 157,
     "metadata": {},
     "output_type": "execute_result"
    }
   ],
   "source": [
    "CV_rf.best_params_\n",
    "\n",
    "rf_new = RandomForestClassifier(criterion= 'log_loss', max_depth= 10, n_estimators= 500)\n",
    "rf_new.fit(train_features, train_labels)"
   ]
  },
  {
   "cell_type": "code",
   "execution_count": 158,
   "metadata": {},
   "outputs": [
    {
     "data": {
      "text/html": [
       "<style type=\"text/css\">\n",
       "</style>\n",
       "<table id=\"T_fb4fe\">\n",
       "  <thead>\n",
       "    <tr>\n",
       "      <th class=\"blank level0\" >&nbsp;</th>\n",
       "      <th id=\"T_fb4fe_level0_col0\" class=\"col_heading level0 col0\" >PassengerId</th>\n",
       "      <th id=\"T_fb4fe_level0_col1\" class=\"col_heading level0 col1\" >Survived</th>\n",
       "    </tr>\n",
       "  </thead>\n",
       "  <tbody>\n",
       "    <tr>\n",
       "      <th id=\"T_fb4fe_level0_row0\" class=\"row_heading level0 row0\" >199</th>\n",
       "      <td id=\"T_fb4fe_row0_col0\" class=\"data row0 col0\" >1091</td>\n",
       "      <td id=\"T_fb4fe_row0_col1\" class=\"data row0 col1\" >0</td>\n",
       "    </tr>\n",
       "    <tr>\n",
       "      <th id=\"T_fb4fe_level0_row1\" class=\"row_heading level0 row1\" >137</th>\n",
       "      <td id=\"T_fb4fe_row1_col0\" class=\"data row1 col0\" >1029</td>\n",
       "      <td id=\"T_fb4fe_row1_col1\" class=\"data row1 col1\" >0</td>\n",
       "    </tr>\n",
       "    <tr>\n",
       "      <th id=\"T_fb4fe_level0_row2\" class=\"row_heading level0 row2\" >98</th>\n",
       "      <td id=\"T_fb4fe_row2_col0\" class=\"data row2 col0\" >990</td>\n",
       "      <td id=\"T_fb4fe_row2_col1\" class=\"data row2 col1\" >0</td>\n",
       "    </tr>\n",
       "    <tr>\n",
       "      <th id=\"T_fb4fe_level0_row3\" class=\"row_heading level0 row3\" >3</th>\n",
       "      <td id=\"T_fb4fe_row3_col0\" class=\"data row3 col0\" >895</td>\n",
       "      <td id=\"T_fb4fe_row3_col1\" class=\"data row3 col1\" >0</td>\n",
       "    </tr>\n",
       "    <tr>\n",
       "      <th id=\"T_fb4fe_level0_row4\" class=\"row_heading level0 row4\" >178</th>\n",
       "      <td id=\"T_fb4fe_row4_col0\" class=\"data row4 col0\" >1070</td>\n",
       "      <td id=\"T_fb4fe_row4_col1\" class=\"data row4 col1\" >1</td>\n",
       "    </tr>\n",
       "  </tbody>\n",
       "</table>\n"
      ],
      "text/plain": [
       "<pandas.io.formats.style.Styler at 0x1c731fbfeb0>"
      ]
     },
     "execution_count": 158,
     "metadata": {},
     "output_type": "execute_result"
    }
   ],
   "source": [
    "# print(test_data.isnull().sum())\n",
    "predict_labels = rf_new.predict(test_features)\n",
    "# predict_labels = knn.predict(test_features)\n",
    "# test_data_og.sample(n=3).style\n",
    "# print(predict_labels.shape,test_data.shape, test_data_og[\"PassengerId\"].shape)\n",
    "result = pd.DataFrame({\"PassengerId\": test_data_og[\"PassengerId\"],\n",
    "                        \"Survived\":predict_labels\n",
    "                        })\n",
    "result.sample(n=5).style"
   ]
  },
  {
   "cell_type": "code",
   "execution_count": 159,
   "metadata": {},
   "outputs": [],
   "source": [
    "result.to_csv('./final_submission.csv', index = False)"
   ]
  }
 ],
 "metadata": {
  "kernelspec": {
   "display_name": "Coding prac",
   "language": "python",
   "name": "python3"
  },
  "language_info": {
   "codemirror_mode": {
    "name": "ipython",
    "version": 3
   },
   "file_extension": ".py",
   "mimetype": "text/x-python",
   "name": "python",
   "nbconvert_exporter": "python",
   "pygments_lexer": "ipython3",
   "version": "3.8.0"
  },
  "orig_nbformat": 4,
  "vscode": {
   "interpreter": {
    "hash": "f58c01d3280ef83fc61600421c7c5ac6e7ea2fe2e0e9fc76fa916fea3bc77b6d"
   }
  }
 },
 "nbformat": 4,
 "nbformat_minor": 2
}

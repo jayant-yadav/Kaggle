{
 "cells": [
  {
   "cell_type": "code",
   "execution_count": 71,
   "metadata": {},
   "outputs": [],
   "source": [
    "import pandas as pd\n",
    "import numpy as np\n",
    "from sklearn.ensemble import RandomForestClassifier\n",
    "from sklearn.model_selection import train_test_split\n",
    "from sklearn.metrics import accuracy_score"
   ]
  },
  {
   "cell_type": "code",
   "execution_count": 55,
   "metadata": {},
   "outputs": [
    {
     "name": "stdout",
     "output_type": "stream",
     "text": [
      "PassengerId      int64\n",
      "Survived         int64\n",
      "Pclass           int64\n",
      "Name            object\n",
      "Sex             object\n",
      "Age            float64\n",
      "SibSp            int64\n",
      "Parch            int64\n",
      "Ticket          object\n",
      "Fare           float64\n",
      "Cabin           object\n",
      "Embarked        object\n",
      "dtype: object\n",
      "PassengerId      0\n",
      "Survived         0\n",
      "Pclass           0\n",
      "Name             0\n",
      "Sex              0\n",
      "Age            177\n",
      "SibSp            0\n",
      "Parch            0\n",
      "Ticket           0\n",
      "Fare             0\n",
      "Cabin          687\n",
      "Embarked         2\n",
      "dtype: int64\n"
     ]
    }
   ],
   "source": [
    "train_data_og = pd.read_csv('./train.csv')\n",
    "\n",
    "print(train_data_og.dtypes)\n",
    "\n",
    "print(train_data_og.isnull().sum())"
   ]
  },
  {
   "cell_type": "code",
   "execution_count": 56,
   "metadata": {},
   "outputs": [
    {
     "name": "stdout",
     "output_type": "stream",
     "text": [
      "PassengerId      0\n",
      "Survived         0\n",
      "Pclass           0\n",
      "Name             0\n",
      "Sex              0\n",
      "Age            177\n",
      "SibSp            0\n",
      "Parch            0\n",
      "Ticket           0\n",
      "Fare             0\n",
      "Embarked         2\n",
      "dtype: int64\n"
     ]
    }
   ],
   "source": [
    "train_data = train_data_og.drop('Cabin',  axis=1)\n",
    "print(train_data.isnull().sum())"
   ]
  },
  {
   "cell_type": "code",
   "execution_count": 57,
   "metadata": {},
   "outputs": [
    {
     "name": "stdout",
     "output_type": "stream",
     "text": [
      "PassengerId      0\n",
      "Survived         0\n",
      "Pclass           0\n",
      "Name             0\n",
      "Sex              0\n",
      "Age            177\n",
      "SibSp            0\n",
      "Parch            0\n",
      "Ticket           0\n",
      "Fare             0\n",
      "Embarked         0\n",
      "dtype: int64\n"
     ]
    }
   ],
   "source": [
    "train_data['Embarked'].fillna(method = 'pad', inplace=True)\n",
    "print(train_data.isnull().sum())"
   ]
  },
  {
   "attachments": {},
   "cell_type": "markdown",
   "metadata": {},
   "source": [
    "## feature engineering:\n",
    "* Age: randomly assign age for missing passangers 1 std dev from the mean.\n",
    "* Embarked: convert it to numerical. this is an ordinal attribute.\n",
    "* Ticket: drop it. not a good feature.\n",
    "* Sex: convert to numerical nominal. "
   ]
  },
  {
   "cell_type": "code",
   "execution_count": 58,
   "metadata": {},
   "outputs": [
    {
     "name": "stdout",
     "output_type": "stream",
     "text": [
      "29.69911764705882\n",
      "14.526497332334042\n",
      "PassengerId    0\n",
      "Survived       0\n",
      "Pclass         0\n",
      "Sex            0\n",
      "Age            0\n",
      "SibSp          0\n",
      "Parch          0\n",
      "Fare           0\n",
      "Embarked       0\n",
      "dtype: int64\n",
      "30.284625710422993\n",
      "13.055146630075003\n"
     ]
    }
   ],
   "source": [
    "train_data.drop('Name', axis=1, inplace=True)\n",
    "train_data.drop('Ticket', axis=1, inplace=True)\n",
    "\n",
    "age_mean = train_data['Age'].mean()\n",
    "print(age_mean)\n",
    "\n",
    "age_std = train_data['Age'].std()\n",
    "print(age_std)\n",
    "\n",
    "train_data['Age'] = train_data['Age'].fillna(value= np.random.uniform(age_mean-age_std, age_mean+age_std))\n",
    "print(train_data.isnull().sum())\n",
    "\n",
    "print( train_data['Age'].mean())\n",
    "print(train_data['Age'].std())\n",
    "\n",
    "train_data['Sex'] = train_data['Sex'].replace(to_replace='male', value='1')\n",
    "train_data['Sex'] = train_data['Sex'].replace(to_replace='female', value='2') \n",
    "\n",
    "train_data['Embarked'] = train_data['Embarked'].replace(to_replace='C', value='1') \n",
    "train_data['Embarked'] = train_data['Embarked'].replace(to_replace='S', value='2') \n",
    "train_data['Embarked'] = train_data['Embarked'].replace(to_replace='Q', value='3') \n",
    "\n"
   ]
  },
  {
   "attachments": {},
   "cell_type": "markdown",
   "metadata": {},
   "source": [
    "Q. Why did the mean and std after fillna, not change?"
   ]
  },
  {
   "cell_type": "code",
   "execution_count": 59,
   "metadata": {},
   "outputs": [
    {
     "data": {
      "text/html": [
       "<style type=\"text/css\">\n",
       "</style>\n",
       "<table id=\"T_ffc9d\">\n",
       "  <thead>\n",
       "    <tr>\n",
       "      <th class=\"blank level0\" >&nbsp;</th>\n",
       "      <th id=\"T_ffc9d_level0_col0\" class=\"col_heading level0 col0\" >PassengerId</th>\n",
       "      <th id=\"T_ffc9d_level0_col1\" class=\"col_heading level0 col1\" >Survived</th>\n",
       "      <th id=\"T_ffc9d_level0_col2\" class=\"col_heading level0 col2\" >Pclass</th>\n",
       "      <th id=\"T_ffc9d_level0_col3\" class=\"col_heading level0 col3\" >Sex</th>\n",
       "      <th id=\"T_ffc9d_level0_col4\" class=\"col_heading level0 col4\" >Age</th>\n",
       "      <th id=\"T_ffc9d_level0_col5\" class=\"col_heading level0 col5\" >SibSp</th>\n",
       "      <th id=\"T_ffc9d_level0_col6\" class=\"col_heading level0 col6\" >Parch</th>\n",
       "      <th id=\"T_ffc9d_level0_col7\" class=\"col_heading level0 col7\" >Fare</th>\n",
       "      <th id=\"T_ffc9d_level0_col8\" class=\"col_heading level0 col8\" >Embarked</th>\n",
       "    </tr>\n",
       "  </thead>\n",
       "  <tbody>\n",
       "    <tr>\n",
       "      <th id=\"T_ffc9d_level0_row0\" class=\"row_heading level0 row0\" >99</th>\n",
       "      <td id=\"T_ffc9d_row0_col0\" class=\"data row0 col0\" >100</td>\n",
       "      <td id=\"T_ffc9d_row0_col1\" class=\"data row0 col1\" >0</td>\n",
       "      <td id=\"T_ffc9d_row0_col2\" class=\"data row0 col2\" >2</td>\n",
       "      <td id=\"T_ffc9d_row0_col3\" class=\"data row0 col3\" >1</td>\n",
       "      <td id=\"T_ffc9d_row0_col4\" class=\"data row0 col4\" >34.000000</td>\n",
       "      <td id=\"T_ffc9d_row0_col5\" class=\"data row0 col5\" >1</td>\n",
       "      <td id=\"T_ffc9d_row0_col6\" class=\"data row0 col6\" >0</td>\n",
       "      <td id=\"T_ffc9d_row0_col7\" class=\"data row0 col7\" >26.000000</td>\n",
       "      <td id=\"T_ffc9d_row0_col8\" class=\"data row0 col8\" >2</td>\n",
       "    </tr>\n",
       "    <tr>\n",
       "      <th id=\"T_ffc9d_level0_row1\" class=\"row_heading level0 row1\" >704</th>\n",
       "      <td id=\"T_ffc9d_row1_col0\" class=\"data row1 col0\" >705</td>\n",
       "      <td id=\"T_ffc9d_row1_col1\" class=\"data row1 col1\" >0</td>\n",
       "      <td id=\"T_ffc9d_row1_col2\" class=\"data row1 col2\" >3</td>\n",
       "      <td id=\"T_ffc9d_row1_col3\" class=\"data row1 col3\" >1</td>\n",
       "      <td id=\"T_ffc9d_row1_col4\" class=\"data row1 col4\" >26.000000</td>\n",
       "      <td id=\"T_ffc9d_row1_col5\" class=\"data row1 col5\" >1</td>\n",
       "      <td id=\"T_ffc9d_row1_col6\" class=\"data row1 col6\" >0</td>\n",
       "      <td id=\"T_ffc9d_row1_col7\" class=\"data row1 col7\" >7.854200</td>\n",
       "      <td id=\"T_ffc9d_row1_col8\" class=\"data row1 col8\" >2</td>\n",
       "    </tr>\n",
       "    <tr>\n",
       "      <th id=\"T_ffc9d_level0_row2\" class=\"row_heading level0 row2\" >803</th>\n",
       "      <td id=\"T_ffc9d_row2_col0\" class=\"data row2 col0\" >804</td>\n",
       "      <td id=\"T_ffc9d_row2_col1\" class=\"data row2 col1\" >1</td>\n",
       "      <td id=\"T_ffc9d_row2_col2\" class=\"data row2 col2\" >3</td>\n",
       "      <td id=\"T_ffc9d_row2_col3\" class=\"data row2 col3\" >1</td>\n",
       "      <td id=\"T_ffc9d_row2_col4\" class=\"data row2 col4\" >0.420000</td>\n",
       "      <td id=\"T_ffc9d_row2_col5\" class=\"data row2 col5\" >0</td>\n",
       "      <td id=\"T_ffc9d_row2_col6\" class=\"data row2 col6\" >1</td>\n",
       "      <td id=\"T_ffc9d_row2_col7\" class=\"data row2 col7\" >8.516700</td>\n",
       "      <td id=\"T_ffc9d_row2_col8\" class=\"data row2 col8\" >1</td>\n",
       "    </tr>\n",
       "    <tr>\n",
       "      <th id=\"T_ffc9d_level0_row3\" class=\"row_heading level0 row3\" >524</th>\n",
       "      <td id=\"T_ffc9d_row3_col0\" class=\"data row3 col0\" >525</td>\n",
       "      <td id=\"T_ffc9d_row3_col1\" class=\"data row3 col1\" >0</td>\n",
       "      <td id=\"T_ffc9d_row3_col2\" class=\"data row3 col2\" >3</td>\n",
       "      <td id=\"T_ffc9d_row3_col3\" class=\"data row3 col3\" >1</td>\n",
       "      <td id=\"T_ffc9d_row3_col4\" class=\"data row3 col4\" >32.646506</td>\n",
       "      <td id=\"T_ffc9d_row3_col5\" class=\"data row3 col5\" >0</td>\n",
       "      <td id=\"T_ffc9d_row3_col6\" class=\"data row3 col6\" >0</td>\n",
       "      <td id=\"T_ffc9d_row3_col7\" class=\"data row3 col7\" >7.229200</td>\n",
       "      <td id=\"T_ffc9d_row3_col8\" class=\"data row3 col8\" >1</td>\n",
       "    </tr>\n",
       "    <tr>\n",
       "      <th id=\"T_ffc9d_level0_row4\" class=\"row_heading level0 row4\" >583</th>\n",
       "      <td id=\"T_ffc9d_row4_col0\" class=\"data row4 col0\" >584</td>\n",
       "      <td id=\"T_ffc9d_row4_col1\" class=\"data row4 col1\" >0</td>\n",
       "      <td id=\"T_ffc9d_row4_col2\" class=\"data row4 col2\" >1</td>\n",
       "      <td id=\"T_ffc9d_row4_col3\" class=\"data row4 col3\" >1</td>\n",
       "      <td id=\"T_ffc9d_row4_col4\" class=\"data row4 col4\" >36.000000</td>\n",
       "      <td id=\"T_ffc9d_row4_col5\" class=\"data row4 col5\" >0</td>\n",
       "      <td id=\"T_ffc9d_row4_col6\" class=\"data row4 col6\" >0</td>\n",
       "      <td id=\"T_ffc9d_row4_col7\" class=\"data row4 col7\" >40.125000</td>\n",
       "      <td id=\"T_ffc9d_row4_col8\" class=\"data row4 col8\" >1</td>\n",
       "    </tr>\n",
       "    <tr>\n",
       "      <th id=\"T_ffc9d_level0_row5\" class=\"row_heading level0 row5\" >49</th>\n",
       "      <td id=\"T_ffc9d_row5_col0\" class=\"data row5 col0\" >50</td>\n",
       "      <td id=\"T_ffc9d_row5_col1\" class=\"data row5 col1\" >0</td>\n",
       "      <td id=\"T_ffc9d_row5_col2\" class=\"data row5 col2\" >3</td>\n",
       "      <td id=\"T_ffc9d_row5_col3\" class=\"data row5 col3\" >2</td>\n",
       "      <td id=\"T_ffc9d_row5_col4\" class=\"data row5 col4\" >18.000000</td>\n",
       "      <td id=\"T_ffc9d_row5_col5\" class=\"data row5 col5\" >1</td>\n",
       "      <td id=\"T_ffc9d_row5_col6\" class=\"data row5 col6\" >0</td>\n",
       "      <td id=\"T_ffc9d_row5_col7\" class=\"data row5 col7\" >17.800000</td>\n",
       "      <td id=\"T_ffc9d_row5_col8\" class=\"data row5 col8\" >2</td>\n",
       "    </tr>\n",
       "    <tr>\n",
       "      <th id=\"T_ffc9d_level0_row6\" class=\"row_heading level0 row6\" >554</th>\n",
       "      <td id=\"T_ffc9d_row6_col0\" class=\"data row6 col0\" >555</td>\n",
       "      <td id=\"T_ffc9d_row6_col1\" class=\"data row6 col1\" >1</td>\n",
       "      <td id=\"T_ffc9d_row6_col2\" class=\"data row6 col2\" >3</td>\n",
       "      <td id=\"T_ffc9d_row6_col3\" class=\"data row6 col3\" >2</td>\n",
       "      <td id=\"T_ffc9d_row6_col4\" class=\"data row6 col4\" >22.000000</td>\n",
       "      <td id=\"T_ffc9d_row6_col5\" class=\"data row6 col5\" >0</td>\n",
       "      <td id=\"T_ffc9d_row6_col6\" class=\"data row6 col6\" >0</td>\n",
       "      <td id=\"T_ffc9d_row6_col7\" class=\"data row6 col7\" >7.775000</td>\n",
       "      <td id=\"T_ffc9d_row6_col8\" class=\"data row6 col8\" >2</td>\n",
       "    </tr>\n",
       "    <tr>\n",
       "      <th id=\"T_ffc9d_level0_row7\" class=\"row_heading level0 row7\" >266</th>\n",
       "      <td id=\"T_ffc9d_row7_col0\" class=\"data row7 col0\" >267</td>\n",
       "      <td id=\"T_ffc9d_row7_col1\" class=\"data row7 col1\" >0</td>\n",
       "      <td id=\"T_ffc9d_row7_col2\" class=\"data row7 col2\" >3</td>\n",
       "      <td id=\"T_ffc9d_row7_col3\" class=\"data row7 col3\" >1</td>\n",
       "      <td id=\"T_ffc9d_row7_col4\" class=\"data row7 col4\" >16.000000</td>\n",
       "      <td id=\"T_ffc9d_row7_col5\" class=\"data row7 col5\" >4</td>\n",
       "      <td id=\"T_ffc9d_row7_col6\" class=\"data row7 col6\" >1</td>\n",
       "      <td id=\"T_ffc9d_row7_col7\" class=\"data row7 col7\" >39.687500</td>\n",
       "      <td id=\"T_ffc9d_row7_col8\" class=\"data row7 col8\" >2</td>\n",
       "    </tr>\n",
       "    <tr>\n",
       "      <th id=\"T_ffc9d_level0_row8\" class=\"row_heading level0 row8\" >316</th>\n",
       "      <td id=\"T_ffc9d_row8_col0\" class=\"data row8 col0\" >317</td>\n",
       "      <td id=\"T_ffc9d_row8_col1\" class=\"data row8 col1\" >1</td>\n",
       "      <td id=\"T_ffc9d_row8_col2\" class=\"data row8 col2\" >2</td>\n",
       "      <td id=\"T_ffc9d_row8_col3\" class=\"data row8 col3\" >2</td>\n",
       "      <td id=\"T_ffc9d_row8_col4\" class=\"data row8 col4\" >24.000000</td>\n",
       "      <td id=\"T_ffc9d_row8_col5\" class=\"data row8 col5\" >1</td>\n",
       "      <td id=\"T_ffc9d_row8_col6\" class=\"data row8 col6\" >0</td>\n",
       "      <td id=\"T_ffc9d_row8_col7\" class=\"data row8 col7\" >26.000000</td>\n",
       "      <td id=\"T_ffc9d_row8_col8\" class=\"data row8 col8\" >2</td>\n",
       "    </tr>\n",
       "    <tr>\n",
       "      <th id=\"T_ffc9d_level0_row9\" class=\"row_heading level0 row9\" >406</th>\n",
       "      <td id=\"T_ffc9d_row9_col0\" class=\"data row9 col0\" >407</td>\n",
       "      <td id=\"T_ffc9d_row9_col1\" class=\"data row9 col1\" >0</td>\n",
       "      <td id=\"T_ffc9d_row9_col2\" class=\"data row9 col2\" >3</td>\n",
       "      <td id=\"T_ffc9d_row9_col3\" class=\"data row9 col3\" >1</td>\n",
       "      <td id=\"T_ffc9d_row9_col4\" class=\"data row9 col4\" >51.000000</td>\n",
       "      <td id=\"T_ffc9d_row9_col5\" class=\"data row9 col5\" >0</td>\n",
       "      <td id=\"T_ffc9d_row9_col6\" class=\"data row9 col6\" >0</td>\n",
       "      <td id=\"T_ffc9d_row9_col7\" class=\"data row9 col7\" >7.750000</td>\n",
       "      <td id=\"T_ffc9d_row9_col8\" class=\"data row9 col8\" >2</td>\n",
       "    </tr>\n",
       "  </tbody>\n",
       "</table>\n"
      ],
      "text/plain": [
       "<pandas.io.formats.style.Styler at 0x1c7293366a0>"
      ]
     },
     "execution_count": 59,
     "metadata": {},
     "output_type": "execute_result"
    }
   ],
   "source": [
    "train_data.sample(n=10).style"
   ]
  },
  {
   "cell_type": "code",
   "execution_count": 60,
   "metadata": {},
   "outputs": [
    {
     "data": {
      "text/html": [
       "<style>#sk-container-id-1 {color: black;background-color: white;}#sk-container-id-1 pre{padding: 0;}#sk-container-id-1 div.sk-toggleable {background-color: white;}#sk-container-id-1 label.sk-toggleable__label {cursor: pointer;display: block;width: 100%;margin-bottom: 0;padding: 0.3em;box-sizing: border-box;text-align: center;}#sk-container-id-1 label.sk-toggleable__label-arrow:before {content: \"▸\";float: left;margin-right: 0.25em;color: #696969;}#sk-container-id-1 label.sk-toggleable__label-arrow:hover:before {color: black;}#sk-container-id-1 div.sk-estimator:hover label.sk-toggleable__label-arrow:before {color: black;}#sk-container-id-1 div.sk-toggleable__content {max-height: 0;max-width: 0;overflow: hidden;text-align: left;background-color: #f0f8ff;}#sk-container-id-1 div.sk-toggleable__content pre {margin: 0.2em;color: black;border-radius: 0.25em;background-color: #f0f8ff;}#sk-container-id-1 input.sk-toggleable__control:checked~div.sk-toggleable__content {max-height: 200px;max-width: 100%;overflow: auto;}#sk-container-id-1 input.sk-toggleable__control:checked~label.sk-toggleable__label-arrow:before {content: \"▾\";}#sk-container-id-1 div.sk-estimator input.sk-toggleable__control:checked~label.sk-toggleable__label {background-color: #d4ebff;}#sk-container-id-1 div.sk-label input.sk-toggleable__control:checked~label.sk-toggleable__label {background-color: #d4ebff;}#sk-container-id-1 input.sk-hidden--visually {border: 0;clip: rect(1px 1px 1px 1px);clip: rect(1px, 1px, 1px, 1px);height: 1px;margin: -1px;overflow: hidden;padding: 0;position: absolute;width: 1px;}#sk-container-id-1 div.sk-estimator {font-family: monospace;background-color: #f0f8ff;border: 1px dotted black;border-radius: 0.25em;box-sizing: border-box;margin-bottom: 0.5em;}#sk-container-id-1 div.sk-estimator:hover {background-color: #d4ebff;}#sk-container-id-1 div.sk-parallel-item::after {content: \"\";width: 100%;border-bottom: 1px solid gray;flex-grow: 1;}#sk-container-id-1 div.sk-label:hover label.sk-toggleable__label {background-color: #d4ebff;}#sk-container-id-1 div.sk-serial::before {content: \"\";position: absolute;border-left: 1px solid gray;box-sizing: border-box;top: 0;bottom: 0;left: 50%;z-index: 0;}#sk-container-id-1 div.sk-serial {display: flex;flex-direction: column;align-items: center;background-color: white;padding-right: 0.2em;padding-left: 0.2em;position: relative;}#sk-container-id-1 div.sk-item {position: relative;z-index: 1;}#sk-container-id-1 div.sk-parallel {display: flex;align-items: stretch;justify-content: center;background-color: white;position: relative;}#sk-container-id-1 div.sk-item::before, #sk-container-id-1 div.sk-parallel-item::before {content: \"\";position: absolute;border-left: 1px solid gray;box-sizing: border-box;top: 0;bottom: 0;left: 50%;z-index: -1;}#sk-container-id-1 div.sk-parallel-item {display: flex;flex-direction: column;z-index: 1;position: relative;background-color: white;}#sk-container-id-1 div.sk-parallel-item:first-child::after {align-self: flex-end;width: 50%;}#sk-container-id-1 div.sk-parallel-item:last-child::after {align-self: flex-start;width: 50%;}#sk-container-id-1 div.sk-parallel-item:only-child::after {width: 0;}#sk-container-id-1 div.sk-dashed-wrapped {border: 1px dashed gray;margin: 0 0.4em 0.5em 0.4em;box-sizing: border-box;padding-bottom: 0.4em;background-color: white;}#sk-container-id-1 div.sk-label label {font-family: monospace;font-weight: bold;display: inline-block;line-height: 1.2em;}#sk-container-id-1 div.sk-label-container {text-align: center;}#sk-container-id-1 div.sk-container {/* jupyter's `normalize.less` sets `[hidden] { display: none; }` but bootstrap.min.css set `[hidden] { display: none !important; }` so we also need the `!important` here to be able to override the default hidden behavior on the sphinx rendered scikit-learn.org. See: https://github.com/scikit-learn/scikit-learn/issues/21755 */display: inline-block !important;position: relative;}#sk-container-id-1 div.sk-text-repr-fallback {display: none;}</style><div id=\"sk-container-id-1\" class=\"sk-top-container\"><div class=\"sk-text-repr-fallback\"><pre>RandomForestClassifier(n_estimators=1000)</pre><b>In a Jupyter environment, please rerun this cell to show the HTML representation or trust the notebook. <br />On GitHub, the HTML representation is unable to render, please try loading this page with nbviewer.org.</b></div><div class=\"sk-container\" hidden><div class=\"sk-item\"><div class=\"sk-estimator sk-toggleable\"><input class=\"sk-toggleable__control sk-hidden--visually\" id=\"sk-estimator-id-1\" type=\"checkbox\" checked><label for=\"sk-estimator-id-1\" class=\"sk-toggleable__label sk-toggleable__label-arrow\">RandomForestClassifier</label><div class=\"sk-toggleable__content\"><pre>RandomForestClassifier(n_estimators=1000)</pre></div></div></div></div></div>"
      ],
      "text/plain": [
       "RandomForestClassifier(n_estimators=1000)"
      ]
     },
     "execution_count": 60,
     "metadata": {},
     "output_type": "execute_result"
    }
   ],
   "source": [
    "x_train, x_test, y_train, y_test = train_test_split(train_data.drop(['Survived'],axis = 1), train_data['Survived'], test_size = 0.2)\n",
    "\n",
    "rf = RandomForestClassifier(n_estimators=1000)\n",
    "rf.fit(x_train, y_train)\n"
   ]
  },
  {
   "cell_type": "code",
   "execution_count": 73,
   "metadata": {},
   "outputs": [
    {
     "name": "stdout",
     "output_type": "stream",
     "text": [
      "MAE: 0.24\n",
      "Accuracy: 76.0 %\n"
     ]
    }
   ],
   "source": [
    "predictions = rf.predict(x_test)\n",
    "# print(y_test)\n",
    "# print(predictions)\n",
    "\n",
    "errors = abs(predictions-y_test)\n",
    "# print(errors)\n",
    "print('MAE:', round(np.mean(errors),2))\n",
    "\n",
    "# accuracy = 100 - np.mean(100 * (errors/y_test))\n",
    "# accuracy = 100* np.mean(abs(predictions-errors))\n",
    "print('Accuracy:', 100*round(accuracy_score(y_test, predictions),2),'%')"
   ]
  },
  {
   "attachments": {},
   "cell_type": "markdown",
   "metadata": {},
   "source": [
    "Q. Why is accuracy 10% less than other submitted solutions for Random forest and decision trees?"
   ]
  },
  {
   "attachments": {},
   "cell_type": "markdown",
   "metadata": {},
   "source": [
    "### Train and test dataset should be combined to perform data cleaning and data wrangling together:\n"
   ]
  },
  {
   "cell_type": "code",
   "execution_count": 92,
   "metadata": {},
   "outputs": [],
   "source": [
    "train_data_og = pd.read_csv('./train.csv')\n",
    "test_data_og = pd.read_csv('./test.csv')\n",
    "\n",
    "train_data = train_data_og\n",
    "test_data = test_data_og\n",
    "\n",
    "\n",
    "combined_dataset = [train_data,test_data]\n",
    "\n",
    "for dataset in combined_dataset:\n",
    "    dataset.drop('Cabin',  axis=1, inplace=True)\n",
    "    dataset.drop('Name', axis=1, inplace=True)\n",
    "    dataset.drop('Ticket', axis=1, inplace=True)\n",
    "    dataset.drop('PassengerId',axis = 1, inplace=True)\n",
    "\n",
    "    dataset['Embarked'].fillna(method = 'pad', inplace=True)\n",
    "    dataset['Sex'] = dataset['Sex'].replace(to_replace='male', value='1')\n",
    "    dataset['Sex'] = dataset['Sex'].replace(to_replace='female', value='2') \n",
    "\n",
    "    dataset['Embarked'] = dataset['Embarked'].replace(to_replace='C', value='1') \n",
    "    dataset['Embarked'] = dataset['Embarked'].replace(to_replace='S', value='2') \n",
    "    dataset['Embarked'] = dataset['Embarked'].replace(to_replace='Q', value='3') \n",
    "\n"
   ]
  },
  {
   "attachments": {},
   "cell_type": "markdown",
   "metadata": {},
   "source": [
    "For some reason, train_data_og has also been updated and is equal to combined_dataset[0]. Maybe it was copied by reference?"
   ]
  },
  {
   "cell_type": "code",
   "execution_count": 93,
   "metadata": {},
   "outputs": [
    {
     "data": {
      "text/html": [
       "<style>#sk-container-id-5 {color: black;background-color: white;}#sk-container-id-5 pre{padding: 0;}#sk-container-id-5 div.sk-toggleable {background-color: white;}#sk-container-id-5 label.sk-toggleable__label {cursor: pointer;display: block;width: 100%;margin-bottom: 0;padding: 0.3em;box-sizing: border-box;text-align: center;}#sk-container-id-5 label.sk-toggleable__label-arrow:before {content: \"▸\";float: left;margin-right: 0.25em;color: #696969;}#sk-container-id-5 label.sk-toggleable__label-arrow:hover:before {color: black;}#sk-container-id-5 div.sk-estimator:hover label.sk-toggleable__label-arrow:before {color: black;}#sk-container-id-5 div.sk-toggleable__content {max-height: 0;max-width: 0;overflow: hidden;text-align: left;background-color: #f0f8ff;}#sk-container-id-5 div.sk-toggleable__content pre {margin: 0.2em;color: black;border-radius: 0.25em;background-color: #f0f8ff;}#sk-container-id-5 input.sk-toggleable__control:checked~div.sk-toggleable__content {max-height: 200px;max-width: 100%;overflow: auto;}#sk-container-id-5 input.sk-toggleable__control:checked~label.sk-toggleable__label-arrow:before {content: \"▾\";}#sk-container-id-5 div.sk-estimator input.sk-toggleable__control:checked~label.sk-toggleable__label {background-color: #d4ebff;}#sk-container-id-5 div.sk-label input.sk-toggleable__control:checked~label.sk-toggleable__label {background-color: #d4ebff;}#sk-container-id-5 input.sk-hidden--visually {border: 0;clip: rect(1px 1px 1px 1px);clip: rect(1px, 1px, 1px, 1px);height: 1px;margin: -1px;overflow: hidden;padding: 0;position: absolute;width: 1px;}#sk-container-id-5 div.sk-estimator {font-family: monospace;background-color: #f0f8ff;border: 1px dotted black;border-radius: 0.25em;box-sizing: border-box;margin-bottom: 0.5em;}#sk-container-id-5 div.sk-estimator:hover {background-color: #d4ebff;}#sk-container-id-5 div.sk-parallel-item::after {content: \"\";width: 100%;border-bottom: 1px solid gray;flex-grow: 1;}#sk-container-id-5 div.sk-label:hover label.sk-toggleable__label {background-color: #d4ebff;}#sk-container-id-5 div.sk-serial::before {content: \"\";position: absolute;border-left: 1px solid gray;box-sizing: border-box;top: 0;bottom: 0;left: 50%;z-index: 0;}#sk-container-id-5 div.sk-serial {display: flex;flex-direction: column;align-items: center;background-color: white;padding-right: 0.2em;padding-left: 0.2em;position: relative;}#sk-container-id-5 div.sk-item {position: relative;z-index: 1;}#sk-container-id-5 div.sk-parallel {display: flex;align-items: stretch;justify-content: center;background-color: white;position: relative;}#sk-container-id-5 div.sk-item::before, #sk-container-id-5 div.sk-parallel-item::before {content: \"\";position: absolute;border-left: 1px solid gray;box-sizing: border-box;top: 0;bottom: 0;left: 50%;z-index: -1;}#sk-container-id-5 div.sk-parallel-item {display: flex;flex-direction: column;z-index: 1;position: relative;background-color: white;}#sk-container-id-5 div.sk-parallel-item:first-child::after {align-self: flex-end;width: 50%;}#sk-container-id-5 div.sk-parallel-item:last-child::after {align-self: flex-start;width: 50%;}#sk-container-id-5 div.sk-parallel-item:only-child::after {width: 0;}#sk-container-id-5 div.sk-dashed-wrapped {border: 1px dashed gray;margin: 0 0.4em 0.5em 0.4em;box-sizing: border-box;padding-bottom: 0.4em;background-color: white;}#sk-container-id-5 div.sk-label label {font-family: monospace;font-weight: bold;display: inline-block;line-height: 1.2em;}#sk-container-id-5 div.sk-label-container {text-align: center;}#sk-container-id-5 div.sk-container {/* jupyter's `normalize.less` sets `[hidden] { display: none; }` but bootstrap.min.css set `[hidden] { display: none !important; }` so we also need the `!important` here to be able to override the default hidden behavior on the sphinx rendered scikit-learn.org. See: https://github.com/scikit-learn/scikit-learn/issues/21755 */display: inline-block !important;position: relative;}#sk-container-id-5 div.sk-text-repr-fallback {display: none;}</style><div id=\"sk-container-id-5\" class=\"sk-top-container\"><div class=\"sk-text-repr-fallback\"><pre>RandomForestClassifier(n_estimators=500)</pre><b>In a Jupyter environment, please rerun this cell to show the HTML representation or trust the notebook. <br />On GitHub, the HTML representation is unable to render, please try loading this page with nbviewer.org.</b></div><div class=\"sk-container\" hidden><div class=\"sk-item\"><div class=\"sk-estimator sk-toggleable\"><input class=\"sk-toggleable__control sk-hidden--visually\" id=\"sk-estimator-id-5\" type=\"checkbox\" checked><label for=\"sk-estimator-id-5\" class=\"sk-toggleable__label sk-toggleable__label-arrow\">RandomForestClassifier</label><div class=\"sk-toggleable__content\"><pre>RandomForestClassifier(n_estimators=500)</pre></div></div></div></div></div>"
      ],
      "text/plain": [
       "RandomForestClassifier(n_estimators=500)"
      ]
     },
     "execution_count": 93,
     "metadata": {},
     "output_type": "execute_result"
    }
   ],
   "source": [
    "age_mean = train_data['Age'].mean()\n",
    "age_std = train_data['Age'].std()\n",
    "\n",
    "train_data['Age'] = train_data['Age'].fillna(value= np.random.uniform(age_mean-age_std, age_mean+age_std))\n",
    "test_data['Age'] = test_data['Age'].fillna(value= np.random.uniform(age_mean-age_std, age_mean+age_std))\n",
    "\n",
    "# x_train, x_test, y_train, y_test = train_test_split(train_data.drop(['Survived'],axis = 1), train_data['Survived'], test_size = 0.2)\n",
    "\n",
    "train_features = train_data.drop(['Survived'],axis = 1)\n",
    "train_labels = train_data['Survived']\n",
    "test_features = test_data\n",
    "\n",
    "rf = RandomForestClassifier(n_estimators=500)\n",
    "rf.fit(train_features, train_labels)\n",
    "\n",
    "    "
   ]
  },
  {
   "cell_type": "code",
   "execution_count": 97,
   "metadata": {},
   "outputs": [
    {
     "data": {
      "text/html": [
       "<style type=\"text/css\">\n",
       "</style>\n",
       "<table id=\"T_f2160\">\n",
       "  <thead>\n",
       "    <tr>\n",
       "      <th class=\"blank level0\" >&nbsp;</th>\n",
       "      <th id=\"T_f2160_level0_col0\" class=\"col_heading level0 col0\" >Pclass</th>\n",
       "      <th id=\"T_f2160_level0_col1\" class=\"col_heading level0 col1\" >Sex</th>\n",
       "      <th id=\"T_f2160_level0_col2\" class=\"col_heading level0 col2\" >Age</th>\n",
       "      <th id=\"T_f2160_level0_col3\" class=\"col_heading level0 col3\" >SibSp</th>\n",
       "      <th id=\"T_f2160_level0_col4\" class=\"col_heading level0 col4\" >Parch</th>\n",
       "      <th id=\"T_f2160_level0_col5\" class=\"col_heading level0 col5\" >Fare</th>\n",
       "      <th id=\"T_f2160_level0_col6\" class=\"col_heading level0 col6\" >Embarked</th>\n",
       "    </tr>\n",
       "  </thead>\n",
       "  <tbody>\n",
       "    <tr>\n",
       "      <th id=\"T_f2160_level0_row0\" class=\"row_heading level0 row0\" >204</th>\n",
       "      <td id=\"T_f2160_row0_col0\" class=\"data row0 col0\" >2</td>\n",
       "      <td id=\"T_f2160_row0_col1\" class=\"data row0 col1\" >1</td>\n",
       "      <td id=\"T_f2160_row0_col2\" class=\"data row0 col2\" >25.000000</td>\n",
       "      <td id=\"T_f2160_row0_col3\" class=\"data row0 col3\" >0</td>\n",
       "      <td id=\"T_f2160_row0_col4\" class=\"data row0 col4\" >0</td>\n",
       "      <td id=\"T_f2160_row0_col5\" class=\"data row0 col5\" >10.500000</td>\n",
       "      <td id=\"T_f2160_row0_col6\" class=\"data row0 col6\" >2</td>\n",
       "    </tr>\n",
       "    <tr>\n",
       "      <th id=\"T_f2160_level0_row1\" class=\"row_heading level0 row1\" >266</th>\n",
       "      <td id=\"T_f2160_row1_col0\" class=\"data row1 col0\" >1</td>\n",
       "      <td id=\"T_f2160_row1_col1\" class=\"data row1 col1\" >1</td>\n",
       "      <td id=\"T_f2160_row1_col2\" class=\"data row1 col2\" >19.299097</td>\n",
       "      <td id=\"T_f2160_row1_col3\" class=\"data row1 col3\" >0</td>\n",
       "      <td id=\"T_f2160_row1_col4\" class=\"data row1 col4\" >0</td>\n",
       "      <td id=\"T_f2160_row1_col5\" class=\"data row1 col5\" >0.000000</td>\n",
       "      <td id=\"T_f2160_row1_col6\" class=\"data row1 col6\" >2</td>\n",
       "    </tr>\n",
       "    <tr>\n",
       "      <th id=\"T_f2160_level0_row2\" class=\"row_heading level0 row2\" >91</th>\n",
       "      <td id=\"T_f2160_row2_col0\" class=\"data row2 col0\" >3</td>\n",
       "      <td id=\"T_f2160_row2_col1\" class=\"data row2 col1\" >1</td>\n",
       "      <td id=\"T_f2160_row2_col2\" class=\"data row2 col2\" >19.299097</td>\n",
       "      <td id=\"T_f2160_row2_col3\" class=\"data row2 col3\" >0</td>\n",
       "      <td id=\"T_f2160_row2_col4\" class=\"data row2 col4\" >0</td>\n",
       "      <td id=\"T_f2160_row2_col5\" class=\"data row2 col5\" >7.775000</td>\n",
       "      <td id=\"T_f2160_row2_col6\" class=\"data row2 col6\" >2</td>\n",
       "    </tr>\n",
       "  </tbody>\n",
       "</table>\n"
      ],
      "text/plain": [
       "<pandas.io.formats.style.Styler at 0x1c7292f99a0>"
      ]
     },
     "execution_count": 97,
     "metadata": {},
     "output_type": "execute_result"
    }
   ],
   "source": [
    "print(test_data.)\n",
    "# predict_labels = rf.predict(test_features)\n",
    "# print(test_data.sampele(n=3).style)\n",
    "# result = pd.DataFrame({\"PassengerId\": test_data_og[\"PassengerId\"],\n",
    "#                         \"Survived\":predictions\n",
    "                        # })"
   ]
  },
  {
   "cell_type": "code",
   "execution_count": null,
   "metadata": {},
   "outputs": [],
   "source": []
  }
 ],
 "metadata": {
  "kernelspec": {
   "display_name": "Coding prac",
   "language": "python",
   "name": "python3"
  },
  "language_info": {
   "codemirror_mode": {
    "name": "ipython",
    "version": 3
   },
   "file_extension": ".py",
   "mimetype": "text/x-python",
   "name": "python",
   "nbconvert_exporter": "python",
   "pygments_lexer": "ipython3",
   "version": "3.8.0"
  },
  "orig_nbformat": 4,
  "vscode": {
   "interpreter": {
    "hash": "f58c01d3280ef83fc61600421c7c5ac6e7ea2fe2e0e9fc76fa916fea3bc77b6d"
   }
  }
 },
 "nbformat": 4,
 "nbformat_minor": 2
}
